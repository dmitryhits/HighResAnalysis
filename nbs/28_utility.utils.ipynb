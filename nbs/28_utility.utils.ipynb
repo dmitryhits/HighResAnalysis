{
 "cells": [
  {
   "cell_type": "code",
   "execution_count": null,
   "metadata": {},
   "outputs": [],
   "source": [
    "#| default_exp utility.utils"
   ]
  },
  {
   "cell_type": "markdown",
   "metadata": {},
   "source": [
    "# UTILITY FUNCTIONS\n",
    "> various UTILITY FUNCTIONS (created on June 19th 2018 by M. Reichmann (remichae@phys.ethz.ch))"
   ]
  },
  {
   "cell_type": "code",
   "execution_count": null,
   "metadata": {},
   "outputs": [],
   "source": [
    "#| export\n",
    "import ROOT\n",
    "from os.path import isfile, exists, isdir, dirname, realpath, join, basename\n",
    "from os import makedirs, environ, devnull\n",
    "from subprocess import call\n",
    "from ROOT import TFile\n",
    "from json import loads\n",
    "from uncertainties import ufloat\n",
    "from uncertainties.core import Variable, AffineScalarFunc\n",
    "from numpy import sqrt, array, arange, mean, exp, concatenate, zeros, log2, log10, array_split, ndarray, full, frombuffer\n",
    "from progressbar import Bar, ETA, FileTransferSpeed, Percentage, ProgressBar, SimpleProgress, Widget\n",
    "import h5py\n",
    "import pickle\n",
    "from copy import deepcopy\n",
    "from inspect import signature\n",
    "from functools import wraps\n",
    "from HighResAnalysis.plotting.utils import info, critical, add_to_info, get_kw, time, remove_file\n",
    "from datetime import timedelta, datetime\n",
    "from multiprocessing import Pool, cpu_count\n",
    "from hashlib import md5, sha256\n",
    "from pathlib import Path"
   ]
  },
  {
   "cell_type": "code",
   "execution_count": null,
   "metadata": {},
   "outputs": [],
   "source": [
    "#| export\n",
    "ROOT.PyConfig.IgnoreCommandLineOptions = True  # disable ROOT overwriting the help settings..."
   ]
  },
  {
   "cell_type": "code",
   "execution_count": null,
   "metadata": {},
   "outputs": [],
   "source": [
    "#| export\n",
    "try:\n",
    "    Dir = Path(__file__).resolve().parent.parent\n",
    "except NameError:\n",
    "    Dir = Path().resolve().parent/\"HighResAnalysis\""
   ]
  },
  {
   "cell_type": "code",
   "execution_count": null,
   "metadata": {},
   "outputs": [],
   "source": [
    "#| export\n",
    "type_dict = {'int32': 'I',\n",
    "             'uint16': 's',\n",
    "             'float64': 'D',\n",
    "             'int64': 'L'}"
   ]
  },
  {
   "cell_type": "code",
   "execution_count": null,
   "metadata": {},
   "outputs": [],
   "source": [
    "#| exporti\n",
    "\n",
    "GREEN = '\\033[92m'\n",
    "WHITE = '\\033[98m'\n",
    "ENDC = '\\033[0m'\n",
    "YELLOW = '\\033[93m'\n",
    "CYAN = '\\033[96m'\n",
    "RED = '\\033[91m'\n",
    "UP1 = '\\033[1A'\n",
    "ERASE = '\\033[K'"
   ]
  },
  {
   "cell_type": "code",
   "execution_count": null,
   "metadata": {},
   "outputs": [],
   "source": [
    "#| export\n",
    "def move_up(n):\n",
    "    print('\\033[{}A'.format(n))"
   ]
  },
  {
   "cell_type": "code",
   "execution_count": null,
   "metadata": {},
   "outputs": [],
   "source": [
    "#| export\n",
    "def file_exists(filename):\n",
    "    return isfile(filename)"
   ]
  },
  {
   "cell_type": "code",
   "execution_count": null,
   "metadata": {},
   "outputs": [],
   "source": [
    "#| export\n",
    "def dir_exists(path):\n",
    "    return isdir(path)"
   ]
  },
  {
   "cell_type": "code",
   "execution_count": null,
   "metadata": {},
   "outputs": [],
   "source": [
    "#| export\n",
    "def time_stamp(dt, off=None):\n",
    "    t = float(dt.strftime('%s'))\n",
    "    return t if off is None else t - (off if off > 1 else dt.utcoffset().seconds)"
   ]
  },
  {
   "cell_type": "code",
   "execution_count": null,
   "metadata": {},
   "outputs": [],
   "source": [
    "#| export\n",
    "def print_elapsed_time(start, what='This', show=True, color=WHITE):\n",
    "    string = f'Elapsed time for {what}: {get_elapsed_time(start)}'\n",
    "    print_banner(string, color=color) if show else do_nothing()\n",
    "    return time()"
   ]
  },
  {
   "cell_type": "code",
   "execution_count": null,
   "metadata": {},
   "outputs": [],
   "source": [
    "#| export\n",
    "def get_elapsed_time(start, hrs=False):\n",
    "    t = str(timedelta(seconds=round(time() - start, 0 if hrs else 2)))\n",
    "    return t if hrs else t[2:-4]"
   ]
  },
  {
   "cell_type": "code",
   "execution_count": null,
   "metadata": {},
   "outputs": [],
   "source": [
    "#| export\n",
    "def average_list(lst, n):\n",
    "    return [mean(lst[i:i+n]) for i in arange(0, len(lst), n)] if n > 1 else lst"
   ]
  },
  {
   "cell_type": "code",
   "execution_count": null,
   "metadata": {},
   "outputs": [],
   "source": [
    "#| export\n",
    "def round_down_to(num, val=1):\n",
    "    return int(num) // val * val"
   ]
  },
  {
   "cell_type": "code",
   "execution_count": null,
   "metadata": {},
   "outputs": [],
   "source": [
    "#| export\n",
    "def round_up_to(num, val=1):\n",
    "    return int(num) // val * val + val"
   ]
  },
  {
   "cell_type": "code",
   "execution_count": null,
   "metadata": {},
   "outputs": [],
   "source": [
    "#| export\n",
    "def get_base_dir():\n",
    "    return dirname(dirname(realpath(__file__)))"
   ]
  },
  {
   "cell_type": "code",
   "execution_count": null,
   "metadata": {},
   "outputs": [],
   "source": [
    "#| export\n",
    "def ensure_dir(path):\n",
    "    if not exists(path):\n",
    "        info('Creating directory: {d}'.format(d=path))\n",
    "        makedirs(path)\n",
    "    return path"
   ]
  },
  {
   "cell_type": "code",
   "execution_count": null,
   "metadata": {},
   "outputs": [],
   "source": [
    "#| export\n",
    "def isint(x):\n",
    "    try:\n",
    "        return float(x) == int(x)\n",
    "    except (ValueError, TypeError):\n",
    "        return False"
   ]
  },
  {
   "cell_type": "code",
   "execution_count": null,
   "metadata": {},
   "outputs": [],
   "source": [
    "#| export\n",
    "def is_iter(v):\n",
    "    try:\n",
    "        iter(v)\n",
    "        return True\n",
    "    except TypeError:\n",
    "        return False"
   ]
  },
  {
   "cell_type": "code",
   "execution_count": null,
   "metadata": {},
   "outputs": [],
   "source": [
    "#| export\n",
    "def is_num(string):\n",
    "    try:\n",
    "        float(string)\n",
    "        return True\n",
    "    except ValueError:\n",
    "        return False"
   ]
  },
  {
   "cell_type": "code",
   "execution_count": null,
   "metadata": {},
   "outputs": [],
   "source": [
    "#| export\n",
    "def colored(string, color=None):\n",
    "    return string if color is None else '{}{}{}'.format(color, string, ENDC)"
   ]
  },
  {
   "cell_type": "code",
   "execution_count": null,
   "metadata": {},
   "outputs": [],
   "source": [
    "#| export\n",
    "def small_banner(msg, symbol='-', color=None):\n",
    "    print(colored('\\n{delim}\\n{msg}\\n'.format(delim=len(str(msg)) * symbol, msg=msg), color))"
   ]
  },
  {
   "cell_type": "code",
   "execution_count": null,
   "metadata": {},
   "outputs": [],
   "source": [
    "#| export\n",
    "def print_banner(msg, symbol='~', new_lines=1, color=None):\n",
    "    msg = '{} |'.format(msg)\n",
    "    print(colored('{n}{delim}\\n{msg}\\n{delim}{n}'.format(delim=len(str(msg)) * symbol, msg=msg, n='\\n' * new_lines), color))"
   ]
  },
  {
   "cell_type": "code",
   "execution_count": null,
   "metadata": {},
   "outputs": [],
   "source": [
    "#| export\n",
    "def prime_factors(n):\n",
    "    factors = []\n",
    "    while n % 2 == 0:  # even dividers\n",
    "        factors.append(2)\n",
    "        n /= 2\n",
    "    for i in range(3, int(sqrt(n)) + 1, 2):  # odd dividers\n",
    "        while n % i == 0:\n",
    "            factors.append(i)\n",
    "            n /= i\n",
    "    if n > 2:\n",
    "        factors.append(int(n))\n",
    "    return factors"
   ]
  },
  {
   "cell_type": "code",
   "execution_count": null,
   "metadata": {},
   "outputs": [],
   "source": [
    "#| export\n",
    "def do_nothing():\n",
    "    pass"
   ]
  },
  {
   "cell_type": "code",
   "execution_count": null,
   "metadata": {},
   "outputs": [],
   "source": [
    "#| export\n",
    "def has_root():\n",
    "    try:\n",
    "        import ROOT\n",
    "        return True\n",
    "    except ImportError:\n",
    "        return False"
   ]
  },
  {
   "cell_type": "code",
   "execution_count": null,
   "metadata": {},
   "outputs": [],
   "source": [
    "#| export\n",
    "def open_root_file(filename, option=''):\n",
    "    if file_exists(filename):\n",
    "        return TFile(str(filename), option)\n",
    "    critical(f'The file: \"{filename}\" does not exist...')"
   ]
  },
  {
   "cell_type": "code",
   "execution_count": null,
   "metadata": {},
   "outputs": [],
   "source": [
    "#| export\n",
    "def create_root_file(filename, option='recreate'):\n",
    "    return TFile(str(filename), option)"
   ]
  },
  {
   "cell_type": "code",
   "execution_count": null,
   "metadata": {},
   "outputs": [],
   "source": [
    "#| export\n",
    "def choose(v, default, decider='None', *args, **kwargs):\n",
    "    use_default = decider is None if decider != 'None' else v is None\n",
    "    if callable(default) and use_default:\n",
    "        default = default(*args, **kwargs)\n",
    "    return default if use_default else v"
   ]
  },
  {
   "cell_type": "code",
   "execution_count": null,
   "metadata": {},
   "outputs": [],
   "source": [
    "#| export\n",
    "def remove_letters(string):\n",
    "    return ''.join(filter(lambda x: x.isdigit(), string))"
   ]
  },
  {
   "cell_type": "code",
   "execution_count": null,
   "metadata": {},
   "outputs": [],
   "source": [
    "#| export\n",
    "def remove_digits(string):\n",
    "    return ''.join(filter(lambda x: not x.isdigit(), string))"
   ]
  },
  {
   "cell_type": "code",
   "execution_count": null,
   "metadata": {},
   "outputs": [],
   "source": [
    "#| export\n",
    "def interpolate_two_points(x1, y1, x2, y2, name=''):\n",
    "    # f = p1*x + p0\n",
    "    p1 = (y1 - y2) / (x1 - x2)\n",
    "    p0 = y1 - x1 * p1\n",
    "    w = abs(x2 - x1)\n",
    "    fit_range = array(sorted([x1, x2])) + [-w / 3., w / 3.]\n",
    "    f = TF1('fpol1{}'.format(name), 'pol1', *fit_range)\n",
    "    f.SetParameters(p0, p1)\n",
    "    return f"
   ]
  },
  {
   "cell_type": "code",
   "execution_count": null,
   "metadata": {},
   "outputs": [],
   "source": [
    "#| export\n",
    "def interpolate_x(x1, x2, y1, y2, y):\n",
    "    p1 = get_p1(x1, x2, y1, y2)\n",
    "    p0 = get_p0(x1, y1, p1)\n",
    "    return (y - p0) / p1 if p1 else 0"
   ]
  },
  {
   "cell_type": "code",
   "execution_count": null,
   "metadata": {},
   "outputs": [],
   "source": [
    "#| export\n",
    "def interpolate(x1, x2, y1, y2, x):\n",
    "    x1, x2, y1, y2 = [float(i) for i in [x1, x2, y1, y2]]\n",
    "    p1 = get_p1(float(x1), x2, y1, y2)\n",
    "    p0 = get_p0(x1, y1, p1)\n",
    "    return p1 * x + p0"
   ]
  },
  {
   "cell_type": "code",
   "execution_count": null,
   "metadata": {},
   "outputs": [],
   "source": [
    "#| export\n",
    "def get_p1(x1, x2, y1, y2):\n",
    "    return (y1 - y2) / (x1 - x2) if x1 != x2 else 0"
   ]
  },
  {
   "cell_type": "code",
   "execution_count": null,
   "metadata": {},
   "outputs": [],
   "source": [
    "#| export\n",
    "def get_p0(x1, y1, p1):\n",
    "    return y1 - x1 * p1"
   ]
  },
  {
   "cell_type": "code",
   "execution_count": null,
   "metadata": {},
   "outputs": [],
   "source": [
    "#| export\n",
    "def make_ufloat(n, s=0):\n",
    "    return array([ufloat(*v) for v in array([n, s]).T]) if is_iter(n) else n if is_ufloat(n) else ufloat(n, s)"
   ]
  },
  {
   "cell_type": "code",
   "execution_count": null,
   "metadata": {},
   "outputs": [],
   "source": [
    "#| export\n",
    "def is_ufloat(value):\n",
    "    return type(value) in [Variable, AffineScalarFunc]"
   ]
  },
  {
   "cell_type": "code",
   "execution_count": null,
   "metadata": {},
   "outputs": [],
   "source": [
    "#| export\n",
    "def byte2str(v):\n",
    "    n = int(log2(v) // 10) if v else 0\n",
    "    return '{:1.1f} {}'.format(v / 2 ** (10 * n), ['B', 'kB', 'MB', 'GB'][n])"
   ]
  },
  {
   "cell_type": "code",
   "execution_count": null,
   "metadata": {},
   "outputs": [],
   "source": [
    "#| export\n",
    "def ev2str(v):\n",
    "    n = int(log10(v) // 3)\n",
    "    return f'{v / 10 ** (3 * n):.{2 if n > 1 else 0}f}{[\"\", \"k\", \"M\"][n]}'"
   ]
  },
  {
   "cell_type": "code",
   "execution_count": null,
   "metadata": {},
   "outputs": [],
   "source": [
    "#| export\n",
    "def bias2str(*bias):\n",
    "    return array([f'{i:+.0f} V' for i in bias])[... if len(bias) > 1 else 0]"
   ]
  },
  {
   "cell_type": "code",
   "execution_count": null,
   "metadata": {},
   "outputs": [],
   "source": [
    "#| export\n",
    "def bias2rootstr(*bias):\n",
    "    return array([f'{i:+.0f} V'.replace('+-', '#pm').replace('+/-', '#pm').replace('+', '#plus').replace('-', '#minus') for i in bias])[... if len(bias) > 1 else 0]"
   ]
  },
  {
   "cell_type": "code",
   "execution_count": null,
   "metadata": {},
   "outputs": [],
   "source": [
    "#| export\n",
    "def get_buf(buf, n, dtype=None):\n",
    "    return frombuffer(buf, dtype=buf.typecode, count=n).astype(dtype)"
   ]
  },
  {
   "cell_type": "code",
   "execution_count": null,
   "metadata": {},
   "outputs": [],
   "source": [
    "#| export\n",
    "def get_tree_vec(tree, var, cut='', dtype=None, nentries=None, firstentry=0):\n",
    "    strings = make_list(var)\n",
    "    n = tree.Draw(':'.join(strings), cut, 'goff', choose(nentries, tree.kMaxEntries), firstentry)\n",
    "    dtypes = dtype if type(dtype) in [list, ndarray] else full(len(strings), dtype)\n",
    "    vals = [get_buf(tree.GetVal(i), n, dtypes[i]) for i in range(len(strings))]\n",
    "    return vals[0] if len(vals) == 1 else vals"
   ]
  },
  {
   "cell_type": "code",
   "execution_count": null,
   "metadata": {},
   "outputs": [],
   "source": [
    "#| export\n",
    "def make_list(value, dtype=None):\n",
    "    v = value if is_iter(value) and not type(value) is str else array([choose(value, [])]).flatten()\n",
    "    return v.tolist() if dtype == list else v.astype(dtype) if dtype is not None else v"
   ]
  },
  {
   "cell_type": "code",
   "execution_count": null,
   "metadata": {},
   "outputs": [],
   "source": [
    "#| export\n",
    "def uarr2n(arr):\n",
    "    return array([i.n for i in arr]) if len(arr) and is_ufloat(arr[0]) else arr"
   ]
  },
  {
   "cell_type": "code",
   "execution_count": null,
   "metadata": {},
   "outputs": [],
   "source": [
    "#| export\n",
    "def uarr2s(arr):\n",
    "    return array([i.s for i in arr]) if len(arr) and is_ufloat(arr[0]) else arr"
   ]
  },
  {
   "cell_type": "code",
   "execution_count": null,
   "metadata": {},
   "outputs": [],
   "source": [
    "#| export\n",
    "def gauss(x, scale, mean_, sigma, off=0):\n",
    "    return scale * exp(-.5 * ((x - mean_) / sigma) ** 2) + off"
   ]
  },
  {
   "cell_type": "code",
   "execution_count": null,
   "metadata": {},
   "outputs": [],
   "source": [
    "#| export\n",
    "def do_hdf5(path, func, redo=False, *args, **kwargs):\n",
    "    if file_exists(path) and redo:\n",
    "        remove_file(path)\n",
    "    if file_exists(path) and not redo:\n",
    "        return h5py.File(path, 'r')['data']\n",
    "    else:\n",
    "        data = func(*args, **kwargs)\n",
    "        f = h5py.File(path, 'w')\n",
    "        info('creating {}'.format(join(basename(dirname(path)), basename(path))))\n",
    "        f.create_dataset('data', data=data)\n",
    "        return f['data']"
   ]
  },
  {
   "cell_type": "code",
   "execution_count": null,
   "metadata": {},
   "outputs": [],
   "source": [
    "#| export\n",
    "def do_pickle(path, func=None, value=None, redo=False, *args, **kwargs):\n",
    "    if value is not None:\n",
    "        with open(path, 'wb') as f:\n",
    "            pickle.dump(value, f)\n",
    "        return value\n",
    "    try:\n",
    "        if file_exists(path) and not redo:\n",
    "            with open(path, 'rb') as f:\n",
    "                return pickle.load(f)\n",
    "    except ImportError:\n",
    "        pass\n",
    "    ret_val = func(*args, **kwargs)\n",
    "    with open(path, 'wb') as f:\n",
    "        pickle.dump(ret_val, f)\n",
    "    return ret_val"
   ]
  },
  {
   "cell_type": "code",
   "execution_count": null,
   "metadata": {},
   "outputs": [],
   "source": [
    "#| export\n",
    "def print_table(rows, header=None, footer=None, prnt=True):\n",
    "    head, foot = [choose([v], zeros((0, len(rows[0]))), v) for v in [header, footer]]\n",
    "    t = concatenate([head, rows, foot]).astype('str')\n",
    "    col_width = [len(max(t[:, i], key=len)) for i in range(t.shape[1])]\n",
    "    total_width = sum(col_width) + len(col_width) * 3 + 1\n",
    "    hline = '{}'.format('~' * total_width)\n",
    "    if prnt:\n",
    "        for i, row in enumerate(t):\n",
    "            if i in [0] + choose([1], [], header) + choose([t.shape[0] - 1], [], footer):\n",
    "                print(hline)\n",
    "            print('| {r} |'.format(r=' | '.join(word.ljust(n) for word, n in zip(row, col_width))))\n",
    "        print('{}\\n'.format(hline))\n",
    "    return rows"
   ]
  },
  {
   "cell_type": "code",
   "execution_count": null,
   "metadata": {},
   "outputs": [],
   "source": [
    "#| export\n",
    "def merge_root_files(files, new_file_name):\n",
    "    with open(devnull, 'w') as f:\n",
    "        call([join(environ.get('ROOTSYS'), 'bin', 'hadd'), '-f', new_file_name] + files, stdout=f)\n",
    "    info('successfully merged the single files to \"{}\"'.format(basename(new_file_name)))\n",
    "\n",
    "\n",
    "# ----------------------------------------\n",
    "# region CLASSES"
   ]
  },
  {
   "cell_type": "code",
   "execution_count": null,
   "metadata": {},
   "outputs": [],
   "source": [
    "#| export\n",
    "def update_pbar(func):\n",
    "    @wraps(func)\n",
    "    def my_func(*args, **kwargs):\n",
    "        value = func(*args, **kwargs)\n",
    "        if PBAR is not None and PBAR.PBar is not None and not PBAR.is_finished():\n",
    "            PBAR.update()\n",
    "        return value\n",
    "    return my_func"
   ]
  },
  {
   "cell_type": "code",
   "execution_count": null,
   "metadata": {},
   "outputs": [],
   "source": [
    "#| export\n",
    "class PBar(object):\n",
    "    def __init__(self, start=None, counter=False, t=None):\n",
    "        self.PBar = None\n",
    "        self.Widgets = self.init_widgets(counter, t)\n",
    "        self.Step = 0\n",
    "        self.N = 0\n",
    "        self.start(start)\n",
    "\n",
    "    def __reduce__(self):\n",
    "        return self.__class__, (None, False, None), (self.Widgets, self.Step, self.N)\n",
    "\n",
    "    def __setstate__(self, state):\n",
    "        self.Widgets, self.Step, self.N = state\n",
    "        if self.N:\n",
    "            self.PBar = ProgressBar(widgets=self.Widgets, maxval=self.N).start()\n",
    "            self.update(self.Step) if self.Step > 0 else do_nothing()\n",
    "\n",
    "    @staticmethod\n",
    "    def init_widgets(counter, t):\n",
    "        return ['Progress: ', SimpleProgress('/') if counter else Percentage(), ' ', Bar(marker='>'), ' ', ETA(), ' ', FileTransferSpeed() if t is None else EventSpeed(t)]\n",
    "\n",
    "    def start(self, n, counter=None, t=None):\n",
    "        if n is not None:\n",
    "            self.Step = 0\n",
    "            self.PBar = ProgressBar(widgets=self.Widgets if t is None and counter is None else self.init_widgets(counter, t), maxval=n).start()\n",
    "            self.N = n\n",
    "\n",
    "    def update(self, i=None):\n",
    "        i = self.Step if i is None else i\n",
    "        if i >= self.PBar.maxval:\n",
    "            return\n",
    "        self.PBar.update(i + 1)\n",
    "        self.Step += 1\n",
    "        if i == self.PBar.maxval - 1:\n",
    "            self.finish()\n",
    "\n",
    "    def set_last(self):\n",
    "        if self.PBar:\n",
    "            self.PBar.currval = self.N\n",
    "            self.PBar.finished = True\n",
    "\n",
    "    def finish(self):\n",
    "        self.PBar.finish()\n",
    "\n",
    "    def is_finished(self):\n",
    "        return self.PBar.currval == self.N\n",
    "\n",
    "    def eta(self, i, h, m, s=0):\n",
    "        self.PBar.start_time = time_stamp(datetime.now() - timedelta(hours=h, minutes=m, seconds=s))\n",
    "        self.update(i - 1)"
   ]
  },
  {
   "cell_type": "code",
   "execution_count": null,
   "metadata": {},
   "outputs": [],
   "source": [
    "#| export\n",
    "class EventSpeed(Widget):\n",
    "    \"\"\"Widget for showing the event speed (useful for slow updates).\"\"\"\n",
    "\n",
    "    def __init__(self, t='s'):\n",
    "        self.unit = t\n",
    "        self.factor = {'s': 1, 'min': 60, 'h': 60 * 60}[t]\n",
    "\n",
    "    def update(self, pbar):\n",
    "        value = 0\n",
    "        if pbar.seconds_elapsed > 2e-6 and pbar.currval > 2e-6:\n",
    "            value = pbar.currval / pbar.seconds_elapsed * self.factor\n",
    "        return f'{value:4.1f} E/{self.unit}'"
   ]
  },
  {
   "cell_type": "code",
   "execution_count": null,
   "metadata": {},
   "outputs": [],
   "source": [
    "#| export\n",
    "PBAR = PBar()\n",
    "# endregion CLASSES\n",
    "# ----------------------------------------"
   ]
  },
  {
   "cell_type": "code",
   "execution_count": null,
   "metadata": {},
   "outputs": [],
   "source": [
    "#| export\n",
    "def prep_kw(dic, **default):\n",
    "    d = deepcopy(dic)\n",
    "    for kw, value in default.items():\n",
    "        if kw not in d:\n",
    "            d[kw] = value\n",
    "    return d"
   ]
  },
  {
   "cell_type": "code",
   "execution_count": null,
   "metadata": {},
   "outputs": [],
   "source": [
    "#| export\n",
    "def get_field(obj, field: str):\n",
    "    if '.' in field:\n",
    "        return get_field(getattr(obj, field.split('.')[0]), '.'.join(field.split('.')[1:]))\n",
    "    return getattr(obj, field) if hasattr(obj, field) else None"
   ]
  },
  {
   "cell_type": "code",
   "execution_count": null,
   "metadata": {},
   "outputs": [],
   "source": [
    "#| export\n",
    "def make_suffix(*values):\n",
    "    vals = [md5(val).hexdigest() if type(val) is ndarray else f'{int(val):.0f}' if isint(val) else val for val in values if val is not None]\n",
    "    return '_'.join(str(val) for val in vals)"
   ]
  },
  {
   "cell_type": "code",
   "execution_count": null,
   "metadata": {},
   "outputs": [],
   "source": [
    "#| export\n",
    "def prep_suffix(f, ana, args, kwargs, suf_args, field=None):\n",
    "    def_pars = signature(f).parameters\n",
    "    names, values = list(def_pars.keys())[1:], [par.default for par in def_pars.values()][1:]  # first par is class instance\n",
    "    i_arg = arange(len([n for n in names if n not in ['self', '_redo', '_save']])) if suf_args == 'all' else make_list(loads(str(suf_args)))\n",
    "    suf_vals = [args[i] if len(args) > i else kwargs[names[i]] if names[i] in kwargs else values[i] for i in i_arg]\n",
    "    suf_vals += [] if field is None else [get_field(ana, field)]\n",
    "    return make_suffix(*suf_vals)"
   ]
  },
  {
   "cell_type": "code",
   "execution_count": null,
   "metadata": {},
   "outputs": [],
   "source": [
    "#| export\n",
    "def load_pickle(file_name):\n",
    "    with open(file_name, 'rb') as f:\n",
    "        return pickle.load(f)"
   ]
  },
  {
   "cell_type": "code",
   "execution_count": null,
   "metadata": {},
   "outputs": [],
   "source": [
    "#| export\n",
    "def save_pickle(*pargs, print_dur=False, low_rate=False, high_rate=False, suf_args='[]', field=None, verbose=False, **pkwargs):\n",
    "    def inner(func):\n",
    "        @wraps(func)\n",
    "        def wrapper(ana, *args, **kwargs):\n",
    "            run = ana.Run.get_high_rate_run(high=not low_rate) if low_rate or high_rate else None\n",
    "            pickle_path = ana.make_pickle_path(*pargs, **prep_kw(pkwargs, run=run, suf=prep_suffix(func, ana, args, kwargs, suf_args, field)))\n",
    "            info(f'Pickle path: {pickle_path}', prnt=verbose)\n",
    "            redo = (kwargs['_redo'] if '_redo' in kwargs else False) or (kwargs['show'] if 'show' in kwargs else False)\n",
    "            if file_exists(pickle_path) and not redo:\n",
    "                return load_pickle(pickle_path)\n",
    "            if not get_kw('_save', kwargs, default=True):\n",
    "                return func(ana, *args, **kwargs)\n",
    "            prnt = print_dur and (kwargs['prnt'] if 'prnt' in kwargs else True)\n",
    "            t = (ana.info if hasattr(ana, 'info') else info)(f'{ana.__class__.__name__}: {func.__name__.replace(\"_\", \" \")} ...', endl=False, prnt=prnt)\n",
    "            value = func(ana, *args, **kwargs)\n",
    "            with open(pickle_path, 'wb') as f:\n",
    "                pickle.dump(value, f)\n",
    "            (ana.add_to_info if hasattr(ana, 'add_to_info') else add_to_info)(t, prnt=prnt)\n",
    "            return value\n",
    "        return wrapper\n",
    "    return inner"
   ]
  },
  {
   "cell_type": "code",
   "execution_count": null,
   "metadata": {},
   "outputs": [],
   "source": [
    "#| export\n",
    "def save_hdf5(*pargs, arr=False, dtype=None, suf_args='[]', field=None, verbose=False, **pkwargs):\n",
    "    def inner(f):\n",
    "        @wraps(f)\n",
    "        def wrapper(ana, *args, **kwargs):\n",
    "            file_path = ana.make_hdf5_path(*pargs, **prep_kw(pkwargs, suf=prep_suffix(f, ana, args, kwargs, suf_args, field)))\n",
    "            info(f'HDF5 path: {file_path}', prnt=verbose)\n",
    "            redo = kwargs['_redo'] if '_redo' in kwargs else False\n",
    "            if file_exists(file_path) and not redo:\n",
    "                d = h5py.File(file_path, 'r')['data']\n",
    "                return array(d) if arr else d\n",
    "            if not get_kw('_save', kwargs, default=True):\n",
    "                return f(ana, *args, **kwargs)\n",
    "            data = f(ana, *args, **kwargs)\n",
    "            if data is None:\n",
    "                return\n",
    "            remove_file(file_path)\n",
    "            hf = h5py.File(file_path, 'w')\n",
    "            hf.create_dataset('data', data=data.astype(choose(dtype, data.dtype)))\n",
    "            return array(hf['data']) if arr else hf['data']\n",
    "        return wrapper\n",
    "    return inner"
   ]
  },
  {
   "cell_type": "code",
   "execution_count": null,
   "metadata": {},
   "outputs": [],
   "source": [
    "#| export\n",
    "def parallel(fp, what='something'):\n",
    "    def inner(f):\n",
    "        @wraps(f)\n",
    "        def my_f(ana, *args, **kwargs):\n",
    "            with Pool() as pool:\n",
    "                ana.info(f'generate {what} for {ana}')\n",
    "                r = f(ana, *args, **kwargs)\n",
    "                d, fargs = (r[0], r[1:]) if len(r) > 1 else (r, [])\n",
    "                pbar = PBar(d.shape[0] // cpu_count())\n",
    "                f_ = getattr(ana.__class__, fp)\n",
    "                result = pool.starmap(_parallel, [(f_, d, i, pbar, *fargs) for i in array_split(arange(d.shape[0]), cpu_count())])\n",
    "                return concatenate(result)\n",
    "        return my_f\n",
    "    return inner"
   ]
  },
  {
   "cell_type": "code",
   "execution_count": null,
   "metadata": {},
   "outputs": [],
   "source": [
    "#| exporti\n",
    "def _parallel(f, d, i, pbar, *args):\n",
    "    ret = []\n",
    "    use_pbar = i[0] == 0\n",
    "    for v in d[i]:\n",
    "        if use_pbar:\n",
    "            pbar.update()\n",
    "        ret.append(f(v, *args))\n",
    "    return ret"
   ]
  },
  {
   "cell_type": "code",
   "execution_count": null,
   "metadata": {},
   "outputs": [],
   "source": [
    "#| export\n",
    "def eff2u(eff):\n",
    "    return ufloat(eff[0], mean(eff[1:]))"
   ]
  },
  {
   "cell_type": "code",
   "execution_count": null,
   "metadata": {},
   "outputs": [],
   "source": [
    "#| export\n",
    "def eff2str(eff, u='\\\\percent', f='.2f'):\n",
    "    return f'\\\\SIerr{{{eff[0]:{f}}}}{{{eff[2]:{f}}}}{{{eff[1]:{f}}}}{{{u}}}'"
   ]
  },
  {
   "cell_type": "code",
   "execution_count": null,
   "metadata": {},
   "outputs": [],
   "source": [
    "#| export\n",
    "def show_hdf5(f: h5py.File, *include, ex_str=None):\n",
    "    print('.')\n",
    "    for i0, (key, grp) in enumerate(f.items()):\n",
    "        if any([key == word for word in include]) or ex_str is None or ex_str not in key:\n",
    "            print(f'├── {key}')\n",
    "            for k, g in grp.items():\n",
    "                print(f'{\"│\" if i0 < len(f.keys()) - 1 else \" \"}   ├── {k}')\n",
    "                if hasattr(g, 'keys'):\n",
    "                    for i in g.keys():\n",
    "                        print(f'│   │   ├── {i}')"
   ]
  },
  {
   "cell_type": "code",
   "execution_count": null,
   "metadata": {},
   "outputs": [],
   "source": [
    "#| export\n",
    "def file_hash(fname, block_size=65536):\n",
    "\n",
    "    fhash = sha256()\n",
    "    with open(fname, 'rb') as f:\n",
    "        fb = f.read(block_size)     # Read from the file. Take in the amount declared above\n",
    "        while len(fb) > 0:          # While there is still data being read from the file\n",
    "            fhash.update(fb)        # Update the hash\n",
    "            fb = f.read(block_size) # Read the next block from the file\n",
    "\n",
    "    return fhash.hexdigest()"
   ]
  },
  {
   "cell_type": "code",
   "execution_count": null,
   "metadata": {},
   "outputs": [],
   "source": [
    "#| hide\n",
    "from nbdev import *\n",
    "nbdev_export()"
   ]
  },
  {
   "cell_type": "code",
   "execution_count": null,
   "metadata": {},
   "outputs": [],
   "source": []
  }
 ],
 "metadata": {
  "jupytext": {
   "split_at_heading": true
  },
  "kernelspec": {
   "display_name": "python3",
   "language": "python",
   "name": "python3"
  }
 },
 "nbformat": 4,
 "nbformat_minor": 4
}
