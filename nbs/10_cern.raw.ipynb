{
 "cells": [
  {
   "cell_type": "code",
   "execution_count": null,
   "metadata": {},
   "outputs": [],
   "source": [
    "#| default_exp cern.raw"
   ]
  },
  {
   "cell_type": "markdown",
   "metadata": {},
   "source": [
    "# Raw Data Processer (CERN)\n",
    "> raw file sub class for CERN (created on April 22nd 2022 by M. Reichmann (remichae@phys.ethz.ch))"
   ]
  },
  {
   "cell_type": "code",
   "execution_count": null,
   "metadata": {},
   "outputs": [],
   "source": [
    "#| export\n",
    "#!/usr/bin/env python"
   ]
  },
  {
   "cell_type": "code",
   "execution_count": null,
   "metadata": {},
   "outputs": [
    {
     "name": "stdout",
     "output_type": "stream",
     "text": [
      "Welcome to JupyROOT 6.26/10\n"
     ]
    }
   ],
   "source": [
    "#| export\n",
    "from HighResAnalysis.src.raw import Raw\n",
    "from HighResAnalysis.src.converter import Converter, Analysis"
   ]
  },
  {
   "cell_type": "code",
   "execution_count": null,
   "metadata": {},
   "outputs": [],
   "source": [
    "#| export\n",
    "class CERNRaw(Raw):\n",
    "\n",
    "    def __init__(self, c: Converter, load_file=False, step=-1):\n",
    "        self.Offset = 0\n",
    "        super().__init__(c, load_file, step)\n",
    "\n",
    "    def load_raw_file_path(self):\n",
    "        return self.DataDir.joinpath('tel', f'acq{self.Run.Info[\"telescope run\"]:03d}.bin')\n",
    "\n",
    "    def load_out_file_path(self):\n",
    "        return self.RawFilePath.with_name(f'tel-run{self.Run:04d}.root')\n",
    "\n",
    "    def load_soft_dir(self):\n",
    "        return self.Parent.SoftDir.joinpath(Analysis.Config.get('SOFTWARE', 'judith'))\n",
    "\n",
    "    @property\n",
    "    def soft(self):\n",
    "        return self.SoftDir.joinpath('Judith')\n",
    "\n",
    "    def options(self, max_events=None):\n",
    "        emax = f' -n {max_events}' if max_events is not None else ''\n",
    "        return f'-c convert -m {self.SoftDir.joinpath(\"configs\", \"readout\", \"CERN.cfg\")}{f\" -s {self.Offset}\" if self.Offset else \"\"}{emax}'\n",
    "\n",
    "    def convert(self, max_events=None):  # update doc str\n",
    "        \"\"\"convert binary raw file (from KARTEL telescope) to root file with judith.\"\"\"\n",
    "        super().convert()"
   ]
  },
  {
   "cell_type": "code",
   "execution_count": null,
   "metadata": {},
   "outputs": [],
   "source": [
    "#| hide\n",
    "from nbdev import *\n",
    "nbdev_export()"
   ]
  },
  {
   "cell_type": "code",
   "execution_count": null,
   "metadata": {},
   "outputs": [],
   "source": []
  }
 ],
 "metadata": {
  "jupytext": {
   "split_at_heading": true
  },
  "kernelspec": {
   "display_name": "Python 3 (ipykernel)",
   "language": "python",
   "name": "python3"
  }
 },
 "nbformat": 4,
 "nbformat_minor": 4
}
