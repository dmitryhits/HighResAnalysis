{
 "cells": [
  {
   "cell_type": "code",
   "execution_count": null,
   "metadata": {},
   "outputs": [],
   "source": [
    "#| default_exp plotting.utils"
   ]
  },
  {
   "cell_type": "markdown",
   "metadata": {},
   "source": [
    "# PLOTTING UTILITY FUNCTIONS\n",
    "> created on October 27th 2021 by M. Reichmann"
   ]
  },
  {
   "cell_type": "code",
   "execution_count": null,
   "metadata": {},
   "outputs": [],
   "source": [
    "#| export\n",
    "from configparser import ConfigParser, NoOptionError, NoSectionError\n",
    "from copy import deepcopy\n",
    "from datetime import datetime\n",
    "from time import time\n",
    "from json import loads, load\n",
    "from os import _exit, makedirs, remove\n",
    "from os.path import exists, isfile, join, sep\n",
    "from pathlib import Path\n",
    "from subprocess import check_call, check_output\n",
    "\n",
    "from numpy import array, zeros, count_nonzero, sqrt, average, full, all, arctan2, cos, sin, corrcoef, mean\n",
    "from uncertainties import ufloat_fromstr, ufloat\n",
    "from uncertainties.core import Variable, AffineScalarFunc\n",
    "from inspect import getframeinfo, stack"
   ]
  },
  {
   "cell_type": "code",
   "execution_count": null,
   "metadata": {},
   "outputs": [],
   "source": [
    "#| export\n",
    "try:\n",
    "    BaseDir = Path(__file__).resolve().parent.parent\n",
    "except NameError:\n",
    "    BaseDir = Path()"
   ]
  },
  {
   "cell_type": "code",
   "execution_count": null,
   "metadata": {},
   "outputs": [],
   "source": [
    "#| export\n",
    "ON = True"
   ]
  },
  {
   "cell_type": "code",
   "execution_count": null,
   "metadata": {},
   "outputs": [],
   "source": [
    "#| export\n",
    "OFF = False"
   ]
  },
  {
   "cell_type": "code",
   "execution_count": null,
   "metadata": {},
   "outputs": [],
   "source": [
    "#| exporti\n",
    "GREEN = '\\033[92m'"
   ]
  },
  {
   "cell_type": "code",
   "execution_count": null,
   "metadata": {},
   "outputs": [],
   "source": [
    "#| exporti\n",
    "WHITE = '\\033[98m'"
   ]
  },
  {
   "cell_type": "code",
   "execution_count": null,
   "metadata": {},
   "outputs": [],
   "source": [
    "#| exporti\n",
    "ENDC = '\\033[0m'"
   ]
  },
  {
   "cell_type": "code",
   "execution_count": null,
   "metadata": {},
   "outputs": [],
   "source": [
    "#| exporti\n",
    "YELLOW = '\\033[93m'"
   ]
  },
  {
   "cell_type": "code",
   "execution_count": null,
   "metadata": {},
   "outputs": [],
   "source": [
    "#| exporti\n",
    "CYAN = '\\033[96m'"
   ]
  },
  {
   "cell_type": "code",
   "execution_count": null,
   "metadata": {},
   "outputs": [],
   "source": [
    "#| exporti\n",
    "RED = '\\033[91m'"
   ]
  },
  {
   "cell_type": "code",
   "execution_count": null,
   "metadata": {},
   "outputs": [],
   "source": [
    "#| exporti\n",
    "UP1 = '\\033[1A'"
   ]
  },
  {
   "cell_type": "code",
   "execution_count": null,
   "metadata": {},
   "outputs": [],
   "source": [
    "#| exporti\n",
    "ERASE = '\\033[K'"
   ]
  },
  {
   "cell_type": "code",
   "execution_count": null,
   "metadata": {},
   "outputs": [],
   "source": [
    "#| export\n",
    "COUNT = 0"
   ]
  },
  {
   "cell_type": "code",
   "execution_count": null,
   "metadata": {},
   "outputs": [],
   "source": [
    "#| export\n",
    "def get_t_str():\n",
    "    return datetime.now().strftime('%H:%M:%S')"
   ]
  },
  {
   "cell_type": "code",
   "execution_count": null,
   "metadata": {},
   "outputs": [],
   "source": [
    "#| export\n",
    "def colored(txt, color=None):\n",
    "    return f'{color}{txt}{ENDC}' if color else txt"
   ]
  },
  {
   "cell_type": "code",
   "execution_count": null,
   "metadata": {},
   "outputs": [],
   "source": [
    "#| export\n",
    "def prnt_msg(txt, head='', color=None, blank_lines=0, endl=True, prnt=True):\n",
    "    if prnt:\n",
    "        print('\\n' * blank_lines + f'\\r{colored(f\"{head}:\", color):<18} {get_t_str()} --> {txt}', end='\\n' if endl else ' ')"
   ]
  },
  {
   "cell_type": "code",
   "execution_count": null,
   "metadata": {},
   "outputs": [],
   "source": [
    "#| export\n",
    "def info(txt, blank_lines=0, endl=True, prnt=True):\n",
    "    prnt_msg(txt, 'INFO', GREEN, blank_lines, endl, prnt)\n",
    "    return time()"
   ]
  },
  {
   "cell_type": "code",
   "execution_count": null,
   "metadata": {},
   "outputs": [],
   "source": [
    "#| export\n",
    "def add_to_info(t, msg='Done', color=None, prnt=True):\n",
    "    print(colored(f'{msg} ({time() - t:2.2f} s)', color)) if prnt else do_nothing()"
   ]
  },
  {
   "cell_type": "code",
   "execution_count": null,
   "metadata": {},
   "outputs": [],
   "source": [
    "#| export\n",
    "def warning(txt, blank_lines=0, prnt=True):\n",
    "    prnt_msg(txt, 'WARNING', YELLOW, blank_lines, prnt=prnt)"
   ]
  },
  {
   "cell_type": "code",
   "execution_count": null,
   "metadata": {},
   "outputs": [],
   "source": [
    "#| export\n",
    "def critical(txt):\n",
    "    i = getframeinfo(stack()[1][0])\n",
    "    print(f'{sep.join(Path(i.filename).parts[-2:])}: {i.lineno}')\n",
    "    prnt_msg(txt, 'CRITICAL', RED)\n",
    "    _exit(2)"
   ]
  },
  {
   "cell_type": "code",
   "execution_count": null,
   "metadata": {},
   "outputs": [],
   "source": [
    "#| export\n",
    "def get_stat(status):\n",
    "    return 'ON' if status else 'OFF'"
   ]
  },
  {
   "cell_type": "code",
   "execution_count": null,
   "metadata": {},
   "outputs": [],
   "source": [
    "#| export\n",
    "def choose(v, default, decider='None', *args, **kwargs):\n",
    "    use_default = decider is None if decider != 'None' else v is None  # noqa\n",
    "    if callable(default) and use_default:\n",
    "        default = default(*args, **kwargs)\n",
    "    return default if use_default else v(*args, **kwargs) if callable(v) else v"
   ]
  },
  {
   "cell_type": "code",
   "execution_count": null,
   "metadata": {},
   "outputs": [
    {
     "name": "stdout",
     "output_type": "stream",
     "text": [
      "Using default? False\n",
      "isCallable? False\n"
     ]
    },
    {
     "data": {
      "text/plain": [
       "'2018'"
      ]
     },
     "execution_count": null,
     "metadata": {},
     "output_type": "execute_result"
    }
   ],
   "source": [
    "choose('2018', '2019')"
   ]
  },
  {
   "cell_type": "code",
   "execution_count": null,
   "metadata": {},
   "outputs": [],
   "source": [
    "#| export\n",
    "def round_up_to(num, val=1):\n",
    "    return int(num) // val * val + val"
   ]
  },
  {
   "cell_type": "code",
   "execution_count": null,
   "metadata": {},
   "outputs": [],
   "source": [
    "#| export\n",
    "def do(fs, pars, exe=-1):\n",
    "    fs, pars = ([fs], [pars]) if type(fs) is not list else (fs, pars)  # noqa\n",
    "    exe = pars if exe == -1 else [exe]\n",
    "    for f, p, e in zip(fs, pars, exe):\n",
    "        f(p) if e is not None else do_nothing()"
   ]
  },
  {
   "cell_type": "code",
   "execution_count": null,
   "metadata": {},
   "outputs": [],
   "source": [
    "#| export\n",
    "def do_nothing():\n",
    "    pass"
   ]
  },
  {
   "cell_type": "code",
   "execution_count": null,
   "metadata": {},
   "outputs": [],
   "source": [
    "#| export\n",
    "def is_iter(v):\n",
    "    try:\n",
    "        iter(v)\n",
    "        return True\n",
    "    except TypeError:\n",
    "        return False"
   ]
  },
  {
   "cell_type": "code",
   "execution_count": null,
   "metadata": {},
   "outputs": [],
   "source": [
    "#| export\n",
    "def is_ufloat(value):\n",
    "    return type(value) in [Variable, AffineScalarFunc, AsymVar]"
   ]
  },
  {
   "cell_type": "code",
   "execution_count": null,
   "metadata": {},
   "outputs": [],
   "source": [
    "#| export\n",
    "def uarr2n(x):\n",
    "    return array([i.n for i in x]) if len(x) and is_ufloat(x[0]) else x"
   ]
  },
  {
   "cell_type": "code",
   "execution_count": null,
   "metadata": {},
   "outputs": [],
   "source": [
    "#| export\n",
    "def uarr2s(arr):\n",
    "    return array([i.s for i in arr]) if len(arr) and is_ufloat(arr[0]) else arr"
   ]
  },
  {
   "cell_type": "code",
   "execution_count": null,
   "metadata": {},
   "outputs": [],
   "source": [
    "#| export\n",
    "def arr2u(x, ex):\n",
    "    return array([ufloat(i, e) for i, e in zip(x, ex)])"
   ]
  },
  {
   "cell_type": "code",
   "execution_count": null,
   "metadata": {},
   "outputs": [],
   "source": [
    "#| export\n",
    "def add_err(u, e):\n",
    "    return u + ufloat(0, e)"
   ]
  },
  {
   "cell_type": "code",
   "execution_count": null,
   "metadata": {},
   "outputs": [],
   "source": [
    "#| export\n",
    "def add_perr(u, e):\n",
    "    return u * ufloat(1, e)"
   ]
  },
  {
   "cell_type": "code",
   "execution_count": null,
   "metadata": {},
   "outputs": [],
   "source": [
    "#| export\n",
    "def eff2u(eff):\n",
    "    return ufloat(eff[0], mean(eff[1:])) if eff.shape == (3,) else array([eff2u(e) for e in eff])"
   ]
  },
  {
   "cell_type": "code",
   "execution_count": null,
   "metadata": {},
   "outputs": [],
   "source": [
    "#| export\n",
    "def make_ufloat(n, s=0):\n",
    "    return (eff2u(n) if len(n) == 3 and s == 0 else array([ufloat(*v) for v in array([n, s]).T])) if is_iter(n) else n if is_ufloat(n) else ufloat(n, s)"
   ]
  },
  {
   "cell_type": "code",
   "execution_count": null,
   "metadata": {},
   "outputs": [],
   "source": [
    "#| export\n",
    "def make_list(value):\n",
    "    return array([value], dtype=object).flatten()"
   ]
  },
  {
   "cell_type": "code",
   "execution_count": null,
   "metadata": {},
   "outputs": [],
   "source": [
    "#| export\n",
    "def prep_kw(dic, **default):\n",
    "    d = deepcopy(dic)\n",
    "    for kw, value in default.items():\n",
    "        if kw not in d:\n",
    "            d[kw] = value\n",
    "    return d"
   ]
  },
  {
   "cell_type": "code",
   "execution_count": null,
   "metadata": {},
   "outputs": [],
   "source": [
    "#| export\n",
    "def get_kw(kw, kwargs, default=None):\n",
    "    return kwargs[kw] if kw in kwargs else default"
   ]
  },
  {
   "cell_type": "code",
   "execution_count": null,
   "metadata": {},
   "outputs": [],
   "source": [
    "#| export\n",
    "def rm_key(d, *key):\n",
    "    d = deepcopy(d)\n",
    "    for k in key:\n",
    "        if k in d:\n",
    "            del d[k]\n",
    "    return d"
   ]
  },
  {
   "cell_type": "code",
   "execution_count": null,
   "metadata": {},
   "outputs": [],
   "source": [
    "#| export\n",
    "def mean_sigma(values, weights=None, err=True):\n",
    "    \"\"\" Return the weighted average and standard deviation. values, weights -- Numpy ndarrays with the same shape. \"\"\"\n",
    "    if len(values) == 1:\n",
    "        value = make_ufloat(values[0])\n",
    "        return (value, ufloat(value.s, 0)) if err else (value.n, value.s)\n",
    "    weights = full(len(values), 1) if weights is None else weights\n",
    "    # variance defined weights: https://en.wikipedia.org/wiki/Inverse-variance_weighting\n",
    "    use_variance = is_ufloat(values[0])\n",
    "    if use_variance:\n",
    "        errors = uarr2s(values)\n",
    "        weights = full(errors.size, 1) if all(errors == errors[0]) else [1 / e ** 2 if e else 0 for e in errors]\n",
    "        values = uarr2n(values)\n",
    "    if all(weights == 0):\n",
    "        return [0, 0]\n",
    "    n, avrg = values.size, average(values, weights=weights)\n",
    "    sigma = sqrt(n / (n - 1) * average((values - avrg) ** 2, weights=weights))  # Fast and numerically precise\n",
    "    m = ufloat(avrg, sqrt(1 / sum(weights))) if use_variance else ufloat(avrg, sigma / sqrt(len(values) - 1))\n",
    "    s = ufloat(sigma, sigma / sqrt(2 * len(values)))\n",
    "    return (m, s) if err else (m.n, s.n)"
   ]
  },
  {
   "cell_type": "code",
   "execution_count": null,
   "metadata": {},
   "outputs": [],
   "source": [
    "#| export\n",
    "def calc_eff(k=0, n=0, values=None):\n",
    "    values = array(values) if values is not None else None\n",
    "    if n == 0 and (values is None or not values.size):\n",
    "        return zeros(3)\n",
    "    k = float(k if values is None else count_nonzero(values))\n",
    "    n = float(n if values is None else values.size)\n",
    "    m = (k + 1) / (n + 2)\n",
    "    mode = k / n\n",
    "    s = sqrt(((k + 1) / (n + 2) * (k + 2) / (n + 3) - ((k + 1) ** 2) / ((n + 2) ** 2)))\n",
    "    return array([mode, max(s + (mode - m), 0), max(s - (mode - m), 0)]) * 100"
   ]
  },
  {
   "cell_type": "code",
   "execution_count": null,
   "metadata": {},
   "outputs": [],
   "source": [
    "#| export\n",
    "def cart2pol(x, y):\n",
    "    return array([sqrt(x ** 2 + y ** 2), arctan2(y, x)])"
   ]
  },
  {
   "cell_type": "code",
   "execution_count": null,
   "metadata": {},
   "outputs": [],
   "source": [
    "#| export\n",
    "def pol2cart(rho, phi):\n",
    "    return array([rho * cos(phi), rho * sin(phi)])"
   ]
  },
  {
   "cell_type": "code",
   "execution_count": null,
   "metadata": {},
   "outputs": [],
   "source": [
    "#| export\n",
    "def get_x(x1, x2, y1, y2, y):\n",
    "    return (x2 - x1) / (y2 - y1) * (y - y1) + x1"
   ]
  },
  {
   "cell_type": "code",
   "execution_count": null,
   "metadata": {},
   "outputs": [],
   "source": [
    "#| export\n",
    "def get_y(x1, x2, y1, y2, x):\n",
    "    return get_x(y1, y2, x1, x2, x)"
   ]
  },
  {
   "cell_type": "code",
   "execution_count": null,
   "metadata": {},
   "outputs": [],
   "source": [
    "#| export\n",
    "def ensure_dir(path):\n",
    "    if not exists(path):\n",
    "        info('Creating directory: {d}'.format(d=path))\n",
    "        makedirs(path)\n",
    "    return path"
   ]
  },
  {
   "cell_type": "code",
   "execution_count": null,
   "metadata": {},
   "outputs": [],
   "source": [
    "#| export\n",
    "def remove_file(*file_path, string=None, warn=True):\n",
    "    for f in file_path:\n",
    "        if Path(f).exists():\n",
    "            warning(f'removing {choose(string, f)}', prnt=warn)\n",
    "            remove(f)"
   ]
  },
  {
   "cell_type": "code",
   "execution_count": null,
   "metadata": {},
   "outputs": [],
   "source": [
    "#| export\n",
    "def correlate(l1, l2):\n",
    "    if len(l1.shape) == 2:\n",
    "        x, y = l1.flatten(), l2.flatten()\n",
    "        cut, s = (x > 0) & (y > 0), count_nonzero(x)\n",
    "        return correlate(x[cut], y[cut]) if count_nonzero(cut) > .6 * s else 0\n",
    "    return corrcoef(l1, l2)[0][1]"
   ]
  },
  {
   "cell_type": "code",
   "execution_count": null,
   "metadata": {},
   "outputs": [],
   "source": [
    "#| export\n",
    "def add_spaces(s):\n",
    "    return ''.join(f' {s[i]}' if i and (s[i].isupper() or s[i].isdigit()) and not s[i - 1].isdigit() and not s[i - 1].isupper() else s[i] for i in range(len(s)))"
   ]
  },
  {
   "cell_type": "code",
   "execution_count": null,
   "metadata": {},
   "outputs": [],
   "source": [
    "#| export\n",
    "def print_check(reset=False):\n",
    "    global COUNT\n",
    "    COUNT = 0 if reset else COUNT\n",
    "    print('======={}========'.format(COUNT))\n",
    "    COUNT += 1"
   ]
  },
  {
   "cell_type": "code",
   "execution_count": null,
   "metadata": {},
   "outputs": [],
   "source": [
    "#| export\n",
    "def sum_times(t, fmt='%H:%M:%S'):\n",
    "    return sum(array([datetime.strptime(i, fmt) for i in t]) - datetime.strptime('0', '%H'))"
   ]
  },
  {
   "cell_type": "code",
   "execution_count": null,
   "metadata": {},
   "outputs": [],
   "source": [
    "#| export\n",
    "def load_json(filename):\n",
    "    if not isfile(filename):\n",
    "        warning(f'json file does not exist: {filename}')\n",
    "        return {}\n",
    "    with open(filename) as f:\n",
    "        return load(f)"
   ]
  },
  {
   "cell_type": "code",
   "execution_count": null,
   "metadata": {},
   "outputs": [],
   "source": [
    "#| export\n",
    "class Config(ConfigParser):\n",
    "\n",
    "    def __init__(self, file_name, section=None, from_json=False, required=False, **kwargs):\n",
    "        super(Config, self).__init__(**kwargs)\n",
    "        self.FilePath = Path(file_name)\n",
    "        if required and not self.FilePath.exists():\n",
    "            critical(f'{self!r} does not exist!')\n",
    "        self.read_dict(load_json(file_name)) if from_json else self.read(file_name) if type(file_name) is not list else self.read_file(file_name)\n",
    "        self.Section = self.check_section(section)\n",
    "\n",
    "    def __call__(self, section):\n",
    "        return Config(self.FilePath, section)\n",
    "\n",
    "    def __repr__(self):\n",
    "        return f'{self.__class__.__name__}: {join(*self.FilePath.parts[-2:])}' + (f' (section = {self.Section})' if hasattr(self, 'Section') and self.Section else '')\n",
    "\n",
    "    def options(self, section=None):\n",
    "        return super().options(choose(section, self.Section))\n",
    "\n",
    "    def check_section(self, section):\n",
    "        return section if section is None or section in self else critical(f'No section {section} in {self}')\n",
    "\n",
    "    def set_section(self, sec):\n",
    "        self.Section = self.check_section(sec)\n",
    "\n",
    "    def get_value(self, section, option=None, dtype: type = str, default=None):\n",
    "        dtype = type(default) if default is not None else dtype\n",
    "        s, o = (self.Section, section) if option is None else (section, option)\n",
    "        try:\n",
    "            if dtype is bool:\n",
    "                return self.getboolean(s, o)\n",
    "            v = self.get(s, o)\n",
    "            return loads(v.replace('\\'', '\\\"')) if '[' in v or '{' in v and dtype is not str else dtype(v)\n",
    "        except (NoOptionError, NoSectionError, ValueError):\n",
    "            return default\n",
    "\n",
    "    def get_values(self, section=None):\n",
    "        return [*self[choose(section, self.Section)].values()]\n",
    "\n",
    "    def get_list(self, section, option=None, default=None):\n",
    "        return self.get_value(section, option, list, choose(default, []))\n",
    "\n",
    "    def get_float(self, section: str, option: str = None) -> float:\n",
    "        return self.get_value(section, option, float)\n",
    "\n",
    "    def get_ufloat(self, section, option=None, default=None):\n",
    "        return ufloat_fromstr(self.get_value(section, option, default=default))\n",
    "\n",
    "    def show(self):\n",
    "        for key, section in self.items():\n",
    "            print(colored(f'[{key}]', YELLOW))\n",
    "            for option in section:\n",
    "                print(f'{option} = {self.get(key, option)}')\n",
    "            print()\n",
    "\n",
    "    def write(self, file_name=None, space_around_delimiters=True):\n",
    "        with open(choose(file_name, self.FilePath), 'w') as f:\n",
    "            super(Config, self).write(f, space_around_delimiters)"
   ]
  },
  {
   "cell_type": "code",
   "execution_count": null,
   "metadata": {},
   "outputs": [],
   "source": [
    "#| export\n",
    "class AsymVar:\n",
    "\n",
    "    def __init__(self, value, err_down, err_up, fmt='.2f'):\n",
    "        self.NominalValue = float(value)\n",
    "        self.ErrDown = float(err_down)\n",
    "        self.ErrUp = float(err_up)\n",
    "        self.Format = fmt\n",
    "\n",
    "    def __len__(self):\n",
    "        return 3\n",
    "\n",
    "    def __str__(self):\n",
    "        return self.format()\n",
    "\n",
    "    def __repr__(self):\n",
    "        return self.format()\n",
    "\n",
    "    def __gt__(self, other):\n",
    "        return self.n > (other.n if type(other) is AsymVar else other)\n",
    "\n",
    "    def __lt__(self, other):\n",
    "        return self.n < (other.n if type(other) is AsymVar else other)\n",
    "\n",
    "    def __neg__(self):\n",
    "        return AsymVar(-self.n, self.s0, self.s1)\n",
    "\n",
    "    def __add__(self, other):\n",
    "        if other == self:\n",
    "            self.NominalValue *= 2\n",
    "            self.ErrDown *= 2\n",
    "            self.ErrUp *= 2\n",
    "        elif type(other) is AsymVar:\n",
    "            self.NominalValue += other.n\n",
    "            self.ErrDown = (ufloat(0, self.s0) + ufloat(0, other.s1)).s\n",
    "            self.ErrUp = (ufloat(0, self.s1) + ufloat(0, other.s0)).s\n",
    "        elif is_ufloat(other):\n",
    "            self.NominalValue += other.n\n",
    "            self.ErrDown = (ufloat(0, self.s0) + other).s\n",
    "            self.ErrUp = (ufloat(0, self.s1) + other).s\n",
    "        else:\n",
    "            self.NominalValue += float(other)\n",
    "        return self\n",
    "\n",
    "    def __sub__(self, other):\n",
    "        return self.__add__(-other)\n",
    "\n",
    "    def __truediv__(self, other):\n",
    "        if is_ufloat(other):\n",
    "            return warning('not implemented')\n",
    "        return AsymVar(*self.a / other)\n",
    "\n",
    "    def __mul__(self, other):\n",
    "        if is_ufloat(other):\n",
    "            return warning('not implemented')\n",
    "        return AsymVar(*self.a * other)\n",
    "\n",
    "    def __iter__(self):\n",
    "        return iter([self.n, self.s0, self.s1])\n",
    "\n",
    "    def __getitem__(self, item):\n",
    "        return [self.NominalValue, self.ErrUp, self.ErrDown][item]\n",
    "\n",
    "    def __format__(self, f):\n",
    "        return f'{self.n:{f}}+{self.s0:{f}}-{self.s1:{f}}'\n",
    "\n",
    "    def format(self, fmt=None, unit=''):\n",
    "        return f'({self.__format__(choose(fmt, self.Format))}){unit}'\n",
    "\n",
    "    @property\n",
    "    def to_ufloat(self):\n",
    "        return ufloat(self.n, mean(self.s))\n",
    "    u = to_ufloat\n",
    "\n",
    "    @property\n",
    "    def to_array(self):\n",
    "        return array(self)\n",
    "    a = to_array\n",
    "\n",
    "    @property\n",
    "    def nominal_value(self):\n",
    "        return self.NominalValue\n",
    "    n = nominal_value  # abbreviation\n",
    "\n",
    "    @property\n",
    "    def lower_error(self):\n",
    "        return self.ErrDown\n",
    "    s0 = lower_error\n",
    "\n",
    "    @property\n",
    "    def upper_error(self):\n",
    "        return self.ErrUp\n",
    "    s1 = upper_error\n",
    "\n",
    "    @property\n",
    "    def error(self):\n",
    "        return array([self.s0, self.s1])\n",
    "    s = error\n",
    "\n",
    "    @property\n",
    "    def flip_errors(self):\n",
    "        return AsymVar(self.n, self.s1, self.s0)\n",
    "    f = flip_errors"
   ]
  },
  {
   "cell_type": "code",
   "execution_count": null,
   "metadata": {},
   "outputs": [],
   "source": [
    "#| export\n",
    "def aufloat(n, s0=0, s1=0):\n",
    "    return AsymVar(n, s0, s1)"
   ]
  },
  {
   "cell_type": "code",
   "execution_count": null,
   "metadata": {},
   "outputs": [],
   "source": [
    "#| export\n",
    "def add_asym_error(v, s0=0, s1=0):\n",
    "    return array([add_asym_error(i, s0, s1) for i in v], dtype=AsymVar) if is_iter(v) else AsymVar(0, s0, s1) + v"
   ]
  },
  {
   "cell_type": "code",
   "execution_count": null,
   "metadata": {},
   "outputs": [],
   "source": [
    "#| export\n",
    "def download_file(server, loc, target, out=True):\n",
    "    cmd = f'rsync -aPvL {server}:{loc} {target}'\n",
    "    return (check_call if out else check_output)(cmd, shell=True)"
   ]
  },
  {
   "cell_type": "code",
   "execution_count": null,
   "metadata": {},
   "outputs": [],
   "source": [
    "#| hide\n",
    "from nbdev import *\n",
    "nbdev_export()"
   ]
  },
  {
   "cell_type": "code",
   "execution_count": null,
   "metadata": {},
   "outputs": [],
   "source": []
  }
 ],
 "metadata": {
  "jupytext": {
   "split_at_heading": true
  },
  "kernelspec": {
   "display_name": "python3",
   "language": "python",
   "name": "python3"
  }
 },
 "nbformat": 4,
 "nbformat_minor": 4
}
