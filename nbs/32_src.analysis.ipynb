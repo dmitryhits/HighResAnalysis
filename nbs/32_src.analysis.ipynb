{
 "cells": [
  {
   "cell_type": "code",
   "execution_count": null,
   "metadata": {},
   "outputs": [],
   "source": [
    "#| default_exp src.analysis"
   ]
  },
  {
   "cell_type": "markdown",
   "metadata": {},
   "source": [
    "# Analysis\n",
    "> Group of tools for analyzing the data"
   ]
  },
  {
   "cell_type": "code",
   "execution_count": null,
   "metadata": {},
   "outputs": [
    {
     "name": "stdout",
     "output_type": "stream",
     "text": [
      "Welcome to JupyROOT 6.26/10\n"
     ]
    }
   ],
   "source": [
    "#| export\n",
    "from os import getcwd\n",
    "from os.path import isfile\n",
    "from shutil import copyfile\n",
    "from pathlib import Path\n",
    "from datetime import datetime\n",
    "from fastcore.script import *\n",
    "\n",
    "from HighResAnalysis.plotting.save import *\n",
    "from HighResAnalysis.plotting.utils import warning, Config, choose\n",
    "from HighResAnalysis.utility.utils import Dir, print_banner, byte2str"
   ]
  },
  {
   "cell_type": "code",
   "execution_count": null,
   "metadata": {},
   "outputs": [],
   "source": [
    "#| export\n",
    "class BeamTest:\n",
    "\n",
    "    def __init__(self, p: Path):\n",
    "\n",
    "        self.Path = p\n",
    "        self.Location = p.parts[-2].upper()\n",
    "        self.T = datetime.strptime(p.stem, '%Y-%m')\n",
    "        self.Year = self.T.year\n",
    "        self.Tag = self.T.strftime('%Y%m')\n",
    "        self.Name = self.T.strftime('%Y-%m')\n",
    "\n",
    "    def __str__(self):\n",
    "        return self.T.strftime('%b %Y')\n",
    "\n",
    "    def __repr__(self):\n",
    "        return f'Beam Test in {self} at {self.Location}'"
   ]
  },
  {
   "cell_type": "code",
   "execution_count": null,
   "metadata": {},
   "outputs": [],
   "source": [
    "#| export\n",
    "def load_config():\n",
    "    config_file_path = Dir.joinpath('config', 'main.ini')\n",
    "    if not isfile(config_file_path):\n",
    "        warning('The main config file \"config/main.ini\" does not exist! Using the default!')\n",
    "        copyfile(Dir.joinpath('config', 'default.ini'), config_file_path)\n",
    "    return Config(config_file_path)"
   ]
  },
  {
   "cell_type": "code",
   "execution_count": null,
   "metadata": {},
   "outputs": [],
   "source": [
    "#| export\n",
    "class Analysis:\n",
    "    \"\"\" The analysis class provides default behaviour objects in the analysis framework and is the parent of all other analysis objects. \"\"\"\n",
    "\n",
    "    Config = load_config()\n",
    "    Locations = Config.get_value('data', 'beam tests', type)\n",
    "\n",
    "    DataDir = Path(Config.get('data', 'dir')).expanduser()\n",
    "    ResultsDir = Dir.joinpath('results')\n",
    "    MetaDir = Dir.joinpath(Config.get('SAVE', 'meta directory'))\n",
    "\n",
    "    def __init__(self, beamtest=None, meta_sub_dir='', verbose=False):\n",
    "\n",
    "        self.Verbose = verbose\n",
    "\n",
    "        self.BeamTest = self.load_test_campaign(beamtest)\n",
    "        self.MetaSubDir = meta_sub_dir\n",
    "\n",
    "        self.Draw = SaveDraw(self, results_dir=self.BeamTest.Tag)\n",
    "\n",
    "    def __str__(self):\n",
    "        return f'{self.__class__.__name__.replace(\"Analysis\", \"\").upper()} ANALYSIS'.strip(' ')\n",
    "\n",
    "    def __repr__(self):\n",
    "        return f'{self} ({self.BeamTest})'\n",
    "\n",
    "    # ----------------------------------------\n",
    "    # region INIT\n",
    "    @property\n",
    "    def server_save_dir(self):\n",
    "        return\n",
    "\n",
    "    @staticmethod\n",
    "    def init_locations():\n",
    "        for loc, beam_tests in Analysis.Locations.items():\n",
    "            p = Analysis.DataDir.joinpath(loc.lower())\n",
    "            p.mkdir(exist_ok=True)\n",
    "            for bt in beam_tests:\n",
    "                bt = str(bt)\n",
    "                p.joinpath(f'{bt[:4]}-{bt[4:]}').mkdir(exist_ok=True)\n",
    "\n",
    "    @staticmethod\n",
    "    def load_test_campaign(beamtest=None):\n",
    "        bt = choose(beamtest, Analysis.Config.get('data', 'default test campaign')).replace('-', '')\n",
    "        Analysis.init_locations()\n",
    "        ps = [p for loc in Analysis.Locations for p in Path(Analysis.DataDir, loc.lower()).glob('*')]\n",
    "        p = next((p for p in ps if bt == p.stem.replace('-', '')), None)\n",
    "        return BeamTest(p)\n",
    "\n",
    "    @staticmethod\n",
    "    def find_testcampaign():\n",
    "        p = Path(getcwd())\n",
    "        return BeamTest(p).Tag if p.parts[-2].upper() in Analysis.Locations else Analysis.Config.get('data', 'default test campaign')\n",
    "\n",
    "    def print_testcampaign(self):\n",
    "        self.info(f'{self.BeamTest!r}')\n",
    "    # endregion INIT\n",
    "    # ----------------------------------------\n",
    "\n",
    "    def info(self, msg, blank_lines=0, endl=True, prnt=None):\n",
    "        return info(msg, blank_lines, endl, choose(prnt, self.Verbose))\n",
    "\n",
    "    def add_info(self, t, msg='Done', prnt=None):\n",
    "        add_to_info(t, msg, prnt=choose(prnt, self.Verbose))\n",
    "\n",
    "    def make_pickle_path(self, name='', suf='', sub_dir=None, run=None, dut=None, camp=None):\n",
    "        directory = self.MetaDir.joinpath(self.MetaSubDir if sub_dir is None else sub_dir)\n",
    "        ensure_dir(directory)\n",
    "        campaign = choose(camp, self.BeamTest.T.strftime('%Y%m'))\n",
    "        dut = str(dut if dut is not None else self.DUT.Number if hasattr(self, 'DUT') and hasattr(self.DUT, 'Number') else '')\n",
    "        run = choose(run, self.run_str)\n",
    "        return directory.joinpath(f'{\"_\".join([v for v in [name, campaign, run, dut, str(suf)] if v])}.pickle')\n",
    "\n",
    "    @property\n",
    "    def unit_str(self):\n",
    "        return f'run {self.Run}' if hasattr(self, 'Run') else ''\n",
    "\n",
    "    @property\n",
    "    def run_str(self):\n",
    "        return str(self.Run) if hasattr(self, 'Run') else ''\n",
    "\n",
    "    def get_meta_files(self):\n",
    "        return [*Path(self.MetaDir).rglob(f'*_{self.BeamTest.Tag}_{self.run_str}*')] if self.run_str else []\n",
    "\n",
    "    @property\n",
    "    def meta_file_size(self):\n",
    "        return sum(p.stat().st_size for p in self.get_meta_files())\n",
    "\n",
    "    def print_meta_file_size(self):\n",
    "        info(f'total size of metadata: {byte2str(self.meta_file_size)}')\n",
    "\n",
    "    def print_meta_file_sizes(self):\n",
    "        for p in self.get_meta_files():\n",
    "            info(f'{p}: {byte2str(p.stat().st_size)}')\n",
    "        self.print_meta_file_size()\n",
    "\n",
    "    def remove_metadata(self):\n",
    "        s = self.meta_file_size\n",
    "        for p in self.get_meta_files():\n",
    "            remove_file(p)\n",
    "        info(f'removed {byte2str(s)} of meta files')\n",
    "\n",
    "    def make_hdf5_path(self, *args, **kwargs):\n",
    "        return self.make_pickle_path(*args, **kwargs).with_suffix('.hdf5')\n",
    "\n",
    "    def print_start(self):\n",
    "        print_banner(f'STARTING {self!r}', symbol='~', color=GREEN)\n",
    "\n",
    "    def create_run_config(self):\n",
    "        if self.BeamTest.Location == 'CERN':\n",
    "            from src.spreadsheet import make_cern_run_log\n",
    "            make_cern_run_log(self.BeamTest.Path.stem)\n",
    "        elif self.BeamTest.Location == 'DESY':\n",
    "            from src.spreadsheet import make_desy_run_log\n",
    "            make_desy_run_log()"
   ]
  },
  {
   "cell_type": "code",
   "execution_count": null,
   "metadata": {},
   "outputs": [],
   "source": [
    "#| export\n",
    "@call_parse\n",
    "def main():\n",
    "    z = Analysis()"
   ]
  },
  {
   "cell_type": "code",
   "execution_count": null,
   "metadata": {},
   "outputs": [],
   "source": [
    "#| hide\n",
    "from nbdev import *\n",
    "nbdev_export()"
   ]
  },
  {
   "cell_type": "code",
   "execution_count": null,
   "metadata": {},
   "outputs": [],
   "source": []
  }
 ],
 "metadata": {
  "jupytext": {
   "split_at_heading": true
  },
  "kernelspec": {
   "display_name": "python3",
   "language": "python",
   "name": "python3"
  }
 },
 "nbformat": 4,
 "nbformat_minor": 4
}
