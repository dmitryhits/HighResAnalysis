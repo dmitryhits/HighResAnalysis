{
 "cells": [
  {
   "cell_type": "code",
   "execution_count": null,
   "metadata": {},
   "outputs": [],
   "source": [
    "#| default_exp src.analysis"
   ]
  },
  {
   "cell_type": "markdown",
   "metadata": {},
   "source": [
    "# Analysis\n",
    "> Group of tools for analyzing the data"
   ]
  },
  {
   "cell_type": "code",
   "execution_count": null,
   "metadata": {},
   "outputs": [
    {
     "name": "stdout",
     "output_type": "stream",
     "text": [
      "Welcome to JupyROOT 6.28/00\n"
     ]
    }
   ],
   "source": [
    "#| export\n",
    "from os import getcwd\n",
    "from os.path import isfile\n",
    "from shutil import copyfile\n",
    "from pathlib import Path\n",
    "from datetime import datetime\n",
    "from fastcore.script import *\n",
    "from fastcore.basics import patch\n",
    "from nbdev import *\n",
    "\n",
    "from HighResAnalysis.plotting.save import *\n",
    "from HighResAnalysis.plotting.utils import warning, Config, choose, info, add_to_info, GREEN, RED\n",
    "from HighResAnalysis.utility.utils import Dir, print_banner, byte2str, ensure_dir"
   ]
  },
  {
   "cell_type": "code",
   "execution_count": null,
   "metadata": {},
   "outputs": [],
   "source": [
    "#| export\n",
    "class BeamTest:\n",
    "    \"\"\" structure containing information about a beam test:\n",
    "        - Path to the data Dir\n",
    "        - Location\n",
    "        - T - date as a datetime\n",
    "        - Year\n",
    "        - Tag and Name - same as T but in string formats\"\"\"\n",
    "    def __init__(self, \n",
    "                 p: Path # path to the data dir\n",
    "                ):\n",
    "\n",
    "        self.Path = p\n",
    "        self.Location = p.parts[-2].upper()\n",
    "        self.T = datetime.strptime(p.stem, '%Y-%m')\n",
    "        self.Year = self.T.year\n",
    "        self.Tag = self.T.strftime('%Y%m')\n",
    "        self.Name = self.T.strftime('%Y-%m')\n",
    "\n",
    "    def __str__(self):\n",
    "        return self.T.strftime('%b %Y')\n",
    "\n",
    "    def __repr__(self):\n",
    "        return f'Beam Test in {self} at {self.Location}'"
   ]
  },
  {
   "cell_type": "code",
   "execution_count": null,
   "metadata": {},
   "outputs": [],
   "source": [
    "#| exports\n",
    "def load_config():\n",
    "    \"\"\"A utility function that loads config file\n",
    "    it expects main.ini file in the config directory under the root analyis directory\n",
    "    Returns the instance of `Config` class\"\"\"\n",
    "    config_file_path = Dir.joinpath('config', 'main.ini')\n",
    "    if not isfile(config_file_path):\n",
    "        warning('The main config file \"config/main.ini\" does not exist! Using the default!')\n",
    "        copyfile(Dir.joinpath('config', 'default.ini'), config_file_path)\n",
    "    return Config(config_file_path)"
   ]
  },
  {
   "cell_type": "code",
   "execution_count": null,
   "metadata": {},
   "outputs": [],
   "source": [
    "#| export\n",
    "class Analysis:\n",
    "    \"\"\" The analysis class provides default behaviour objects in the analysis framework and is the parent of all other analysis objects. \n",
    "    The main part\"\"\"\n",
    "    # Analysis Class Variables\n",
    "    Config = load_config()\n",
    "    Locations = Config.get_value('data', 'beam tests', type)\n",
    "    DataDir = Path(Config.get('data', 'dir')).expanduser()\n",
    "    ResultsDir = Dir.joinpath('results')\n",
    "    MetaDir = Dir.joinpath(Config.get('SAVE', 'meta directory'))\n",
    "\n",
    "    def __init__(self, \n",
    "                 beamtest:str=None, # A year and a month of the beam test, for example '201912' for DESY and '201810' for CERN\n",
    "                 meta_sub_dir:str='', # Subdirectory for storing meta files\n",
    "                 verbose:bool=False # Verbosity\n",
    "                ):\n",
    "\n",
    "        self.Verbose = verbose\n",
    "\n",
    "        self.BeamTest = self.load_test_campaign(beamtest)\n",
    "        self.MetaSubDir = meta_sub_dir\n",
    "\n",
    "        self.Draw = SaveDraw(self, results_dir=self.BeamTest.Tag)\n",
    "\n",
    "    def __str__(self):\n",
    "        return f'{self.__class__.__name__.replace(\"Analysis\", \"\").upper()} ANALYSIS'.strip(' ')\n",
    "\n",
    "    def __repr__(self):\n",
    "        return f'{self} ({self.BeamTest})'\n",
    "\n",
    "    # ----------------------------------------\n",
    "    # region INIT\n",
    "    @property\n",
    "    def server_save_dir(self):\n",
    "        return\n",
    "\n",
    "\n",
    "\n",
    "    @staticmethod\n",
    "    def load_test_campaign(beamtest=None):\n",
    "        bt = choose(beamtest, Analysis.Config.get('data', 'default test campaign')).replace('-', '')\n",
    "        Analysis.init_locations()\n",
    "        ps = [p for loc in Analysis.Locations for p in Path(Analysis.DataDir, loc.lower()).glob('*')]\n",
    "        p = next((p for p in ps if bt == p.stem.replace('-', '')), None)\n",
    "        return BeamTest(p)\n",
    "\n",
    "    @staticmethod\n",
    "    def find_testcampaign():\n",
    "        \"\"\"Determine the Tag of the test beam, either from the current path or from config file\"\"\"\n",
    "        p = Path(getcwd())\n",
    "        return BeamTest(p).Tag if p.parts[-2].upper() in Analysis.Locations else Analysis.Config.get('data', 'default test campaign')\n",
    "    \n",
    "    @staticmethod\n",
    "    def init_locations():\n",
    "        \"\"\"creates folders for each beamtest organizing them by location then by date, \n",
    "        in order to store there raw and processed data storing raw and processed data\"\"\"\n",
    "        for loc, beam_tests in Analysis.Locations.items():\n",
    "            p = Analysis.DataDir.joinpath(loc.lower())\n",
    "            p.mkdir(exist_ok=True)\n",
    "            for bt in beam_tests:\n",
    "                bt = str(bt)\n",
    "                p.joinpath(f'{bt[:4]}-{bt[4:]}').mkdir(exist_ok=True)\n",
    "    \n",
    "    def print_testcampaign(self):\n",
    "        \"\"\"Prints current timestamp and the location and date of the beam test\"\"\"\n",
    "        self.info(f'{self.BeamTest!r}')\n",
    "    # endregion INIT\n",
    "    # ----------------------------------------\n",
    "\n",
    "    def info(self, msg, blank_lines=0, endl=True, prnt=None):\n",
    "        return info(msg, blank_lines, endl, choose(prnt, self.Verbose))\n",
    "\n",
    "    def add_info(self, t, msg='Done', prnt=None):\n",
    "        add_to_info(t, msg, prnt=choose(prnt, self.Verbose))\n",
    "\n",
    "    def make_pickle_path(self, name='', suf='', sub_dir=None, run=None, dut=None, camp=None):\n",
    "        directory = self.MetaDir.joinpath(self.MetaSubDir if sub_dir is None else sub_dir)\n",
    "        ensure_dir(directory)\n",
    "        campaign = choose(camp, self.BeamTest.T.strftime('%Y%m'))\n",
    "        dut = str(dut if dut is not None else self.DUT.Number if hasattr(self, 'DUT') and hasattr(self.DUT, 'Number') else '')\n",
    "        run = choose(run, self.run_str)\n",
    "        return directory.joinpath(f'{\"_\".join([v for v in [name, campaign, run, dut, str(suf)] if v])}.pickle')\n",
    "\n",
    "    @property\n",
    "    def unit_str(self):\n",
    "        return f'run {self.Run}' if hasattr(self, 'Run') else ''\n",
    "\n",
    "    @property\n",
    "    def run_str(self):\n",
    "        return str(self.Run) if hasattr(self, 'Run') else ''\n",
    "\n",
    "    def get_meta_files(self):\n",
    "        return [*Path(self.MetaDir).rglob(f'*_{self.BeamTest.Tag}_{self.run_str}*')] if self.run_str else []\n",
    "\n",
    "    @property\n",
    "    def meta_file_size(self):\n",
    "        return sum(p.stat().st_size for p in self.get_meta_files())\n",
    "\n",
    "    def print_meta_file_size(self):\n",
    "        info(f'total size of metadata: {byte2str(self.meta_file_size)}')\n",
    "\n",
    "    def print_meta_file_sizes(self):\n",
    "        for p in self.get_meta_files():\n",
    "            info(f'{p}: {byte2str(p.stat().st_size)}')\n",
    "        self.print_meta_file_size()\n",
    "\n",
    "    def remove_metadata(self):\n",
    "        s = self.meta_file_size\n",
    "        for p in self.get_meta_files():\n",
    "            remove_file(p)\n",
    "        info(f'removed {byte2str(s)} of meta files')\n",
    "\n",
    "    def make_hdf5_path(self, *args, **kwargs):\n",
    "        return self.make_pickle_path(*args, **kwargs).with_suffix('.hdf5')\n",
    "\n",
    "    def print_start(self):\n",
    "        print_banner(f'STARTING {self!r}', symbol='~', color=GREEN)"
   ]
  },
  {
   "cell_type": "code",
   "execution_count": null,
   "metadata": {},
   "outputs": [],
   "source": [
    "#| export \n",
    "@patch\n",
    "def create_run_config(self:Analysis):\n",
    "    \"Creates a runlog.json from Google spreadsheet\"\n",
    "    if self.BeamTest.Location == 'CERN':\n",
    "        from src.spreadsheet import make_cern_run_log\n",
    "        make_cern_run_log(self.BeamTest.Path.stem)\n",
    "    elif self.BeamTest.Location == 'DESY':\n",
    "        from src.spreadsheet import make_desy_run_log\n",
    "        make_desy_run_log()"
   ]
  },
  {
   "cell_type": "code",
   "execution_count": null,
   "metadata": {},
   "outputs": [],
   "source": [
    "#| export\n",
    "@call_parse\n",
    "def main():\n",
    "    z = Analysis()"
   ]
  },
  {
   "cell_type": "code",
   "execution_count": null,
   "metadata": {},
   "outputs": [],
   "source": [
    "#| hide\n",
    "from nbdev import *\n",
    "nbdev_export()"
   ]
  },
  {
   "cell_type": "code",
   "execution_count": null,
   "metadata": {},
   "outputs": [
    {
     "data": {
      "text/markdown": [
       "---\n",
       "\n",
       "[source](https://github.com/dmitryhits/HighResAnalysis/blob/master/HighResAnalysis/src/analysis.py#L106){target=\"_blank\" style=\"float:right; font-size:smaller\"}\n",
       "\n",
       "### Analysis.init_locations\n",
       "\n",
       ">      Analysis.init_locations ()\n",
       "\n",
       "creates folders for each beamtest organizing them by location then by date, \n",
       "in order to store there raw and processed data storing raw and processed data"
      ],
      "text/plain": [
       "---\n",
       "\n",
       "[source](https://github.com/dmitryhits/HighResAnalysis/blob/master/HighResAnalysis/src/analysis.py#L106){target=\"_blank\" style=\"float:right; font-size:smaller\"}\n",
       "\n",
       "### Analysis.init_locations\n",
       "\n",
       ">      Analysis.init_locations ()\n",
       "\n",
       "creates folders for each beamtest organizing them by location then by date, \n",
       "in order to store there raw and processed data storing raw and processed data"
      ]
     },
     "execution_count": null,
     "metadata": {},
     "output_type": "execute_result"
    }
   ],
   "source": [
    "show_doc(Analysis.init_locations)"
   ]
  },
  {
   "cell_type": "code",
   "execution_count": null,
   "metadata": {},
   "outputs": [
    {
     "data": {
      "text/markdown": [
       "---\n",
       "\n",
       "[source](https://github.com/dmitryhits/HighResAnalysis/blob/master/HighResAnalysis/src/analysis.py#L100){target=\"_blank\" style=\"float:right; font-size:smaller\"}\n",
       "\n",
       "### Analysis.find_testcampaign\n",
       "\n",
       ">      Analysis.find_testcampaign ()\n",
       "\n",
       "Determine the Tag of the test beam, either from the current path or from config file"
      ],
      "text/plain": [
       "---\n",
       "\n",
       "[source](https://github.com/dmitryhits/HighResAnalysis/blob/master/HighResAnalysis/src/analysis.py#L100){target=\"_blank\" style=\"float:right; font-size:smaller\"}\n",
       "\n",
       "### Analysis.find_testcampaign\n",
       "\n",
       ">      Analysis.find_testcampaign ()\n",
       "\n",
       "Determine the Tag of the test beam, either from the current path or from config file"
      ]
     },
     "execution_count": null,
     "metadata": {},
     "output_type": "execute_result"
    }
   ],
   "source": [
    "show_doc(Analysis.find_testcampaign)"
   ]
  },
  {
   "cell_type": "code",
   "execution_count": null,
   "metadata": {},
   "outputs": [
    {
     "data": {
      "text/plain": [
       "'201912'"
      ]
     },
     "execution_count": null,
     "metadata": {},
     "output_type": "execute_result"
    }
   ],
   "source": [
    "Analysis.find_testcampaign()"
   ]
  },
  {
   "cell_type": "code",
   "execution_count": null,
   "metadata": {},
   "outputs": [
    {
     "data": {
      "text/markdown": [
       "---\n",
       "\n",
       "[source](https://github.com/dmitryhits/HighResAnalysis/blob/master/HighResAnalysis/src/analysis.py#L116){target=\"_blank\" style=\"float:right; font-size:smaller\"}\n",
       "\n",
       "### Analysis.print_testcampaign\n",
       "\n",
       ">      Analysis.print_testcampaign ()\n",
       "\n",
       "Prints current timestamp and the location and date of the beam test"
      ],
      "text/plain": [
       "---\n",
       "\n",
       "[source](https://github.com/dmitryhits/HighResAnalysis/blob/master/HighResAnalysis/src/analysis.py#L116){target=\"_blank\" style=\"float:right; font-size:smaller\"}\n",
       "\n",
       "### Analysis.print_testcampaign\n",
       "\n",
       ">      Analysis.print_testcampaign ()\n",
       "\n",
       "Prints current timestamp and the location and date of the beam test"
      ]
     },
     "execution_count": null,
     "metadata": {},
     "output_type": "execute_result"
    }
   ],
   "source": [
    "show_doc(Analysis.print_testcampaign)"
   ]
  },
  {
   "cell_type": "code",
   "execution_count": null,
   "metadata": {},
   "outputs": [
    {
     "name": "stdout",
     "output_type": "stream",
     "text": [
      "\u001b[92mINFO:\u001b[0m     14:47:47 --> Beam Test in Dec 2019 at DESY\n"
     ]
    }
   ],
   "source": [
    "z = Analysis('201912', verbose=True)\n",
    "z.print_testcampaign()"
   ]
  },
  {
   "cell_type": "code",
   "execution_count": null,
   "metadata": {},
   "outputs": [
    {
     "data": {
      "text/plain": [
       "{'CERN': [201809, 201810], 'DESY': [201912]}"
      ]
     },
     "execution_count": null,
     "metadata": {},
     "output_type": "execute_result"
    }
   ],
   "source": [
    "Analysis.Locations"
   ]
  },
  {
   "cell_type": "code",
   "execution_count": null,
   "metadata": {},
   "outputs": [],
   "source": []
  }
 ],
 "metadata": {
  "jupytext": {
   "split_at_heading": true
  },
  "kernelspec": {
   "display_name": "python3",
   "language": "python",
   "name": "python3"
  }
 },
 "nbformat": 4,
 "nbformat_minor": 4
}
