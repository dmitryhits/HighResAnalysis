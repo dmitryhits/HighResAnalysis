{
 "cells": [
  {
   "cell_type": "code",
   "execution_count": null,
   "metadata": {},
   "outputs": [],
   "source": [
    "#| default_exp plotting.binning"
   ]
  },
  {
   "cell_type": "markdown",
   "metadata": {},
   "source": [
    "# Plot bins\n",
    "> Functions for binning histograms (created on January 12th 2023 by M. Reichmann)"
   ]
  },
  {
   "cell_type": "code",
   "execution_count": null,
   "metadata": {},
   "outputs": [],
   "source": [
    "#| export\n",
    "from numpy import array, append, arange, linspace, diff, isfinite, quantile, ceil, all\n",
    "from HighResAnalysis.plotting.utils import choose, ufloat, is_iter, mean_sigma"
   ]
  },
  {
   "cell_type": "code",
   "execution_count": null,
   "metadata": {},
   "outputs": [],
   "source": [
    "#| export\n",
    "def freedman_diaconis(x):\n",
    "    return 2 * (quantile(x, .75) - quantile(x, .25)) / x.size ** (1 / 3)"
   ]
  },
  {
   "cell_type": "code",
   "execution_count": null,
   "metadata": {},
   "outputs": [],
   "source": [
    "#| export\n",
    "def width(x):\n",
    "    w = freedman_diaconis(x[isfinite(x)])\n",
    "    return w if w else 3.49 * mean_sigma(x)[1].n / x.size ** (1 / 3)"
   ]
  },
  {
   "cell_type": "code",
   "execution_count": null,
   "metadata": {},
   "outputs": [],
   "source": [
    "#| export\n",
    "def n(x):\n",
    "    return int((x.max() - x.min()) / width(x))"
   ]
  },
  {
   "cell_type": "code",
   "execution_count": null,
   "metadata": {},
   "outputs": [],
   "source": [
    "#| export\n",
    "def increase_range(low, high, fl, fh, to_int=False):\n",
    "    \"\"\"increases the range [low, high] by the given factors [fl] on the low end and [fh] on the high end.\"\"\"\n",
    "    d = abs(high - low)\n",
    "    l, h = low - d * fl, high + d * fh\n",
    "    return [int(l), int(ceil(h))] if to_int else [l, h]"
   ]
  },
  {
   "cell_type": "code",
   "execution_count": null,
   "metadata": {},
   "outputs": [],
   "source": [
    "#| export\n",
    "def entries(h):\n",
    "    return array([h.GetBinEntries(i) for i in range(1, h.GetNbinsX() + 1)], 'i')"
   ]
  },
  {
   "cell_type": "code",
   "execution_count": null,
   "metadata": {},
   "outputs": [],
   "source": [
    "#| export\n",
    "def single_entries_2d(h, ix, iy, nx):\n",
    "    return int((h.GetBinEntries if 'Prof' in h.ClassName() else h.GetBinContent)((nx + 2) * iy + ix))"
   ]
  },
  {
   "cell_type": "code",
   "execution_count": null,
   "metadata": {},
   "outputs": [],
   "source": [
    "#| export\n",
    "def entries_2d(h, flat=False):\n",
    "    nx, ny = h.GetNbinsX(), h.GetNbinsY()\n",
    "    e = array([[single_entries_2d(h, ix, iy, nx) for ix in range(1, nx + 1)] for iy in range(1, ny + 1)], 'i')\n",
    "    return e.flatten() if flat else e"
   ]
  },
  {
   "cell_type": "code",
   "execution_count": null,
   "metadata": {},
   "outputs": [],
   "source": [
    "#| export\n",
    "def from_uvec(x):\n",
    "    return [x.size, append([i.n - i.s for i in x], x[-1].n + x[-1].s).astype('d')]"
   ]
  },
  {
   "cell_type": "code",
   "execution_count": null,
   "metadata": {},
   "outputs": [],
   "source": [
    "#| export\n",
    "def from_vec(x, centre=False):\n",
    "    if centre:\n",
    "        w0 = (x[1] - x[0])\n",
    "        x = append(x, x[-1] + w0)\n",
    "        x -= append(w0 / 2, diff(x) / 2)\n",
    "    return [x.size - 1, x]"
   ]
  },
  {
   "cell_type": "code",
   "execution_count": null,
   "metadata": {},
   "outputs": [],
   "source": [
    "#| export\n",
    "def from_p(x):\n",
    "    d = x[-1] - x[-2]\n",
    "    x = append(x, [x[-1] + d, x[-1] + 2 * d])\n",
    "    return [x.size - 2, x[:-1] - diff(x) / 2]"
   ]
  },
  {
   "cell_type": "code",
   "execution_count": null,
   "metadata": {},
   "outputs": [],
   "source": [
    "#| export\n",
    "def make(xmin, xmax=None, w=1, last=False, nb=None, off=0):\n",
    "    bins = array(xmin, 'd')\n",
    "    if not is_iter(xmin):\n",
    "        xmin, xmax = sorted([xmin, choose(xmax, 0)])\n",
    "        bins = arange(xmin, xmax + (w if last else 0), w, dtype='d') if nb is None else linspace(xmin, xmax, int(nb) + 1, endpoint=True, dtype='d')\n",
    "    return [bins.size - 1, bins + off]"
   ]
  },
  {
   "cell_type": "code",
   "execution_count": null,
   "metadata": {},
   "outputs": [],
   "source": [
    "#| export\n",
    "def make2d(x, y, wx=1, wy=1, nx=None, ny=None, last=True):\n",
    "    x, y = [(v, None) if len(v) > 2 else v for v in [x, y]]\n",
    "    return make(*x, wx, last, nx) + make(*y, wy, last, ny)\n",
    "\n",
    "\n",
    "# ----------------------------------------\n",
    "# region FIND"
   ]
  },
  {
   "cell_type": "code",
   "execution_count": null,
   "metadata": {},
   "outputs": [],
   "source": [
    "#| export\n",
    "def find_range(values, lfac=.2, rfac=.2, q=.02, lq=None):\n",
    "    q = quantile(values[isfinite(values)], [choose(lq, q), 1 - q])\n",
    "    return increase_range(*[min(values), max(values)] if q[0] == q[1] else q, lfac, rfac)"
   ]
  },
  {
   "cell_type": "code",
   "execution_count": null,
   "metadata": {},
   "outputs": [],
   "source": [
    "#| export\n",
    "def find(values, lfac=.2, rfac=.2, q=.02, nbins=1, lq=None, w=None, x0=None, x1=None, r=None):\n",
    "    if all([values == values[0]]):\n",
    "        return [3, array([-.15, -.05, .05, 0.15], 'd') * values[0] + values[0]]\n",
    "    w, (xmin, xmax) = choose(w, width(values) * nbins), find_range(values, lfac, rfac, q, lq) if r is None else array(r, 'd')\n",
    "    bins = arange(choose(x0, xmin), choose(x1, xmax) + w, w, dtype='d')\n",
    "    return [bins.size - 1, bins]"
   ]
  },
  {
   "cell_type": "code",
   "execution_count": null,
   "metadata": {},
   "outputs": [],
   "source": [
    "#| export\n",
    "def find_2d(x, y, lfac=.2, rfac=.2, q=.02, nb=1, lq=None, w=None, x0=None):\n",
    "    return sum([find(i, lfac, rfac, q, nb, lq, w, x0) for i in [x, y]], start=[])\n",
    "# endregion\n",
    "# ----------------------------------------\n",
    "\n",
    "\n",
    "# ----------------------------------------\n",
    "# region HISTOGRAM"
   ]
  },
  {
   "cell_type": "code",
   "execution_count": null,
   "metadata": {},
   "outputs": [],
   "source": [
    "#| export\n",
    "def hn(h, axis='X'):\n",
    "    return range(1, getattr(h, f'GetNbins{axis}')() + 1)"
   ]
  },
  {
   "cell_type": "code",
   "execution_count": null,
   "metadata": {},
   "outputs": [],
   "source": [
    "#| export\n",
    "def from_hist(h, err=True, raw=False, axis='X'):\n",
    "    ax = getattr(h, f'Get{axis.title()}axis')()\n",
    "    if raw:\n",
    "        return array([ax.GetBinLowEdge(i) for i in range(1, ax.GetNbins() + 2)], 'd')\n",
    "    return array([ufloat(ax.GetBinCenter(ibin), ax.GetBinWidth(ibin) / 2) if err else ax.GetBinCenter(ibin) for ibin in range(1, ax.GetNbins() + 1)])"
   ]
  },
  {
   "cell_type": "code",
   "execution_count": null,
   "metadata": {},
   "outputs": [],
   "source": [
    "#| export\n",
    "def hx(h, err=True):\n",
    "    return from_hist(h, err, axis='X')"
   ]
  },
  {
   "cell_type": "code",
   "execution_count": null,
   "metadata": {},
   "outputs": [],
   "source": [
    "#| export\n",
    "def hy(h, err=True):\n",
    "    return from_hist(h, err, axis='Y')"
   ]
  },
  {
   "cell_type": "code",
   "execution_count": null,
   "metadata": {},
   "outputs": [],
   "source": [
    "#| export\n",
    "def h2d(h, arr=False):\n",
    "    x, y = [from_hist(h, raw=True, axis=ax) for ax in ['X', 'Y']]\n",
    "    return [x, y] if arr else make2d(x, y)"
   ]
  },
  {
   "cell_type": "code",
   "execution_count": null,
   "metadata": {},
   "outputs": [],
   "source": [
    "#| export\n",
    "def h2dgrid(h):\n",
    "    x, y = [from_hist(h, err=False, raw=False, axis=ax) for ax in ['X', 'Y']]\n",
    "    return array([[ix, iy] for iy in y for ix in x]).T"
   ]
  },
  {
   "cell_type": "code",
   "execution_count": null,
   "metadata": {},
   "outputs": [],
   "source": [
    "#| export\n",
    "def set_2d_values(h, arr):\n",
    "    [h.SetBinContent(ix + 1, iy + 1, arr[iy, ix]) for ix in range(arr.shape[1]) for iy in range(arr.shape[0])]"
   ]
  },
  {
   "cell_type": "code",
   "execution_count": null,
   "metadata": {},
   "outputs": [],
   "source": [
    "#| export\n",
    "def set_2d_entries(h, arr):\n",
    "    ny, nx = arr.shape\n",
    "    [h.SetBinEntries((nx + 2) * (iy + 1) + (ix + 1), arr[iy, ix]) for ix in range(nx) for iy in range(ny)]\n",
    "# endregion HISTOGRAM\n",
    "# ----------------------------------------"
   ]
  },
  {
   "cell_type": "code",
   "execution_count": null,
   "metadata": {},
   "outputs": [],
   "source": [
    "#| hide\n",
    "from nbdev import *\n",
    "nbdev_export()"
   ]
  }
 ],
 "metadata": {
  "jupytext": {
   "split_at_heading": true
  },
  "kernelspec": {
   "display_name": "python3",
   "language": "python",
   "name": "python3"
  }
 },
 "nbformat": 4,
 "nbformat_minor": 4
}
