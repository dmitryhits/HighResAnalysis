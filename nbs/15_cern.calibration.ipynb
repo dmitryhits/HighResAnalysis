{
 "cells": [
  {
   "cell_type": "code",
   "execution_count": null,
   "metadata": {},
   "outputs": [],
   "source": [
    "#| default_exp cern.calibration"
   ]
  },
  {
   "cell_type": "markdown",
   "metadata": {},
   "source": [
    "# CERN Pulse Height Calibration\n",
    "> pulse height calibration addon for CERN data (created on July 2nd 2020 by M. Reichmann (remichae@phys.ethz.ch))"
   ]
  },
  {
   "cell_type": "code",
   "execution_count": null,
   "metadata": {},
   "outputs": [
    {
     "name": "stdout",
     "output_type": "stream",
     "text": [
      "Welcome to JupyROOT 6.26/10\n"
     ]
    }
   ],
   "source": [
    "#| export\n",
    "from HighResAnalysis.src.calibration import Calibration, Run\n",
    "from HighResAnalysis.utility.utils import remove_letters, critical"
   ]
  },
  {
   "cell_type": "code",
   "execution_count": null,
   "metadata": {},
   "outputs": [],
   "source": [
    "#| export\n",
    "class CERNCalibration(Calibration):\n",
    "\n",
    "    def __init__(self, run: Run):\n",
    "        super().__init__(run)\n",
    "\n",
    "    def load_raw_filename(self):\n",
    "        files = sorted(list(self.Dir.glob('phCal[0-9]*.dat')), key=lambda x: int(remove_letters(x.name)))\n",
    "        f = files[next((i - 1 for i, f in enumerate(files) if self.Run.Number < int(remove_letters(f.name.split('-')[0]))), -1)]\n",
    "        return f if f.exists() else critical(f'could not find adc calibration file {f} ...')\n",
    "\n",
    "    def get_trim_number(self, n=None):\n",
    "        f = self.load_raw_filename().stem.split('-')\n",
    "        return int(f[1]) if len(f) == 2 else None, n"
   ]
  },
  {
   "cell_type": "code",
   "execution_count": null,
   "metadata": {},
   "outputs": [],
   "source": [
    "#| hide\n",
    "from nbdev import *\n",
    "nbdev_export()"
   ]
  },
  {
   "cell_type": "code",
   "execution_count": null,
   "metadata": {},
   "outputs": [],
   "source": []
  }
 ],
 "metadata": {
  "jupytext": {
   "split_at_heading": true
  },
  "kernelspec": {
   "display_name": "Python 3 (ipykernel)",
   "language": "python",
   "name": "python3"
  }
 },
 "nbformat": 4,
 "nbformat_minor": 4
}
