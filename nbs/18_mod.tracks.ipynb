{
 "cells": [
  {
   "cell_type": "code",
   "execution_count": null,
   "metadata": {},
   "outputs": [],
   "source": [
    "#| default_exp mod.tracks"
   ]
  },
  {
   "cell_type": "markdown",
   "metadata": {},
   "source": [
    "# Track Analysis\n",
    "> Track analysis of the high resolution tests at DESY and CERN (created on June 10th 2020 by M. Reichmann (remichae@phys.ethz.ch))"
   ]
  },
  {
   "cell_type": "code",
   "execution_count": null,
   "metadata": {},
   "outputs": [],
   "source": [
    "#| export\n",
    "#!/usr/bin/env python"
   ]
  },
  {
   "cell_type": "code",
   "execution_count": null,
   "metadata": {},
   "outputs": [
    {
     "name": "stdout",
     "output_type": "stream",
     "text": [
      "Welcome to JupyROOT 6.26/10\n"
     ]
    }
   ],
   "source": [
    "#| export\n",
    "\n",
    "from numpy import rad2deg, where\n",
    "\n",
    "import HighResAnalysis.src.bins as bins\n",
    "from HighResAnalysis.mod.track_cuts import TrackCut\n",
    "from HighResAnalysis.plotting.draw import prep_kw\n",
    "from HighResAnalysis.utility.utils import uarr2n"
   ]
  },
  {
   "cell_type": "code",
   "execution_count": null,
   "metadata": {},
   "outputs": [],
   "source": [
    "#| export\n",
    "def track_analysis(cls):\n",
    "    class TrackAnalysis(cls):\n",
    "        M = ['x', 'y']\n",
    "\n",
    "        def __init__(self, parent):  # noqa\n",
    "\n",
    "            self.Parent = parent\n",
    "            self.__dict__.update(parent.__dict__)\n",
    "            self.MetaSubDir = 'tracks'\n",
    "            self.Tel.T = True\n",
    "\n",
    "            self.Cut = TrackCut(self)\n",
    "\n",
    "        def ax_tits(self, local=True):\n",
    "            return super().ax_tits(local) if local else {'x_tit': 'Track X [mm]', 'y_tit': 'Track Y [mm]'}\n",
    "\n",
    "        # ----------------------------------------\n",
    "        # region DATA\n",
    "        def get_n(self, cut=None):\n",
    "            \"\"\"returns: number of tracks in trk-space\"\"\"\n",
    "            return self.get_data('N', cut=cut, main_grp='Tracks')\n",
    "\n",
    "        def get_size(self, cut=None):\n",
    "            \"\"\"returns: number of planes per track\"\"\"\n",
    "            return self.get_data('Size', cut=cut, main_grp='Tracks')\n",
    "\n",
    "        def get_off_x(self, cut=None):  # unclear what this exactly is...\n",
    "            return self.get_data('X', cut=cut, main_grp='Tracks')\n",
    "\n",
    "        def get_off_y(self, cut=None):\n",
    "            return self.get_data('Y', cut=cut, main_grp='Tracks')\n",
    "\n",
    "        def get_xy(self, local=True, cut=None, pl=None, centre=False):\n",
    "            return self.get_txy(local, cut, pl, centre)\n",
    "        # endregion DATA\n",
    "        # ----------------------------------------\n",
    "\n",
    "        # ----------------------------------------\n",
    "        # region MISC\n",
    "        def get_offsets(self, redo=False):\n",
    "            return uarr2n(self.Residuals.means(local=True, _redo=redo)).reshape(-1, 1)\n",
    "\n",
    "        def get_z(self, raw=False):\n",
    "            \"\"\"returns: z-pos of the telescope planes in [cm]\"\"\"\n",
    "            return self.Proteus.z_positions(raw)[:self.Tel.NPlanes] / 10\n",
    "        # endregion MISC\n",
    "        # ----------------------------------------\n",
    "\n",
    "        # ----------------------------------------\n",
    "        # region DRAW\n",
    "        def draw_x(self, trk=0, **dkw):\n",
    "            \"\"\"draw track in x-z plane.\"\"\"\n",
    "            trk = where(self.Tel.Cut.make_all_cluster())[0][trk]\n",
    "            x, y = self.get_z(), self.Tel.get_us(self.Cut.make_trk(trk)).reshape(-1)\n",
    "            self.Draw.graph(x, y, **prep_kw(dkw, x_tit='Z Position [cm]', y_tit='X Position [mm]'))\n",
    "\n",
    "        def draw_y(self, trk=0, **dkw):\n",
    "            \"\"\"draw track in y-z plane.\"\"\"\n",
    "            trk = where(self.Tel.Cut.make_all_cluster())[0][trk]\n",
    "            x, y = self.get_z(), self.Tel.get_vs(self.Cut.make_trk(trk)).reshape(-1)\n",
    "            self.Draw.graph(x, y, **prep_kw(dkw, x_tit='Z Position [cm]', y_tit='Y Position [mm]'))\n",
    "\n",
    "        def draw_n(self, cut=None, **dkw):\n",
    "            return self.Draw.distribution(self.get_n(cut), **prep_kw(dkw, title='NTracks', x0=-.5, w=1, x_tit='Number of Tracks'))\n",
    "\n",
    "        def draw_map(self, bw=.3, local=True, cut=None, dut_plane=True, **dkw):\n",
    "            binning = bins.get_xy(local, self.Plane if dut_plane else self.Tel.Plane, bw, aspect_ratio=True)\n",
    "            return self.Draw.histo_2d(*self.get_xy(local, cut), binning, **prep_kw(dkw, title='Track Map', **self.ax_tits(local)))\n",
    "\n",
    "        def draw_chi2(self, cut=None, **dkw):\n",
    "            return self.Draw.distribution(self.get_chi2(cut), **prep_kw(dkw, x0=0, title='Chi2', x_tit='#chi^{2}'))\n",
    "\n",
    "        def draw_slopes(self, cut=None, **dkw):\n",
    "            g = [getattr(self, f'draw_slope_{m}')(cut, lf=1, rf=1, show=False) for m in self.M]\n",
    "            return self.Draw.stack(g, 'TrackSlopes', self.M, **prep_kw(dkw))\n",
    "\n",
    "        def draw_slope_x(self, cut=None, **dkw):\n",
    "            return self.Draw.distribution(rad2deg(self.get_slope_x(cut)), **prep_kw(dkw, title='Track Slope X', x_tit='Track Slope [deg]'))\n",
    "\n",
    "        def draw_slope_y(self, cut=None, **dkw):\n",
    "            return self.Draw.distribution(rad2deg(self.get_slope_y(cut)), **prep_kw(dkw, title='Track Slope Y', x_tit='Track Slope [deg]'))\n",
    "        # endregion DRAW\n",
    "        # ----------------------------------------\n",
    "\n",
    "    return TrackAnalysis"
   ]
  },
  {
   "cell_type": "code",
   "execution_count": null,
   "metadata": {},
   "outputs": [],
   "source": [
    "#| hide\n",
    "from nbdev import *\n",
    "nbdev_export()"
   ]
  }
 ],
 "metadata": {
  "jupytext": {
   "split_at_heading": true
  },
  "kernelspec": {
   "display_name": "Python 3 (ipykernel)",
   "language": "python",
   "name": "python3"
  }
 },
 "nbformat": 4,
 "nbformat_minor": 4
}
