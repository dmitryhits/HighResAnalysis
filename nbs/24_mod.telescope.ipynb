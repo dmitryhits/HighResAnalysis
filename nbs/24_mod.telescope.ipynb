{
 "cells": [
  {
   "cell_type": "code",
   "execution_count": null,
   "metadata": {},
   "outputs": [],
   "source": [
    "#| default_exp mod.telescope"
   ]
  },
  {
   "cell_type": "markdown",
   "metadata": {},
   "source": [
    "# Telescope Analysis\n",
    "> Telescope analysis of the high resolution tests at DESY and CERN (created on June 11th 2020 by M. Reichmann (remichae@phys.ethz.ch))"
   ]
  },
  {
   "cell_type": "code",
   "execution_count": null,
   "metadata": {},
   "outputs": [],
   "source": [
    "#| export\n",
    "#!/usr/bin/env python "
   ]
  },
  {
   "cell_type": "code",
   "execution_count": null,
   "metadata": {},
   "outputs": [
    {
     "name": "stdout",
     "output_type": "stream",
     "text": [
      "Welcome to JupyROOT 6.26/10\n"
     ]
    }
   ],
   "source": [
    "#| export\n",
    "\n",
    "from HighResAnalysis.src.dut_analysis import DUTAnalysis\n",
    "from HighResAnalysis.src.analysis import *\n",
    "from HighResAnalysis.mod.tel_cuts import TelCut\n",
    "from HighResAnalysis.mod.residuals import res_analysis"
   ]
  },
  {
   "cell_type": "code",
   "execution_count": null,
   "metadata": {},
   "outputs": [],
   "source": [
    "#| export\n",
    "def tel_analysis(cls):\n",
    "    class TelescopeAnalysis(cls):\n",
    "\n",
    "        def __init__(self, parent: DUTAnalysis):  # noqa\n",
    "\n",
    "            self.Parent = parent\n",
    "            self.__dict__.update(parent.__dict__)\n",
    "            self.MetaSubDir = 'tel'\n",
    "\n",
    "            self.NPlanes = self.Config.getint('TELESCOPE', 'planes')\n",
    "            self.Plane = self.Planes[0]\n",
    "            self.Cut = TelCut(self)\n",
    "            self.Residuals = res_analysis(cls)(self)\n",
    "\n",
    "        @property\n",
    "        def planes(self):\n",
    "            return arange(self.NPlanes)\n",
    "\n",
    "        # ----------------------------------------\n",
    "        # region DATA\n",
    "        def get_all(self, f, cut=True, **kwargs):\n",
    "            return [f(pl=pl, cut=self.Cut.make_all_cluster() & cut, **kwargs) for pl in range(self.NPlanes)]\n",
    "\n",
    "        def get_n_clusters(self, cut=None, pl=0):\n",
    "            return self.get_data('Clusters', 'N', cut, pl)\n",
    "\n",
    "        def get_us(self, cut=True):\n",
    "            return array(self.get_all(self.get_u, cut, centre=True))\n",
    "\n",
    "        def get_vs(self, cut=True):\n",
    "            return array(self.get_all(self.get_u, cut, centre=True))\n",
    "        # endregion DATA\n",
    "        # ----------------------------------------\n",
    "\n",
    "        # ----------------------------------------\n",
    "        # region DRAW\n",
    "        def draw_occupancy(self, local=True, bw=10, cut=None, pl=None, **dkw):\n",
    "            return super().draw_occupancy(local, bw, cut, fid=False, pl=pl, **dkw)\n",
    "\n",
    "        def draw_n_clusters(self, pl=0, cut=None, **dkw):\n",
    "            return self.Draw.distribution(self.get_n_clusters(cut, pl), **prep_kw(dkw, title='NClusters', x_tit='Number of Clusters', w=1, x0=-.5))\n",
    "        # endregion DRAW\n",
    "        # ----------------------------------------\n",
    "\n",
    "    return TelescopeAnalysis"
   ]
  },
  {
   "cell_type": "code",
   "execution_count": null,
   "metadata": {},
   "outputs": [],
   "source": [
    "#| hide\n",
    "from nbdev import *\n",
    "nbdev_export()"
   ]
  }
 ],
 "metadata": {
  "jupytext": {
   "split_at_heading": true
  },
  "kernelspec": {
   "display_name": "Python 3 (ipykernel)",
   "language": "python",
   "name": "python3"
  }
 },
 "nbformat": 4,
 "nbformat_minor": 4
}
