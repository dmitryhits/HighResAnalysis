{
 "cells": [
  {
   "cell_type": "code",
   "execution_count": null,
   "metadata": {},
   "outputs": [],
   "source": [
    "#| default_exp cern.event_alignment"
   ]
  },
  {
   "cell_type": "markdown",
   "metadata": {},
   "source": [
    "# Event Alignment\n",
    "> Class for aligning events between DUT and telescope (created on July 26th 2022 by M. Reichmann (remichae@phys.ethz.ch))"
   ]
  },
  {
   "cell_type": "code",
   "execution_count": null,
   "metadata": {},
   "outputs": [],
   "source": [
    "#| export\n",
    "#!/usr/bin/env python"
   ]
  },
  {
   "cell_type": "code",
   "execution_count": null,
   "metadata": {},
   "outputs": [
    {
     "name": "stdout",
     "output_type": "stream",
     "text": [
      "Welcome to JupyROOT 6.26/10\n"
     ]
    }
   ],
   "source": [
    "#| export\n",
    "from HighResAnalysis.plotting.utils import info, choose, critical\n",
    "from HighResAnalysis.cern.raw import Raw, Converter\n",
    "import uproot\n",
    "from numpy import array, roll, where, diff, abs, delete, ones, arange"
   ]
  },
  {
   "cell_type": "code",
   "execution_count": null,
   "metadata": {},
   "outputs": [],
   "source": [
    "#| export\n",
    "class EventAlignment:\n",
    "\n",
    "    def __init__(self, raw: Raw):\n",
    "        self.Raw = raw\n",
    "        self.RefPath = raw.DataDir.joinpath('ref', f'anchor{raw.Run.Info[\"telescope run\"]}.root')\n",
    "\n",
    "        self.X = array([])      # ts REF\n",
    "        self.Y = array([])      # ts TEL\n",
    "        self.Cut = array([])    # invalid events\n",
    "\n",
    "        self.NStrangeEvents = 0  # single events with strange timestamps\n",
    "        self.NAdditional = 0  # additional events at the end of the DUT data\n",
    "        self.OffEvents = []\n",
    "\n",
    "    def __repr__(self):\n",
    "        return f'{self.__class__.__name__} of {self.Raw.Run!r}'\n",
    "\n",
    "    def run(self):\n",
    "        self.load_data()\n",
    "        if not self.is_good and len(self.OffEvents) == 0:\n",
    "            self.find_tel_offset()\n",
    "            self.find_events()\n",
    "            if not self.validated:\n",
    "                critical(f'{self!r} failed!')\n",
    "\n",
    "    @property\n",
    "    def cut(self):\n",
    "        self.run()\n",
    "        c = ones(self.X.size + 1, '?')\n",
    "        c[self.OffEvents] = False\n",
    "        return c\n",
    "\n",
    "    @property\n",
    "    def is_good(self):\n",
    "        return self.off_events().size == 0\n",
    "\n",
    "    def load_data(self, reload=False):\n",
    "        if not self.X.size or reload:\n",
    "            Converter.download_raw_file(self.RefPath)\n",
    "            with uproot.open(self.RefPath) as f:\n",
    "                a = array(f['Event']['TimeStamp'], 'i8')\n",
    "            with uproot.open(self.Raw.OutFilePath) as f:\n",
    "                b = array(f['Event']['TimeStamp'], 'i8')\n",
    "                c = array(f['Event']['Invalid'], '?')\n",
    "            a, b, c = diff(a), diff(b // 2), ~(c[:-1] | roll(c[:-1], -1))  # always two timestamps are corrupt\n",
    "            a[a < 0] += 2 ** 31  # fix resets of 32bit int\n",
    "            b[(b < 0) & c] += 2 ** 31\n",
    "            self.X, self.Y, self.Cut = a, b, c\n",
    "\n",
    "    def tdiff(self, start, off, x=None):\n",
    "        \"\"\":returns time difference between two time stamps for a given offset [off] \"\"\"\n",
    "        return abs(roll(choose(x, self.X), -off)[start:self.Y.size] - self.Y[start:])\n",
    "\n",
    "    def off_events(self, start=0, off=0, x=None):\n",
    "        \"\"\":returns events with deviating time stamps. \"\"\"\n",
    "        d = self.tdiff(start, off, x)\n",
    "        return where((d > self.Y[start:] * .001) & self.Cut[start:])[0]\n",
    "\n",
    "    def find_events(self, start=0, off=0):\n",
    "        off_events = self.off_events(start, off)\n",
    "        if off_events.size:\n",
    "            while sum(diff(off_events[:4])) > 5:\n",
    "                self.NStrangeEvents += 1\n",
    "                off_events = off_events[1:]\n",
    "            e = off_events[0] + 1 + start\n",
    "            self.OffEvents.append(e + off)\n",
    "            return self.find_events(e, off + 1)\n",
    "        self.NAdditional = self.X.size - self.Y.size - len(self.OffEvents)\n",
    "        if self.NAdditional > 0:\n",
    "            info(f'removing {self.NAdditional} additional events in the DUT data ...')\n",
    "            self.OffEvents += (self.X.size + arange(-self.NAdditional, 0)).tolist()  # remove all crap events at the end\n",
    "        info(f'found {len(self.OffEvents)} event offsets')\n",
    "\n",
    "    def find_tel_offset(self, max_off=1000):\n",
    "        tel_off = next(i for i in range(max_off) if self.off_events(i, -i)[0] != 0)\n",
    "        if tel_off != 0:\n",
    "            info('Found non-zero telescope offset ... restart conversion! ')\n",
    "            self.Raw.Offset = tel_off\n",
    "            self.Raw.convert()\n",
    "            self.load_data(reload=True)\n",
    "\n",
    "    @property\n",
    "    def validated(self):\n",
    "        return self.off_events(x=delete(self.X, self.OffEvents)).size == len(self.OffEvents) + self.NStrangeEvents - self.NAdditional"
   ]
  },
  {
   "cell_type": "code",
   "execution_count": null,
   "metadata": {},
   "outputs": [],
   "source": [
    "#| hide\n",
    "from nbdev import *\n",
    "nbdev_export()"
   ]
  },
  {
   "cell_type": "code",
   "execution_count": null,
   "metadata": {},
   "outputs": [],
   "source": []
  }
 ],
 "metadata": {
  "jupytext": {
   "split_at_heading": true
  },
  "kernelspec": {
   "display_name": "python3",
   "language": "python",
   "name": "python3"
  }
 },
 "nbformat": 4,
 "nbformat_minor": 4
}
