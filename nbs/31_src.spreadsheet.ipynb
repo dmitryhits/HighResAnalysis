{
 "cells": [
  {
   "cell_type": "code",
   "execution_count": null,
   "metadata": {},
   "outputs": [],
   "source": [
    "#| default_exp src.spreadsheet"
   ]
  },
  {
   "cell_type": "markdown",
   "metadata": {},
   "source": [
    "# Google Spreadsheet Reader\n",
    "> small script to read data from Google spreadsheet (created on August 30th 2018 by M. Reichmann (remichae@phys.ethz.ch))"
   ]
  },
  {
   "cell_type": "code",
   "execution_count": null,
   "metadata": {},
   "outputs": [],
   "source": [
    "#| export\n",
    "#!/usr/bin/env python"
   ]
  },
  {
   "cell_type": "code",
   "execution_count": null,
   "metadata": {},
   "outputs": [
    {
     "name": "stdout",
     "output_type": "stream",
     "text": [
      "Welcome to JupyROOT 6.26/10\n"
     ]
    }
   ],
   "source": [
    "#| export\n",
    "import gspread\n",
    "from oauth2client.service_account import ServiceAccountCredentials\n",
    "from datetime import datetime\n",
    "from json import dump\n",
    "from time import mktime\n",
    "from HighResAnalysis.utility.utils import Dir, array\n",
    "from numpy import where"
   ]
  },
  {
   "cell_type": "code",
   "execution_count": null,
   "metadata": {},
   "outputs": [],
   "source": [
    "#| export\n",
    "def login_to_google():\n",
    "    scope = ['https://spreadsheets.google.com/feeds']\n",
    "    # use credentials to create a client to interact with the Google Drive API\n",
    "    creds = ServiceAccountCredentials.from_json_keyfile_name(Dir.joinpath('config', 'client_secret.json'), scope)\n",
    "    client = gspread.authorize(creds)\n",
    "    return client\n",
    "    # Find a workbook by name and open the first sheet -> make sure to use the right name\n",
    "    # share the spreadsheet with the credential email (beamtest2@beamtest-219608.iam.gserviceaccount.com)"
   ]
  },
  {
   "cell_type": "code",
   "execution_count": null,
   "metadata": {},
   "outputs": [],
   "source": [
    "#| export\n",
    "file_name = 'runlog.json'"
   ]
  },
  {
   "cell_type": "code",
   "execution_count": null,
   "metadata": {},
   "outputs": [],
   "source": [
    "#| export\n",
    "def colnum_string(n):\n",
    "    string = \"\"\n",
    "    while n > 0:\n",
    "        n, remainder = divmod(n - 1, 26)\n",
    "        string = chr(65 + remainder) + string\n",
    "    return string"
   ]
  },
  {
   "cell_type": "code",
   "execution_count": null,
   "metadata": {},
   "outputs": [],
   "source": [
    "#| export\n",
    "def make_timestamp(date, time, off=0):\n",
    "    return int(mktime(datetime.strptime(f'{date}{time}', '%m/%d/%Y%H:%M').timetuple())) + off"
   ]
  },
  {
   "cell_type": "code",
   "execution_count": null,
   "metadata": {},
   "outputs": [],
   "source": [
    "#| export\n",
    "def make_desy_run_log():\n",
    "    client = login_to_google()\n",
    "    sheet = client.open_by_key('1vtwJnPLbk0M1UztpSX9SZNsPYAyMCO0TnYQzD6jQWoo').sheet1\n",
    "    data = sheet.get_all_values()[1:]\n",
    "    dic = {}\n",
    "    status_dict = {'good': 'green', 'bad': 'red', 'ok': 'yellow'}\n",
    "    for row in data:\n",
    "        run = row[0]\n",
    "        if not run or not run.isdigit() or not row[11]:\n",
    "            continue\n",
    "        # row[3] += ':00' if row[3].count(':') == 1 else ''\n",
    "        dut_data = array(row[7:17]).reshape((2, -1)).T.tolist()  # two DUTs\n",
    "        dut_dict = {name: d for name, d in zip(['duts', 'hv supplies', 'hv', 'current', 'trim'], dut_data)}\n",
    "        dic[run] = {'start': make_timestamp(row[1], row[2]),\n",
    "                    'end': make_timestamp(row[1], row[3], off=24 * 60 * 60 if row[3] < row[2] else 0),\n",
    "                    'events': int(float(row[5]) * 1e6),\n",
    "                    **dut_dict,\n",
    "                    'angle': 0 if row[17] == '-' else int(row[17]),\n",
    "                    'status': status_dict[row[18]],\n",
    "                    'batch': f'{row[19]}{row[20]}',\n",
    "                    'comment': row[21],\n",
    "                    'dut position': list(range(len(dut_dict['duts'])))  # there were always two DUTs at DESY\n",
    "                    }\n",
    "    with open(file_name, 'w') as f:\n",
    "        dump(dic, f, indent=2)"
   ]
  },
  {
   "cell_type": "code",
   "execution_count": null,
   "metadata": {},
   "outputs": [],
   "source": [
    "#| export\n",
    "info = {'2018-09': {'key': '1KoDi9OLU0SiqtLvTGgglQGHm51xn5J0ErAs89h6a-Rc',\n",
    "                    'hv': {'II6-A2': '1-5', 'CMS04': '1-4', 'Si-D7': '1-4'},\n",
    "                    'n': [3, 4, 5, 28]},  # [row0 for dut, n dut, n dut rows, row0 for info]\n",
    "        '2018-10': {'key': '1t-MXNW0eN9tkGZSakfPdmnd_wcq4cX14Nw0bQ2ma_OQ',\n",
    "                    'hv': {'II6-A2': '2-1', 'CMS04': '2-3', 'Si-D8': '2-2', 'II6-B6': '2-3'},\n",
    "                    'n': [9, 3, 5, 29]}\n",
    "        }"
   ]
  },
  {
   "cell_type": "code",
   "execution_count": null,
   "metadata": {},
   "outputs": [],
   "source": [
    "#| export\n",
    "def load_cern_sheet(tc='2018-10'):\n",
    "    client = login_to_google()\n",
    "    sheet = client.open_by_key(info[tc]['key']).worksheet('KARTEL')\n",
    "    return sheet.get_all_values()[1:]"
   ]
  },
  {
   "cell_type": "code",
   "execution_count": null,
   "metadata": {},
   "outputs": [],
   "source": [
    "#| export\n",
    "def make_cern_run_log(tc='2018-10'):\n",
    "    data = load_cern_sheet(tc)\n",
    "    hv = info[tc]['hv']\n",
    "    exclude = ['FEI4', '1x5']\n",
    "    dic = {}\n",
    "    for row in data:\n",
    "        run = row[1]\n",
    "        r0, ndut, nrow, r1 = info[tc]['n']\n",
    "        if not run or not run.isdigit() or not row[r1 + 1] or not row[r1 + 2] or not row[0].isdigit():\n",
    "            continue\n",
    "        raw_dut_data = array(row[r0:r0 + ndut * nrow]).reshape((ndut, -1))  # up to four DUTs\n",
    "        raw_dut_data = raw_dut_data[[i for i in range(ndut) if not any([w in raw_dut_data[i][0] for w in exclude])]]  # exclude 5x1\n",
    "        dut_data = array([[w.strip(' ') for w in lst] for lst in raw_dut_data if lst[0]]).T.tolist()  # remove empty DUTs\n",
    "        dut_dict = {name: d for name, d in zip(['duts', 'hv', 'current', 'temp', 'angle'], dut_data)}\n",
    "        if not dut_dict:\n",
    "            continue\n",
    "        dic[run] = {'telescope run': int(row[0]),\n",
    "                    'start': make_timestamp(row[r1 + 1], row[r1 + 2]),\n",
    "                    'end': make_timestamp(row[r1 + 1], row[r1 + 3], off=24 * 60 * 60 if row[r1 + 3] < row[r1 + 2] else 0),\n",
    "                    'events': int(row[r1 + 6]) if row[r1 + 6] else 0,\n",
    "                    'dut position': where(raw_dut_data[:, 0])[0].tolist(),\n",
    "                    **dut_dict,\n",
    "                    'hv supplies': [hv[dut] if dut in hv else '' for dut in dut_dict['duts']],\n",
    "                    'status': row[r1 + 5],\n",
    "                    'batch': row[r1],\n",
    "                    'comment': row[r1 + 8],\n",
    "                    }\n",
    "    with open(file_name, 'w') as f:\n",
    "        dump(dic, f, indent=2)"
   ]
  },
  {
   "cell_type": "code",
   "execution_count": null,
   "metadata": {},
   "outputs": [],
   "source": [
    "#| export\n",
    "def make(bt):\n",
    "    from .analysis import Analysis, critical, info, remove_file\n",
    "    b = Analysis(bt).BeamTest\n",
    "    if b.Location == 'DESY':\n",
    "        make_desy_run_log()\n",
    "    elif b.Location == 'CERN':\n",
    "        make_cern_run_log(b.Path.stem)\n",
    "    else:\n",
    "        critical(f'unknown beam test \"{b.Tag}\" (format: YYYYMM)')\n",
    "\n",
    "    from shutil import move\n",
    "\n",
    "    bf = b.Path.joinpath(file_name)\n",
    "    if bf.exists():\n",
    "        remove_file(bf)\n",
    "    move(file_name, b.Path)\n",
    "    info(f'created \"{file_name} in {b.Path}')"
   ]
  },
  {
   "cell_type": "code",
   "execution_count": null,
   "metadata": {},
   "outputs": [
    {
     "ename": "SyntaxError",
     "evalue": "expected ':' (<unknown>, line 1)",
     "output_type": "error",
     "traceback": [
      "Traceback \u001b[0;36m(most recent call last)\u001b[0m:\n",
      "\u001b[0m  File \u001b[1;32m~/mambaforge/lib/python3.10/site-packages/IPython/core/interactiveshell.py:3433\u001b[0m in \u001b[1;35mrun_code\u001b[0m\n    exec(code_obj, self.user_global_ns, self.user_ns)\u001b[0m\n",
      "\u001b[0m  Cell \u001b[1;32mIn[14], line 3\u001b[0m\n    nbdev_export()\u001b[0m\n",
      "\u001b[0m  File \u001b[1;32m~/mambaforge/lib/python3.10/site-packages/fastcore/script.py:110\u001b[0m in \u001b[1;35m_f\u001b[0m\n    if not mod: return func(*args, **kwargs)\u001b[0m\n",
      "\u001b[0m  File \u001b[1;32m~/mambaforge/lib/python3.10/site-packages/nbdev/doclinks.py:140\u001b[0m in \u001b[1;35mnbdev_export\u001b[0m\n    _build_modidx()\u001b[0m\n",
      "\u001b[0m  File \u001b[1;32m~/mambaforge/lib/python3.10/site-packages/nbdev/doclinks.py:102\u001b[0m in \u001b[1;35m_build_modidx\u001b[0m\n    res['syms'].update(_get_modidx((dest.parent/file).resolve(), code_root, nbs_path=nbs_path))\u001b[0m\n",
      "\u001b[0m  File \u001b[1;32m~/mambaforge/lib/python3.10/site-packages/nbdev/doclinks.py:79\u001b[0m in \u001b[1;35m_get_modidx\u001b[0m\n    for tree in ast.parse(cell.code).body:\u001b[0m\n",
      "\u001b[0;36m  File \u001b[0;32m~/mambaforge/lib/python3.10/ast.py:50\u001b[0;36m in \u001b[0;35mparse\u001b[0;36m\n\u001b[0;31m    return compile(source, filename, mode, flags,\u001b[0;36m\n",
      "\u001b[0;36m  File \u001b[0;32m<unknown>:1\u001b[0;36m\u001b[0m\n\u001b[0;31m    def login_to_google()\u001b[0m\n\u001b[0m                         ^\u001b[0m\n\u001b[0;31mSyntaxError\u001b[0m\u001b[0;31m:\u001b[0m expected ':'\n"
     ]
    }
   ],
   "source": [
    "#| hide\n",
    "from nbdev import *\n",
    "nbdev_export()"
   ]
  },
  {
   "cell_type": "code",
   "execution_count": null,
   "metadata": {},
   "outputs": [],
   "source": []
  }
 ],
 "metadata": {
  "jupytext": {
   "split_at_heading": true
  },
  "kernelspec": {
   "display_name": "Python 3 (ipykernel)",
   "language": "python",
   "name": "python3"
  }
 },
 "nbformat": 4,
 "nbformat_minor": 4
}
