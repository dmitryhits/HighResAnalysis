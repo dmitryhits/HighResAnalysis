{
 "cells": [
  {
   "cell_type": "markdown",
   "id": "75cf9dac-a817-40c7-b571-fc3d08cf44a2",
   "metadata": {},
   "source": [
    "# Conversion to NbDev"
   ]
  },
  {
   "cell_type": "markdown",
   "id": "4dfef8ee-1f9a-4998-8843-5407678676e7",
   "metadata": {},
   "source": [
    "A short description of Converting HighResAnalysis to NbDev"
   ]
  },
  {
   "cell_type": "markdown",
   "id": "ec9041e3-b6af-4eaf-93be-6495c459c5f9",
   "metadata": {},
   "source": [
    "## Motivation"
   ]
  },
  {
   "cell_type": "markdown",
   "id": "b4862ae2-fcd3-4baf-80da-f49efe2b5a60",
   "metadata": {},
   "source": [
    "HighResAnalysis package was developed for analysis of the data that a diamond sensor group at ETH IPA is using to study the data collected in 2018 and 2019 beam tests at CERN and DESY. The main focus of study was on two 3D diamond detectors. The package works and efficient, however, the documentation is sparse and the future development and maintenance of the code is difficult. By converting the code to a notebook style will hopefully improve that."
   ]
  },
  {
   "cell_type": "markdown",
   "id": "3d8682a8-ebc1-4bc2-8610-ac1566e09abc",
   "metadata": {},
   "source": [
    "## lib2nbdev"
   ]
  },
  {
   "cell_type": "markdown",
   "id": "7702d5cc-b259-41ad-9e86-81d48e21a5e0",
   "metadata": {},
   "source": [
    "lib2nbdev is a nice little package originally created by [Zach Mueller at Novetta](https://www.novetta.com/2021/06/lib2nbdev/). The package was however based on the old version of the NbDev so I started by converting it to the new version. I hopefully will describe the details of that conversion on the projects [website](https://dmitryhits.github.io/lib2nbdev/)"
   ]
  },
  {
   "cell_type": "markdown",
   "id": "dff371a8-5259-491a-b893-734df9c571ea",
   "metadata": {},
   "source": [
    "## Conversion"
   ]
  },
  {
   "cell_type": "markdown",
   "id": "7bb761d9-3655-47e8-9fa6-5d2a30f223a3",
   "metadata": {},
   "source": [
    "### First steps"
   ]
  },
  {
   "cell_type": "markdown",
   "id": "fc00ae3d-a2ec-41ad-8dc7-a292af4b841a",
   "metadata": {},
   "source": [
    "I forked the project from [https://github.com/diamondIPP/HighResAnalysis](https://github.com/diamondIPP/HighResAnalysis) to my personal account and cloned it on my laptop. The [lib2nbdev2](https://pypi.org/project/lib2nbdev2/) package provides a `convert_lib` command that, when run in the project directory, creates a notebook for every `.py` file in the `libdir`. The `libdir` is determined from the `settings.ini` file, which is automatically created with most of the information inferred from the github info of the repository. Whatever the program is not able to infer it will ask."
   ]
  },
  {
   "cell_type": "markdown",
   "id": "c45b8d7c-668e-4723-834d-2bbc42442bc6",
   "metadata": {},
   "source": [
    "::: {.callout-note}\n",
    "All of your `.py` files should be preferably inside one directory (`libdir`) which is inside your root github project directory.\n",
    ":::"
   ]
  },
  {
   "cell_type": "markdown",
   "id": "f6fd14c6-39e0-4a87-842f-4e0240376978",
   "metadata": {},
   "source": [
    "My project did not have such directory, so I created it and moved all the dirs with `.py` files into it."
   ]
  },
  {
   "cell_type": "markdown",
   "id": "839540f8-dd17-4e88-b822-8f82aed6b984",
   "metadata": {},
   "source": [
    "This is however all the `convert_lib` program does at the moment. Most of the next steps are done manually.\n",
    "First, I run [`nbdev_new`](https://nbdev.fast.ai/api/cli.html#nbdev_new), which copied an extra necessary files into my project, some of which, for example, `00_core.ipynb` were not needed, so I removed them."
   ]
  },
  {
   "cell_type": "markdown",
   "id": "d6983eb9-ff1b-41e0-8636-0fee71d20e04",
   "metadata": {},
   "source": [
    "### Debugging"
   ]
  },
  {
   "cell_type": "markdown",
   "id": "d6634a50-5b21-495d-b67d-bf0ea33e53f9",
   "metadata": {},
   "source": [
    "The following steps involved long process of adding basic, not yet extensive, documentation, because the `convert_lib` created only standard default titles and descriptions (see below), which need to be changed in order to have at least a useful sidebar."
   ]
  },
  {
   "cell_type": "markdown",
   "id": "e481863c-2515-4b3e-a168-7a582cb83031",
   "metadata": {},
   "source": [
    "![](default_first_cells.png)"
   ]
  },
  {
   "cell_type": "markdown",
   "id": "c6102977-1f1c-4bdc-927c-15944c3d9468",
   "metadata": {},
   "source": [
    "Simultaneously, I was running the notebooks and fixing the errors that come up and also placing"
   ]
  },
  {
   "cell_type": "markdown",
   "id": "3d58ca9b-ce64-4547-a656-ed982d9d0b2d",
   "metadata": {},
   "source": [
    "```python\n",
    "#| hide\n",
    "from nbdev import *\n",
    "nbdev_export()\n",
    "```"
   ]
  },
  {
   "cell_type": "markdown",
   "id": "c1297fc3-d5cf-4df7-9b2a-6d42a453538a",
   "metadata": {},
   "source": [
    "At the bottom of each notebook"
   ]
  },
  {
   "cell_type": "markdown",
   "id": "a67d1deb-c60e-449c-8248-117cd1474419",
   "metadata": {},
   "source": [
    ":::{.callout-tip collapse=\"true\"}\n",
    "## Note to Self\n",
    "I should add that to `convert_lib`\n",
    ":::"
   ]
  },
  {
   "cell_type": "markdown",
   "id": "aa5c1aa1-e4a7-46c7-97b8-0daf9e6a9b49",
   "metadata": {},
   "source": [
    "First, errors I fixed were the import errors. In the notebooks I needed a path to the project that starts from the project lib dir.\n",
    "```python\n",
    "import HighResAnalysis.convert\n",
    "```\n",
    "instead of just:\n",
    "```python\n",
    "import convert\n",
    "```"
   ]
  },
  {
   "cell_type": "code",
   "execution_count": null,
   "id": "ba3624b2-d5ed-411b-b328-25b9d633ae2b",
   "metadata": {},
   "outputs": [],
   "source": []
  }
 ],
 "metadata": {
  "kernelspec": {
   "display_name": "python3",
   "language": "python",
   "name": "python3"
  }
 },
 "nbformat": 4,
 "nbformat_minor": 5
}
