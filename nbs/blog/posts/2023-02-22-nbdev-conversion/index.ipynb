{
 "cells": [
  {
   "cell_type": "markdown",
   "id": "75cf9dac-a817-40c7-b571-fc3d08cf44a2",
   "metadata": {},
   "source": [
    "# Conversion to NbDev"
   ]
  },
  {
   "cell_type": "markdown",
   "id": "4dfef8ee-1f9a-4998-8843-5407678676e7",
   "metadata": {},
   "source": [
    "A short description of Converting HighResAnalysis to NbDev"
   ]
  },
  {
   "cell_type": "code",
   "execution_count": null,
   "id": "b3ab25fd-ddd0-4f89-b3a8-1ef2da898df0",
   "metadata": {},
   "outputs": [],
   "source": []
  }
 ],
 "metadata": {
  "kernelspec": {
   "display_name": "python3",
   "language": "python",
   "name": "python3"
  }
 },
 "nbformat": 4,
 "nbformat_minor": 5
}
