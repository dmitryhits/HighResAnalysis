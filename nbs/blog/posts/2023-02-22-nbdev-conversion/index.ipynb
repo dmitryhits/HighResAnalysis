{
 "cells": [
  {
   "cell_type": "markdown",
   "id": "75cf9dac-a817-40c7-b571-fc3d08cf44a2",
   "metadata": {},
   "source": [
    "# Conversion to NbDev"
   ]
  },
  {
   "cell_type": "markdown",
   "id": "4dfef8ee-1f9a-4998-8843-5407678676e7",
   "metadata": {},
   "source": [
    "A short description of Converting HighResAnalysis to NbDev"
   ]
  },
  {
   "cell_type": "markdown",
   "id": "ec9041e3-b6af-4eaf-93be-6495c459c5f9",
   "metadata": {},
   "source": [
    "## Motivation"
   ]
  },
  {
   "cell_type": "markdown",
   "id": "b4862ae2-fcd3-4baf-80da-f49efe2b5a60",
   "metadata": {},
   "source": [
    "HighResAnalysis package was developed for analysis of the data that a diamond sensor group at ETH IPA is using to study the data collected in 2018 and 2019 beam tests at CERN and DESY. The main focus of study was on two 3D diamond detectors. The package works and efficient, however, the documentation is sparse and the future development and maintenance of the code is difficult. By converting the code to a notebook style will hopefully improve that."
   ]
  },
  {
   "cell_type": "markdown",
   "id": "3d8682a8-ebc1-4bc2-8610-ac1566e09abc",
   "metadata": {},
   "source": [
    "## lib2nbdev"
   ]
  },
  {
   "cell_type": "markdown",
   "id": "7702d5cc-b259-41ad-9e86-81d48e21a5e0",
   "metadata": {},
   "source": [
    "lib2nbdev is a nice little package originally created by [Zach Mueller at Novetta](https://www.novetta.com/2021/06/lib2nbdev/). The package was however based on the old version of the NbDev so I started by converting it to the new version. I hopefully will describe the details of that conversion on the projects [website](https://dmitryhits.github.io/lib2nbdev/)"
   ]
  },
  {
   "cell_type": "markdown",
   "id": "dff371a8-5259-491a-b893-734df9c571ea",
   "metadata": {},
   "source": [
    "## Conversion"
   ]
  },
  {
   "cell_type": "markdown",
   "id": "7bb761d9-3655-47e8-9fa6-5d2a30f223a3",
   "metadata": {},
   "source": [
    "### First steps"
   ]
  },
  {
   "cell_type": "markdown",
   "id": "fc00ae3d-a2ec-41ad-8dc7-a292af4b841a",
   "metadata": {},
   "source": [
    "I forked the project from [https://github.com/diamondIPP/HighResAnalysis](https://github.com/diamondIPP/HighResAnalysis) to my personal account and cloned it on my laptop. The [lib2nbdev2](https://pypi.org/project/lib2nbdev2/) package provides a `convert_lib` command that, when run in the project directory, creates a notebook for every `.py` file in the `libdir`. The `libdir` is determined from the `settings.ini` file, which is automatically created with most of the information inferred from the github info of the repository. Whatever the program is not able to infer it will ask."
   ]
  },
  {
   "cell_type": "raw",
   "id": "afa12f85-5fa0-44ec-825d-2b09395b9051",
   "metadata": {},
   "source": [
    "::: {.callout-note}\n",
    "All of your `.py` files should be preferably inside one directory (`libdir`) which is inside your root github project directory.\n",
    ":::"
   ]
  },
  {
   "cell_type": "markdown",
   "id": "f6fd14c6-39e0-4a87-842f-4e0240376978",
   "metadata": {},
   "source": [
    "My project did not have such directory, so I created it and moved all the dirs with `.py` files into it."
   ]
  },
  {
   "cell_type": "markdown",
   "id": "839540f8-dd17-4e88-b822-8f82aed6b984",
   "metadata": {},
   "source": [
    "This is however all the `convert_lib` program does at the moment. Most of the next steps are done manually.\n",
    "First, I run [`nbdev_new`](https://nbdev.fast.ai/api/cli.html#nbdev_new), which copied an extra necessary files into my project, some of which, for example, `00_core.ipynb` were not needed, so I removed them."
   ]
  },
  {
   "cell_type": "markdown",
   "id": "d6983eb9-ff1b-41e0-8636-0fee71d20e04",
   "metadata": {},
   "source": [
    "### Debugging"
   ]
  },
  {
   "cell_type": "markdown",
   "id": "d6634a50-5b21-495d-b67d-bf0ea33e53f9",
   "metadata": {},
   "source": [
    "The following steps involved long process of adding basic, not yet extensive, documentation, because the `convert_lib` created only standard default titles and descriptions (see below), which need to be changed in order to have at least a useful sidebar."
   ]
  },
  {
   "cell_type": "markdown",
   "id": "e481863c-2515-4b3e-a168-7a582cb83031",
   "metadata": {},
   "source": [
    "![](default_first_cells.png)"
   ]
  },
  {
   "cell_type": "markdown",
   "id": "c6102977-1f1c-4bdc-927c-15944c3d9468",
   "metadata": {},
   "source": [
    "Simultaneously, I was running the notebooks and fixing the errors that come up and also placing"
   ]
  },
  {
   "cell_type": "markdown",
   "id": "3d58ca9b-ce64-4547-a656-ed982d9d0b2d",
   "metadata": {},
   "source": [
    "```python\n",
    "#| hide\n",
    "from nbdev import *\n",
    "nbdev_export()\n",
    "```"
   ]
  },
  {
   "cell_type": "markdown",
   "id": "c1297fc3-d5cf-4df7-9b2a-6d42a453538a",
   "metadata": {},
   "source": [
    "At the bottom of each notebook"
   ]
  },
  {
   "cell_type": "raw",
   "id": "8a0dd7b5-4412-4fa9-8a12-312069143508",
   "metadata": {},
   "source": [
    ":::{.callout-tip collapse=\"true\"}\n",
    "## Note to Self\n",
    "I should add that to `convert_lib`\n",
    ":::"
   ]
  },
  {
   "cell_type": "markdown",
   "id": "aa5c1aa1-e4a7-46c7-97b8-0daf9e6a9b49",
   "metadata": {},
   "source": [
    "First errors, I fixed were the import errors. In the notebooks I needed a path to the project that starts from the project lib dir.\n",
    "```python\n",
    "import HighResAnalysis.convert\n",
    "```\n",
    "instead of just:\n",
    "```python\n",
    "import convert\n",
    "```"
   ]
  },
  {
   "cell_type": "raw",
   "id": "b72bff1a-99d4-47e5-a519-a4f89c5ed165",
   "metadata": {},
   "source": [
    ":::{.callout-tip collapse=\"true\"}\n",
    "## Note to Self\n",
    "I wonder if it also possible to automate\n",
    ":::"
   ]
  },
  {
   "cell_type": "markdown",
   "id": "26465fc0-b702-4046-985f-afde33318502",
   "metadata": {},
   "source": [
    "Next bugs that needed fixing belong to the type of code that works in a file but not in interactive coding:"
   ]
  },
  {
   "cell_type": "markdown",
   "id": "f7bde97c-58e7-4d2a-8fb8-d3d62cf63f38",
   "metadata": {},
   "source": [
    "```python\n",
    "    Dir = Path(__file__).resolve().parent.parent\n",
    "```"
   ]
  },
  {
   "cell_type": "markdown",
   "id": "f79d84cc-6a8f-46fe-bb6b-96856721d578",
   "metadata": {},
   "source": [
    "Will give a `NameError` exception, because `__file__` does not exists in interactive cell. It can be resolved by using a \n",
    "```python\n",
    "try:\n",
    "    ...\n",
    "except:\n",
    "    ...\n",
    "```\n",
    "combo with a reasonable default in case of exception.\n",
    "For example:"
   ]
  },
  {
   "cell_type": "markdown",
   "id": "183bdd57-2c23-4607-abc5-04708ed461d6",
   "metadata": {},
   "source": [
    "```python\n",
    "try:\n",
    "    Dir = Path(__file__).resolve().parent.parent\n",
    "except NameError:\n",
    "    Dir = Path().resolve().parent/\"HighResAnalysis\"\n",
    "```"
   ]
  },
  {
   "cell_type": "markdown",
   "id": "6eb42514-e6a5-4082-8359-a1d463ffa930",
   "metadata": {},
   "source": [
    "The next type of code that does not work in interactive notebooks is anything related with `argparse` module. Luckily, the [fastcore](https://fastcore.fast.ai) module provides a [script](https://fastcore.fast.ai/script.html) module that helps to solve that problem."
   ]
  },
  {
   "cell_type": "markdown",
   "id": "a60bd91e-0660-44d7-ab2f-052fd7ef3b15",
   "metadata": {},
   "source": [
    "The something like this:\n",
    "```python\n",
    "from argparse import ArgumentParser\n",
    "\n",
    "aparser = ArgumentParser()\n",
    "aparser.add_argument('run', nargs='?', default=Analysis.Config.get_value('data', 'default run'))\n",
    "aparser.add_argument('dut', nargs='?', default=Analysis.Config.get_value('data', 'default dut', default=0), type=int)\n",
    "aparser.add_argument('--batch', '-b', nargs='?', default=None, help='batch name')\n",
    "aparser.add_argument('--testcampaign', '-tc', nargs='?', default=Analysis.find_testcampaign())\n",
    "aparser.add_argument('--verbose', '-v', action='store_false')\n",
    "aparser.add_argument('--test', '-t', action='store_true')\n",
    "aparser.add_argument('--remove_meta', '-rm', action='store_true')\n",
    "aparser.add_argument('--convert', '-c', action='store_true', help='removes current analysis files and reconverts from the raw files')\n",
    "aparser.add_argument('--runplan', '-rp', nargs='?', default=None, help='create new runplan.json for beam test <YYYYMM>')\n",
    "\n",
    "args = aparser.parse_args()\n",
    "```"
   ]
  },
  {
   "cell_type": "markdown",
   "id": "7444c21a-ec22-4516-9fb0-8d5d3189b94e",
   "metadata": {},
   "source": [
    "turns into something like this:\n",
    "```python\n",
    "from fastcore.script import *\n",
    "```\n",
    "```python\n",
    "@call_parse\n",
    "def main(verbose:Param('verbosity level', action='store_false'),\n",
    "         test:Param('test run, nothing is converted, just initialize the classes', action='store_true'),\n",
    "         remove_meta:Param('removes ', action='store_true'),\n",
    "         convert:Param('removes current analysis files and reconverts from the raw files', action='store_true'),\n",
    "         run:str=Analysis.Config.get_value('data', 'default run'), # run number or batch id or scan id\n",
    "         dut:int=Analysis.Config.get_value('data', 'default dut', default=0), # DUT number in the telescope\n",
    "         batch:str=None, #batch name\n",
    "         test_campaign:str=Analysis.find_testcampaign(), # test campaign in the YYYYMM format, for example 201912\n",
    "         run_plan:bool=False, # create new runplan.json for beam test <YYYYMM>\n",
    "        ):\n",
    "    ...\n",
    "```"
   ]
  },
  {
   "cell_type": "raw",
   "id": "6ad47e18-70a6-4a77-812c-31608c17c5f2",
   "metadata": {},
   "source": [
    ":::{.callout-tip}\n",
    "## ToDo\n",
    "Check that the script works\n",
    ":::"
   ]
  },
  {
   "cell_type": "markdown",
   "id": "ad9af235-eaa4-4d8b-9ad9-aa3ffd661290",
   "metadata": {},
   "source": [
    "## Git Actions"
   ]
  },
  {
   "cell_type": "markdown",
   "id": "5e4d246c-8b5b-416b-aaa0-c9f106ddb59d",
   "metadata": {},
   "source": [
    "### NbDev version"
   ]
  },
  {
   "cell_type": "markdown",
   "id": "fa208a33-648c-4292-8dcc-3057acc566ae",
   "metadata": {},
   "source": [
    "Unfortunately after passing all test locally on my laptop the code failed to pass the tests on GitHub. One of the bugs, which I discovered last, was an older version of NbDev. Instead of getting the NbDev from `fastchan` I got it from the default mamba/conda channel, which of apparently significantly behind the `fastchan` version."
   ]
  },
  {
   "cell_type": "markdown",
   "id": "2b2d862a-4315-428f-a6b1-613f05d9f932",
   "metadata": {},
   "source": [
    "### Mamba on GitHub"
   ]
  },
  {
   "cell_type": "markdown",
   "id": "86de32cc-cb6a-4ecc-86f0-d9d743bc6d72",
   "metadata": {},
   "source": [
    "Another issue, which required a lot of effort on my part, was unavailability of [ROOT](https://root.cern) package. The package is, however, available on `conda` and hence on `mamba` default channel. After spending some time learning about GitHub actions and `Yaml` from scratch. Luckily, the [documentation on GitHub action](https://docs.github.com/en/actions) is quite good and extensive. I found that there is an action available from [mamba-org](https://github.com/mamba-org/provision-with-micromamba) that allows one get a `micromamba` environment on the GitHub action virtual machine (VR). For the action to work I needed to provide it with `environemnt.yaml`, that is when I realized that none of my repository files are available on the VR by default but luckily there is a `checkout` action available from GitHub [actions](https://github.com/actions/). That allowed the `micromamba` setup to work and to install root, however, it still did not make it available for import in a python script, because the environment was not activated. Here I learned something about the differences in `bash` flavors. If one looks at a log output of a git action, one sees that the default process to execute a `bash` command is `bash -e {0}`, which is not a logging shell. So one needs to change the default to `bash -l {0}` in order to have the login shell available, which allows to activate mamba environment. After that I was able to do `python -c \"import ROOT\"` test. However, I was not finished yet. The `NbDev` actions [nbdev-ci](https://github.com/fastai/workflows/tree/master/nbdev-ci) and [quarto-ghp](https://github.com/fastai/workflows/tree/master/quarto-ghp) changed the processing shell to `bash` and the ROOT was not available any longer. To remedy this I simply copied the `NbDev` workflows into my explicitly and changed the shell back to `bash -l`. This finally, gave me the green mark on both actions and I was able to finally see the projects [website](https://dmitryhits.github.io/HighResAnalysis/) :-)"
   ]
  },
  {
   "cell_type": "markdown",
   "id": "5aab1f8e-dab5-4423-a569-dc01e8cdbb5f",
   "metadata": {},
   "source": []
  }
 ],
 "metadata": {
  "kernelspec": {
   "display_name": "python3",
   "language": "python",
   "name": "python3"
  }
 },
 "nbformat": 4,
 "nbformat_minor": 5
}
