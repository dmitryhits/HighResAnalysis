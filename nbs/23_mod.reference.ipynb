{
 "cells": [
  {
   "cell_type": "code",
   "execution_count": null,
   "metadata": {},
   "outputs": [],
   "source": [
    "#| default_exp mod.reference"
   ]
  },
  {
   "cell_type": "markdown",
   "metadata": {},
   "source": [
    "# Reference Plane Analysis\n",
    "> Analysis of the reference plane (created on August 19th 2020 by M. Reichmann (remichae@phys.ethz.ch))"
   ]
  },
  {
   "cell_type": "code",
   "execution_count": null,
   "metadata": {},
   "outputs": [],
   "source": [
    "#| export\n",
    "#!/usr/bin/env python"
   ]
  },
  {
   "cell_type": "code",
   "execution_count": null,
   "metadata": {},
   "outputs": [
    {
     "name": "stdout",
     "output_type": "stream",
     "text": [
      "Welcome to JupyROOT 6.26/10\n"
     ]
    }
   ],
   "source": [
    "#| export\n",
    "\n",
    "from HighResAnalysis.src.dut_analysis import Run\n",
    "from HighResAnalysis.src.dut import REF\n",
    "from HighResAnalysis.mod.residuals import res_analysis\n",
    "from HighResAnalysis.mod.ref_cuts import RefCut"
   ]
  },
  {
   "cell_type": "code",
   "execution_count": null,
   "metadata": {},
   "outputs": [],
   "source": [
    "#| export\n",
    "def ref_analysis(cls):\n",
    "    class RefAnalysis(cls):\n",
    "\n",
    "        def __init__(self, parent):  # noqa\n",
    "\n",
    "            self.IsRef = True\n",
    "            self.Parent = parent\n",
    "            self.REF = self.Parent  # make DUTAna ref of the reference\n",
    "            self.__dict__.update(parent.__dict__)\n",
    "            self.N = self.n\n",
    "            self.MetaSubDir = 'REF'\n",
    "\n",
    "            self.Run = Run(parent.Run.Number, self.dut_nr, self.BeamTest.Path)\n",
    "            self.DUT = REF(self.dut_nr) if self.Parent.Proteus.NRefPlanes else self.Run.DUT\n",
    "            self.Plane = self.Planes[self.Config.getint('DUT', 'reference plane')] if self.Parent.Proteus.NRefPlanes > 0 else self.DUT.Plane\n",
    "            self.Calibration = None if self.Parent.Proteus.NRefPlanes else self.Converter.load_calibration(self.Run.DUT.Number)\n",
    "            self.Cut = RefCut(self)\n",
    "\n",
    "            self.Residuals = res_analysis(cls)(self)\n",
    "            self.Tracks = self.init_tracks()\n",
    "            self.Efficiency = self.init_eff()\n",
    "            self.Cut.make_additional()\n",
    "\n",
    "        @property\n",
    "        def dut_nr(self):\n",
    "            default = next((i for i, dut in enumerate(self.Parent.Run.DUTs) if dut != self.Parent.DUT.Name), 0)\n",
    "            is_ref = lambda dut: dut in self.Config.get('DUT', 'reference detectors') and dut != self.Parent.DUT.Name\n",
    "            return 0 if self.Parent.Proteus.NRefPlanes > 0 else next((i for i, dut in enumerate(self.Parent.Run.DUTs) if is_ref(dut)), default)\n",
    "\n",
    "    return RefAnalysis"
   ]
  },
  {
   "cell_type": "code",
   "execution_count": null,
   "metadata": {},
   "outputs": [],
   "source": [
    "#| hide\n",
    "from nbdev import *\n",
    "nbdev_export()"
   ]
  }
 ],
 "metadata": {
  "jupytext": {
   "split_at_heading": true
  },
  "kernelspec": {
   "display_name": "python3",
   "language": "python",
   "name": "python3"
  }
 },
 "nbformat": 4,
 "nbformat_minor": 4
}
