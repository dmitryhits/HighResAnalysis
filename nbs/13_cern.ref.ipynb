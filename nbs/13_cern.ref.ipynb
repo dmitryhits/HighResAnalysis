{
 "cells": [
  {
   "cell_type": "code",
   "execution_count": null,
   "metadata": {},
   "outputs": [],
   "source": [
    "#| default_exp cern.ref"
   ]
  },
  {
   "cell_type": "markdown",
   "metadata": {},
   "source": [
    "# Converter for FE-IV reference plane\n",
    "> created on October 12th 2022 by M. Reichmann (remichae@phys.ethz.ch)"
   ]
  },
  {
   "cell_type": "code",
   "execution_count": null,
   "metadata": {},
   "outputs": [
    {
     "name": "stdout",
     "output_type": "stream",
     "text": [
      "Welcome to JupyROOT 6.26/10\n"
     ]
    }
   ],
   "source": [
    "#| export\n",
    "import awkward as aw\n",
    "import uproot\n",
    "\n",
    "from numpy import count_nonzero\n",
    "from HighResAnalysis.cern.converter import CERNConverter\n",
    "from HighResAnalysis.plotting.utils import info"
   ]
  },
  {
   "cell_type": "code",
   "execution_count": null,
   "metadata": {},
   "outputs": [],
   "source": [
    "#| export\n",
    "class RefConverter:\n",
    "\n",
    "    def __init__(self, c: CERNConverter):\n",
    "\n",
    "        self.Parent = c\n",
    "\n",
    "        self.RawFilePath = c.EventAlignment.RefPath\n",
    "        self.OutFilePath = self.RawFilePath.with_name(f'ref-run{c.Run:04d}.root')\n",
    "\n",
    "        self.FlatBranches = ['NHits']\n",
    "\n",
    "        self.Steps = [(self.convert, self.OutFilePath)]\n",
    "\n",
    "    def convert(self):\n",
    "        \"\"\"read the REF root file and remove misaligned events\"\"\"\n",
    "        if not self.RawFilePath.exists():\n",
    "            CERNConverter.download_raw_file(self.RawFilePath)\n",
    "        cut = self.Parent.EventAlignment.cut  # additional events in the DUT data ...\n",
    "        with uproot.open(self.RawFilePath) as f:\n",
    "            with uproot.recreate(self.OutFilePath) as g:\n",
    "                info(f'removing additional events for the REF plane')\n",
    "                data = f[f'Plane0/Hits'].arrays(filter_name=lambda w: not any([b in w for b in self.FlatBranches]))\n",
    "                d = g.mkdir(f'Plane{self.Parent.NTelPlanes}')\n",
    "                flat = {n: arr.flatten()[cut] for n, arr in f[f'Plane0/Hits'].arrays(self.FlatBranches, library='np').items()}\n",
    "                d['Hits'] = {**{k: v.flatten() for k, v in flat.items()}, '': aw.zip({n: data[n][cut] for n in data.fields})}\n",
    "        info(f'successfully wrote {self.OutFilePath} ({count_nonzero(cut)} ev)')"
   ]
  },
  {
   "cell_type": "code",
   "execution_count": null,
   "metadata": {},
   "outputs": [],
   "source": [
    "#| hide\n",
    "from nbdev import *\n",
    "nbdev_export()"
   ]
  },
  {
   "cell_type": "code",
   "execution_count": null,
   "metadata": {},
   "outputs": [],
   "source": []
  }
 ],
 "metadata": {
  "jupytext": {
   "split_at_heading": true
  },
  "kernelspec": {
   "display_name": "python3",
   "language": "python",
   "name": "python3"
  }
 },
 "nbformat": 4,
 "nbformat_minor": 4
}
