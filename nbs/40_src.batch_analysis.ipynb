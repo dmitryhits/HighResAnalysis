{
 "cells": [
  {
   "cell_type": "code",
   "execution_count": null,
   "metadata": {},
   "outputs": [],
   "source": [
    "#| default_exp src.batch_analysis"
   ]
  },
  {
   "cell_type": "markdown",
   "metadata": {},
   "source": [
    "# Batch Analysis\n",
    "> class for analysis of a batch of runs for a single DUT (created on October 27th 2022 by M. Reichmann (remichae@phys.ethz.ch))"
   ]
  },
  {
   "cell_type": "code",
   "execution_count": null,
   "metadata": {},
   "outputs": [],
   "source": [
    "#| export\n",
    "#!/usr/bin/env python"
   ]
  },
  {
   "cell_type": "code",
   "execution_count": null,
   "metadata": {},
   "outputs": [
    {
     "name": "stdout",
     "output_type": "stream",
     "text": [
      "Welcome to JupyROOT 6.26/10\n"
     ]
    },
    {
     "ename": "ImportError",
     "evalue": "cannot import name 'CERNConverter' from partially initialized module 'HighResAnalysis.cern.converter' (most likely due to a circular import) (/Users/hits/Documents/GitHub/HighResAnalysis/HighResAnalysis/cern/converter.py)",
     "output_type": "error",
     "traceback": [
      "\u001b[0;31m---------------------------------------------------------------------------\u001b[0m",
      "\u001b[0;31mImportError\u001b[0m                               Traceback (most recent call last)",
      "Cell \u001b[0;32mIn[3], line 4\u001b[0m\n\u001b[1;32m      2\u001b[0m \u001b[38;5;28;01mfrom\u001b[39;00m \u001b[38;5;21;01mpathlib\u001b[39;00m \u001b[38;5;28;01mimport\u001b[39;00m Path\n\u001b[1;32m      3\u001b[0m \u001b[38;5;28;01mfrom\u001b[39;00m \u001b[38;5;21;01mdatetime\u001b[39;00m \u001b[38;5;28;01mimport\u001b[39;00m datetime\n\u001b[0;32m----> 4\u001b[0m \u001b[38;5;28;01mfrom\u001b[39;00m \u001b[38;5;21;01mHighResAnalysis\u001b[39;00m\u001b[38;5;21;01m.\u001b[39;00m\u001b[38;5;21;01msrc\u001b[39;00m\u001b[38;5;21;01m.\u001b[39;00m\u001b[38;5;21;01mdut_analysis\u001b[39;00m \u001b[38;5;28;01mimport\u001b[39;00m DUTAnalysis, Analysis, ev2str\n\u001b[1;32m      5\u001b[0m \u001b[38;5;28;01mfrom\u001b[39;00m \u001b[38;5;21;01mHighResAnalysis\u001b[39;00m\u001b[38;5;21;01m.\u001b[39;00m\u001b[38;5;21;01msrc\u001b[39;00m\u001b[38;5;21;01m.\u001b[39;00m\u001b[38;5;21;01mrun\u001b[39;00m \u001b[38;5;28;01mimport\u001b[39;00m init_batch, Batch\n\u001b[1;32m      6\u001b[0m \u001b[38;5;28;01mfrom\u001b[39;00m \u001b[38;5;21;01mHighResAnalysis\u001b[39;00m\u001b[38;5;21;01m.\u001b[39;00m\u001b[38;5;21;01msrc\u001b[39;00m\u001b[38;5;21;01m.\u001b[39;00m\u001b[38;5;21;01mconverter\u001b[39;00m \u001b[38;5;28;01mimport\u001b[39;00m batch_converter\n",
      "File \u001b[0;32m~/Documents/GitHub/HighResAnalysis/HighResAnalysis/src/dut_analysis.py:12\u001b[0m\n\u001b[1;32m     10\u001b[0m \u001b[38;5;28;01mfrom\u001b[39;00m \u001b[38;5;21;01mtyping\u001b[39;00m \u001b[38;5;28;01mimport\u001b[39;00m Any\n\u001b[1;32m     11\u001b[0m \u001b[38;5;28;01mfrom\u001b[39;00m \u001b[38;5;21;01mpathlib\u001b[39;00m \u001b[38;5;28;01mimport\u001b[39;00m Path\n\u001b[0;32m---> 12\u001b[0m \u001b[38;5;28;01mimport\u001b[39;00m \u001b[38;5;21;01mHighResAnalysis\u001b[39;00m\u001b[38;5;21;01m.\u001b[39;00m\u001b[38;5;21;01mcern\u001b[39;00m\u001b[38;5;21;01m.\u001b[39;00m\u001b[38;5;21;01mconverter\u001b[39;00m\n\u001b[1;32m     13\u001b[0m \u001b[38;5;28;01mimport\u001b[39;00m \u001b[38;5;21;01mHighResAnalysis\u001b[39;00m\u001b[38;5;21;01m.\u001b[39;00m\u001b[38;5;21;01mplotting\u001b[39;00m\u001b[38;5;21;01m.\u001b[39;00m\u001b[38;5;21;01mlatex\u001b[39;00m \u001b[38;5;28;01mas\u001b[39;00m \u001b[38;5;21;01mtex\u001b[39;00m\n\u001b[1;32m     14\u001b[0m \u001b[38;5;28;01mimport\u001b[39;00m \u001b[38;5;21;01mHighResAnalysis\u001b[39;00m\u001b[38;5;21;01m.\u001b[39;00m\u001b[38;5;21;01msrc\u001b[39;00m\u001b[38;5;21;01m.\u001b[39;00m\u001b[38;5;21;01mconverter\u001b[39;00m\n",
      "File \u001b[0;32m~/Documents/GitHub/HighResAnalysis/HighResAnalysis/cern/converter.py:16\u001b[0m\n\u001b[1;32m     13\u001b[0m \u001b[38;5;28;01mimport\u001b[39;00m \u001b[38;5;21;01muproot\u001b[39;00m\n\u001b[1;32m     15\u001b[0m \u001b[38;5;28;01mfrom\u001b[39;00m \u001b[38;5;21;01m.\u001b[39;00m\u001b[38;5;21;01m.\u001b[39;00m\u001b[38;5;21;01mplotting\u001b[39;00m\u001b[38;5;21;01m.\u001b[39;00m\u001b[38;5;21;01mutils\u001b[39;00m \u001b[38;5;28;01mimport\u001b[39;00m array, info \u001b[38;5;28;01mas\u001b[39;00m pinfo\n\u001b[0;32m---> 16\u001b[0m \u001b[38;5;28;01mfrom\u001b[39;00m \u001b[38;5;21;01m.\u001b[39;00m\u001b[38;5;21;01m.\u001b[39;00m\u001b[38;5;21;01msrc\u001b[39;00m\u001b[38;5;21;01m.\u001b[39;00m\u001b[38;5;21;01mconverter\u001b[39;00m \u001b[38;5;28;01mimport\u001b[39;00m Converter, DUT\n\u001b[1;32m     18\u001b[0m \u001b[38;5;66;03m# %% ../../nbs/12_cern.converter.ipynb 4\u001b[39;00m\n\u001b[1;32m     19\u001b[0m \u001b[38;5;28;01mclass\u001b[39;00m \u001b[38;5;21;01mCERNConverter\u001b[39;00m(Converter):\n",
      "File \u001b[0;32m~/Documents/GitHub/HighResAnalysis/HighResAnalysis/src/converter.py:23\u001b[0m\n\u001b[1;32m     21\u001b[0m \u001b[38;5;28;01mfrom\u001b[39;00m \u001b[38;5;21;01m.\u001b[39;00m\u001b[38;5;21;01m.\u001b[39;00m\u001b[38;5;21;01mutility\u001b[39;00m\u001b[38;5;21;01m.\u001b[39;00m\u001b[38;5;21;01mutils\u001b[39;00m \u001b[38;5;28;01mimport\u001b[39;00m \u001b[38;5;241m*\u001b[39m\n\u001b[1;32m     22\u001b[0m \u001b[38;5;28;01mfrom\u001b[39;00m \u001b[38;5;21;01m.\u001b[39;00m\u001b[38;5;21;01m.\u001b[39;00m\u001b[38;5;21;01mplotting\u001b[39;00m\u001b[38;5;21;01m.\u001b[39;00m\u001b[38;5;21;01mutils\u001b[39;00m \u001b[38;5;28;01mimport\u001b[39;00m download_file, remove_file, warning\n\u001b[0;32m---> 23\u001b[0m \u001b[38;5;28;01mfrom\u001b[39;00m \u001b[38;5;21;01m.\u001b[39;00m\u001b[38;5;21;01m.\u001b[39;00m\u001b[38;5;21;01mcern\u001b[39;00m\u001b[38;5;21;01m.\u001b[39;00m\u001b[38;5;21;01mconverter\u001b[39;00m \u001b[38;5;28;01mimport\u001b[39;00m CERNConverter\n\u001b[1;32m     24\u001b[0m \u001b[38;5;28;01mfrom\u001b[39;00m \u001b[38;5;21;01m.\u001b[39;00m\u001b[38;5;21;01manalysis\u001b[39;00m \u001b[38;5;28;01mimport\u001b[39;00m Analysis\n\u001b[1;32m     26\u001b[0m \u001b[38;5;66;03m# %% ../../nbs/37_src.converter.ipynb 4\u001b[39;00m\n",
      "\u001b[0;31mImportError\u001b[0m: cannot import name 'CERNConverter' from partially initialized module 'HighResAnalysis.cern.converter' (most likely due to a circular import) (/Users/hits/Documents/GitHub/HighResAnalysis/HighResAnalysis/cern/converter.py)"
     ]
    }
   ],
   "source": [
    "#| export\n",
    "from pathlib import Path\n",
    "from datetime import datetime\n",
    "from HighResAnalysis.src.dut_analysis import DUTAnalysis, Analysis, ev2str\n",
    "from HighResAnalysis.src.run import init_batch, Batch\n",
    "from HighResAnalysis.src.converter import batch_converter"
   ]
  },
  {
   "cell_type": "code",
   "execution_count": null,
   "metadata": {},
   "outputs": [],
   "source": [
    "#| export\n",
    "class BatchAnalysis(DUTAnalysis):\n",
    "\n",
    "    def __init__(self, batch_name, dut_number, test_campaign, verbose=True, test=False):\n",
    "\n",
    "        self.Batch = batch_name if isinstance(batch_name, Batch) else init_batch(batch_name, dut_number, Analysis(test_campaign).BeamTest)\n",
    "        super().__init__(self.prepare_run(), dut_number, test_campaign, verbose, test)\n",
    "\n",
    "    def prepare_run(self):\n",
    "        run = self.Batch.min_run\n",
    "        if self.Batch.DUTName is not None:\n",
    "            run.NDUTs = 1\n",
    "            dut = run.DUT\n",
    "            dut.Number = 0\n",
    "            dut.Plane.Number = Analysis.Config.getint('TELESCOPE', 'planes') + int(dut.HasRef)\n",
    "        return run\n",
    "\n",
    "    @classmethod\n",
    "    def from_batch(cls, batch: Batch, verbose=True, test=False):\n",
    "        return cls(batch, batch.DUT.Number, test_campaign=batch.DataDir.stem, verbose=verbose, test=test)\n",
    "\n",
    "    @property\n",
    "    def server_save_dir(self):\n",
    "        return Path('duts', str(self.DUT), self.BeamTest.Tag, f'b-{self.Batch}')\n",
    "\n",
    "    @property\n",
    "    def ev_str(self):\n",
    "        return f'{ev2str(self.NEvents if hasattr(self, \"NEvents\") else self.Batch.n_ev)} ev'\n",
    "\n",
    "    @property\n",
    "    def suffix(self):\n",
    "        return f'{self.DUT}-{self.Batch}-{self.BeamTest.Location}'.lower().replace('ii6-', '')\n",
    "\n",
    "    @property\n",
    "    def unit_str(self):\n",
    "        return f'batch {self.Batch}'\n",
    "\n",
    "    @property\n",
    "    def run_str(self):\n",
    "        return f'b-{self.Batch}'\n",
    "\n",
    "    def init_converter(self):\n",
    "        return self.converter.from_batch(self.Batch)\n",
    "\n",
    "    @property\n",
    "    def converter(self):\n",
    "        return batch_converter(super(BatchAnalysis, self).converter)\n",
    "\n",
    "    @property\n",
    "    def file_name(self):\n",
    "        return self.Batch.FileName\n",
    "\n",
    "    def get_end_time(self):\n",
    "        t0, t1 = self.Batch.Runs[-1].LogEnd, self.F['Event']['Time'][-1]\n",
    "        return datetime.fromtimestamp(t1 if abs(t1 - t0) < 60 * 10 else t0)  # only take data time stamp if deviating less than 10 min from when the log was started"
   ]
  },
  {
   "cell_type": "code",
   "execution_count": null,
   "metadata": {},
   "outputs": [],
   "source": [
    "#| hide\n",
    "from nbdev import *\n",
    "nbdev_export()"
   ]
  }
 ],
 "metadata": {
  "jupytext": {
   "split_at_heading": true
  },
  "kernelspec": {
   "display_name": "python3",
   "language": "python",
   "name": "python3"
  }
 },
 "nbformat": 4,
 "nbformat_minor": 4
}
