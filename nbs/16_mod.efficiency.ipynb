{
 "cells": [
  {
   "cell_type": "code",
   "execution_count": null,
   "metadata": {},
   "outputs": [],
   "source": [
    "#| default_exp mod.efficiency"
   ]
  },
  {
   "cell_type": "markdown",
   "metadata": {},
   "source": [
    "# Efficiency module\n",
    ">  class for efficiency of a single DUT created on March 22nd 2022 by M. Reichmann (remichae@phys.ethz.ch)"
   ]
  },
  {
   "cell_type": "code",
   "execution_count": null,
   "metadata": {},
   "outputs": [],
   "source": [
    "#| export\n",
    "#!/usr/bin/env python"
   ]
  },
  {
   "cell_type": "code",
   "execution_count": null,
   "metadata": {},
   "outputs": [],
   "source": [
    "#| export\n",
    "import HighResAnalysis.src.bins as bins\n",
    "from HighResAnalysis.src.dut_analysis import DUTAnalysis\n",
    "from HighResAnalysis.plotting.utils import calc_eff, prep_kw\n",
    "from HighResAnalysis.plotting.draw import hist_values_2d, ax_range\n",
    "from numpy import rad2deg, mean\n",
    "from functools import partial"
   ]
  },
  {
   "cell_type": "code",
   "execution_count": null,
   "metadata": {},
   "outputs": [],
   "source": [
    "#| export\n",
    "def eff_analysis(cls):\n",
    "    class Efficiency(cls):\n",
    "\n",
    "        YArgs = {'y_tit': 'Efficiency [%]', 'y_range': [0, 105]}\n",
    "        ZArgs = {'z_tit': 'Efficiency [%]', 'z_range': [0, 100]}\n",
    "\n",
    "        def __init__(self, parent: DUTAnalysis):  # noqa\n",
    "            self.__dict__.update(parent.__dict__)\n",
    "            self.MetaSubDir = 'Eff'\n",
    "            self.Cut = self.Tracks.Cut\n",
    "\n",
    "        def __call__(self):\n",
    "            return self.value()\n",
    "\n",
    "        def value(self, cut=None):\n",
    "            return calc_eff(values=self.values(cut))\n",
    "\n",
    "        def values(self, cut=None):\n",
    "            return self.get_cluster_size(cut=cut).astype('?')\n",
    "\n",
    "        def pvalues(self, cut=None):\n",
    "            return (self.get_cluster_size(cut=cut).astype('?') * 100).astype('d')\n",
    "\n",
    "        def segment_values(self, nx=2, ny=3, cut=None):\n",
    "            return hist_values_2d(self.draw_map(local=True, cut=cut, binning=bins.make2d(*self.segments(nx, ny)), save=False), err=False, flat=False)\n",
    "\n",
    "        # ----------------------------------------\n",
    "        # region DRAW\n",
    "        def draw(self, bw=None, **dkw):\n",
    "            t, e = self.time(), self.values()\n",
    "            return self.Draw.efficiency(t, e, **prep_kw(dkw, w=bw, **self.t_args(), **self.YArgs, stats=False, file_name='EfficiencyTrend'))\n",
    "\n",
    "        def draw_vs_tp(self, **dkw):\n",
    "            x, y = [f(cut=self.Cut.exclude('tp')) for f in [self.get_trigger_phase, self.values]]  # noqa\n",
    "            return self.Draw.efficiency(x, y, bins.TP, 'Efficiency vs. Trigger Phase', **prep_kw(dkw, x_tit='Trigger Phase', **self.YArgs, file_name='EffieciencyTP'))\n",
    "\n",
    "        def draw_map(self, res=.5, local=True, eff=True, both=False, fid=False, cut=None, **dkw):\n",
    "            (x, y), e = [f(cut=self.Cut.get_nofid(cut, fid)) for f in [partial(self.Tracks.get_xy, local=local), self.pvalues]]\n",
    "            e[e < 1] = 1e-4  # zero values are not shown in the map ...\n",
    "            t = [*self.draw_text(not self.Surface, cut, local, eff and both), *self.draw_text(self.Surface, cut, local, eff)]\n",
    "            b = bins.get_xy(local, self.Plane, res)\n",
    "            return self.Draw.prof2d(x, y, e, **prep_kw(dkw, title='Efficiency Map', binning=b, **self.ZArgs, **self.ax_tits(local), leg=t, file_name='EfficiencyMap'))\n",
    "\n",
    "        def draw_text(self, surface, cut, local=True, show=True):\n",
    "            if show:\n",
    "                self.activate_surface(surface)\n",
    "                x, y = [.5 if i is None else mean(ax_range(i)) for i in self.Cut.get_fid_config(surface, local=local)]\n",
    "                return [self.Cut.get_fid(surface, local=local), self.Draw.textbox(f'{self.value(cut)[0]:2.1f}%', x, y, s=2 if local else .3, opacity=.4, ndc=False, show=False)]\n",
    "            return []\n",
    "\n",
    "        def draw_segments(self, res=.5, local=True, nx=10, ny=15, cut=None, **dkw):\n",
    "            e = self.segment_values(nx, ny, cut)\n",
    "            xs, ys = self.segment_centres(nx, ny)\n",
    "            t = self.draw_grid(nx, ny) + [self.Draw.tlatex(x, y, '{:2.1f}'.format(e[i][j]), str(i * y.size + j), 22, size=.02) for j, x in enumerate(xs) for i, y in enumerate(ys)]\n",
    "            return self.draw_map(res, local, cut=cut, eff=False, **prep_kw(dkw, leg=t, file_name=f'EffMap{nx}x{ny}'))\n",
    "\n",
    "        def draw_segment_distribution(self, nx=10, ny=15, cut=None, segments=True, **dkw):\n",
    "            e = self.segment_values(nx, ny, cut).flatten() if segments else hist_values_2d(self.draw_map(.5, show=False), err=False)\n",
    "            self.Draw.distribution(e, **prep_kw(dkw, title='Segment Efficiencies', x_tit='Efficiency [%]'))\n",
    "\n",
    "        def draw_in_pixel(self, n=10, ox=0, oy=0, cut=None, **dkw):\n",
    "            return super().draw_in_pixel(ox, oy, n, cut, self.pvalues, tit='Efficiency', **prep_kw(dkw, **self.ZArgs))\n",
    "\n",
    "        def draw_in_cell(self, n=10, ox=0, oy=0, cut=None, **dkw):\n",
    "            return super().draw_in_cell(ox, oy, n, cut, self.pvalues, tit='Efficiency', **prep_kw(dkw, **self.ZArgs))\n",
    "\n",
    "        def draw_col_vs_angle(self, r=10, bias=True, **dkw):\n",
    "            cut = self.Cut.add(self.Cut.make_cell_fiducial(0, r, *self.DUT.PXYu / 2 if bias else (0, 0)))\n",
    "            x, y, zz = rad2deg(self.get_slope_x(cut=cut)), rad2deg(self.get_slope_y(cut=cut)), self.pvalues(cut=cut)\n",
    "            return self.Draw.prof2d(x, y, zz, **prep_kw(dkw, x_tit='Slope X [deg]', y_tit='Slope Y [deg]', **self.ZArgs, file_name='EffColvsAngle'))\n",
    "        # endregion DRAW\n",
    "        # ----------------------------------------\n",
    "\n",
    "    return Efficiency"
   ]
  },
  {
   "cell_type": "code",
   "execution_count": null,
   "metadata": {},
   "outputs": [],
   "source": [
    "#| hide\n",
    "from nbdev import *\n",
    "nbdev_export()"
   ]
  },
  {
   "cell_type": "code",
   "execution_count": null,
   "metadata": {},
   "outputs": [],
   "source": []
  }
 ],
 "metadata": {
  "jupytext": {
   "split_at_heading": true
  },
  "kernelspec": {
   "display_name": "python3",
   "language": "python",
   "name": "python3"
  }
 },
 "nbformat": 4,
 "nbformat_minor": 4
}
