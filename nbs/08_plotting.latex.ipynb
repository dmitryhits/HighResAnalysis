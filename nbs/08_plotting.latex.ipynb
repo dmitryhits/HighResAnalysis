{
 "cells": [
  {
   "cell_type": "code",
   "execution_count": null,
   "metadata": {},
   "outputs": [],
   "source": [
    "#| default_exp plotting.latex"
   ]
  },
  {
   "cell_type": "markdown",
   "metadata": {},
   "source": [
    "# LATEX UTILITY FUNCTIONS\n",
    "> created on November 16th 2021 by M. Reichmann"
   ]
  },
  {
   "cell_type": "code",
   "execution_count": null,
   "metadata": {},
   "outputs": [],
   "source": [
    "#| export\n",
    "from numpy import array, column_stack"
   ]
  },
  {
   "cell_type": "code",
   "execution_count": null,
   "metadata": {},
   "outputs": [],
   "source": [
    "#| export\n",
    "def f(name, *args):\n",
    "    return f'\\\\{name}' + ''.join(f'{{{i}}}' for i in args)"
   ]
  },
  {
   "cell_type": "code",
   "execution_count": null,
   "metadata": {},
   "outputs": [],
   "source": [
    "#| export\n",
    "def multirow(txt, n, pos='*'):\n",
    "    return f('multirow', n, pos, txt)"
   ]
  },
  {
   "cell_type": "code",
   "execution_count": null,
   "metadata": {},
   "outputs": [],
   "source": [
    "#| export\n",
    "def makecell(*txt):\n",
    "    return f('makecell', '\\\\\\\\'.join(txt))"
   ]
  },
  {
   "cell_type": "code",
   "execution_count": null,
   "metadata": {},
   "outputs": [],
   "source": [
    "#| export\n",
    "def bold(*txt):\n",
    "    return [f('textbf', i) for i in txt]"
   ]
  },
  {
   "cell_type": "code",
   "execution_count": null,
   "metadata": {},
   "outputs": [],
   "source": [
    "#| export\n",
    "def math(txt):\n",
    "    return f'${txt}$'"
   ]
  },
  {
   "cell_type": "code",
   "execution_count": null,
   "metadata": {},
   "outputs": [],
   "source": [
    "#| export\n",
    "def unit(*txt, custom=False):\n",
    "    return f('unit', ''.join(f' {t}' if custom else f(t) for t in txt))"
   ]
  },
  {
   "cell_type": "code",
   "execution_count": null,
   "metadata": {},
   "outputs": [],
   "source": [
    "#| export\n",
    "def si(*v, fmt='.1f', unt=None):\n",
    "    return qty(*v, fmt=fmt, unt=unt)"
   ]
  },
  {
   "cell_type": "code",
   "execution_count": null,
   "metadata": {},
   "outputs": [],
   "source": [
    "#| export\n",
    "def qty(*v, fmt='.1f', unt=None):\n",
    "    return num(*v, fmt=fmt) if unt is None else [f('qty', f'{i:{fmt}}', f'\\\\{unt}').replace('/', '') for i in v]"
   ]
  },
  {
   "cell_type": "code",
   "execution_count": null,
   "metadata": {},
   "outputs": [],
   "source": [
    "#| export\n",
    "def si_2err(*v, fmt='.1f', unt=None):\n",
    "    return f('SIserr', *[f'{i:{fmt}}' for i in v], f(unt))"
   ]
  },
  {
   "cell_type": "code",
   "execution_count": null,
   "metadata": {},
   "outputs": [],
   "source": [
    "#| export\n",
    "def num(*v, fmt='.1f', rm='@'):\n",
    "    return [num_2err(i) if hasattr(i, '__len__') else f('num', f'{i:{fmt}}').replace('/', '').replace(rm, '') for i in v]"
   ]
  },
  {
   "cell_type": "code",
   "execution_count": null,
   "metadata": {},
   "outputs": [],
   "source": [
    "#| export\n",
    "def num_2err(v, fmt='.1f'):\n",
    "    return f('numerr', *[f'{i:{fmt}}' for i in v])"
   ]
  },
  {
   "cell_type": "code",
   "execution_count": null,
   "metadata": {},
   "outputs": [],
   "source": [
    "#| export\n",
    "def si_range(v0, v1, fmt='.0f', unt=None):\n",
    "    return qty_range(v0, v1, fmt, unt)"
   ]
  },
  {
   "cell_type": "code",
   "execution_count": null,
   "metadata": {},
   "outputs": [],
   "source": [
    "#| export\n",
    "def qty_range(v0, v1, fmt='.0f', unt=None):\n",
    "    return num_range(v0, v1, fmt) if unt is None else f('qtyrange', f'{v0:{fmt}}', f'{float(v1):{fmt}}', f'\\\\{unt}')"
   ]
  },
  {
   "cell_type": "code",
   "execution_count": null,
   "metadata": {},
   "outputs": [],
   "source": [
    "#| export\n",
    "def num_range(v0, v1, fmt='.0f'):\n",
    "    return f('numrange', f'{v0:{fmt}}', f'{v1:{fmt}}')"
   ]
  },
  {
   "cell_type": "code",
   "execution_count": null,
   "metadata": {},
   "outputs": [],
   "source": [
    "#| export\n",
    "def hline(word):\n",
    "    return word + ' \\\\\\\\' + f('hline') if 'hline' not in word else word"
   ]
  },
  {
   "cell_type": "code",
   "execution_count": null,
   "metadata": {},
   "outputs": [],
   "source": [
    "#| export\n",
    "def table_row(*words, endl=False):\n",
    "    row = f'  { \" & \".join(words)}'\n",
    "    return hline(row) if endl or 'hline' in row else f'{row} \\\\\\\\'"
   ]
  },
  {
   "cell_type": "code",
   "execution_count": null,
   "metadata": {},
   "outputs": [],
   "source": [
    "#| export\n",
    "def table(header, rows, endl=False, align_header=False):\n",
    "    cols = array(rows, str).T\n",
    "    max_width = [len(max(col, key=len).replace(' \\\\\\\\\\\\hline', '')) for col in (column_stack([cols, header]) if align_header else cols)]  # noqa\n",
    "    rows = array([[f'{word:<{w}}' for word in col] for col, w in zip(cols, max_width)]).T\n",
    "    rows = '\\n'.join(table_row(*row, endl=endl) for row in rows)\n",
    "    return f'{table_row(*header, endl=True)}\\n{rows}' if header else rows"
   ]
  },
  {
   "cell_type": "code",
   "execution_count": null,
   "metadata": {},
   "outputs": [],
   "source": [
    "#| hide\n",
    "from nbdev import *\n",
    "nbdev_export()"
   ]
  },
  {
   "cell_type": "code",
   "execution_count": null,
   "metadata": {},
   "outputs": [],
   "source": []
  }
 ],
 "metadata": {
  "jupytext": {
   "split_at_heading": true
  },
  "kernelspec": {
   "display_name": "Python 3 (ipykernel)",
   "language": "python",
   "name": "python3"
  }
 },
 "nbformat": 4,
 "nbformat_minor": 4
}
