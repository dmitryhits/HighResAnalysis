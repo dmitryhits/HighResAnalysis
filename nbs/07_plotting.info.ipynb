{
 "cells": [
  {
   "cell_type": "code",
   "execution_count": null,
   "metadata": {},
   "outputs": [],
   "source": [
    "#| default_exp plotting.info"
   ]
  },
  {
   "cell_type": "markdown",
   "metadata": {},
   "source": [
    "# Plot Info Legend Utils\n",
    "> Class to draw the info legend for an analysis class (created on Jan 30th 2018 by M. Reichmann (remichae@phys.ethz.ch))"
   ]
  },
  {
   "cell_type": "code",
   "execution_count": null,
   "metadata": {},
   "outputs": [],
   "source": [
    "#| export\n",
    "#!/usr/bin/env python"
   ]
  },
  {
   "cell_type": "code",
   "execution_count": null,
   "metadata": {},
   "outputs": [],
   "source": [
    "#| export\n",
    "\n",
    "from os import chdir\n",
    "from subprocess import check_output\n",
    "from HighResAnalysis.plotting.utils import warning"
   ]
  },
  {
   "cell_type": "code",
   "execution_count": null,
   "metadata": {},
   "outputs": [],
   "source": [
    "#| export\n",
    "class Info(object):\n",
    "\n",
    "    ShowLegend = False\n",
    "\n",
    "    def __init__(self, draw):\n",
    "        self.Draw = draw\n",
    "        self.ShowDate = draw.Config.get_value('SAVE', 'date', default=False)\n",
    "        self.ShowGit = draw.Config.get_value('SAVE', 'git hash', default=False) and not self.ShowDate\n",
    "\n",
    "        self.Objects = []\n",
    "\n",
    "    def __str__(self):\n",
    "        return '' if not any([self.ShowDate, self.ShowGit, self.ShowLegend]) else 'ON'\n",
    "\n",
    "    def __repr__(self):\n",
    "        on = ['OFF', 'ON']\n",
    "        return f'Plotting {self.__class__.__name__}: legend {on[self.ShowLegend]}, git hash {on[self.ShowGit]}, date {on[self.ShowDate]}'\n",
    "\n",
    "    def is_active(self):  # noqa\n",
    "        return True\n",
    "\n",
    "    def get(self, canvas=None):\n",
    "        return self.draw(canvas)\n",
    "\n",
    "    def draw_legend(self):  # noqa\n",
    "        return False\n",
    "\n",
    "    def draw(self, canvas=None, all_pads=True):\n",
    "        \"\"\" draws the active information on the canvas \"\"\"\n",
    "        if not self.is_active():\n",
    "            return\n",
    "        if canvas is not None:\n",
    "            canvas.cd()\n",
    "            if canvas.GetBottomMargin() < .105 and self.ShowLegend:\n",
    "                canvas.SetBottomMargin(0.15)\n",
    "        else:\n",
    "            canvas = gROOT.GetSelectedPad()\n",
    "            if not canvas:\n",
    "                return warning('Cannot access an active Pad')\n",
    "\n",
    "        pads = [i for i in canvas.GetListOfPrimitives() if i.IsA().GetName() == 'TPad'] if all_pads else [canvas]\n",
    "        leg, git = None, None\n",
    "        for pad in [canvas] if not pads else pads:\n",
    "            pad.cd()\n",
    "            git = self.draw_git()\n",
    "            leg = self.draw_legend()\n",
    "            self.draw_date()\n",
    "            pad.Modified()\n",
    "        canvas.Modified()\n",
    "        canvas.Update()\n",
    "        return leg, git\n",
    "\n",
    "    def draw_git(self):\n",
    "        chdir(self.Draw.Dir)\n",
    "        txt = 'git hash: {ver}'.format(ver=check_output(['git', 'describe', '--always']).decode('utf-8').strip('\\n'))\n",
    "        return self.Draw.tlatex(.9 if self.ShowLegend else 0.02, .02, txt, show=self.ShowGit, ndc=True, size=.02)\n",
    "\n",
    "    def draw_date(self):\n",
    "        x, y, align = (.995, .005, 31) if self.ShowLegend else (.005, .05, 12)\n",
    "        self.Draw.date(x, y, align, size=.02, show=self.ShowDate)"
   ]
  },
  {
   "cell_type": "code",
   "execution_count": null,
   "metadata": {},
   "outputs": [],
   "source": [
    "#| hide\n",
    "from nbdev import *\n",
    "nbdev_export()"
   ]
  },
  {
   "cell_type": "code",
   "execution_count": null,
   "metadata": {},
   "outputs": [],
   "source": []
  }
 ],
 "metadata": {
  "jupytext": {
   "split_at_heading": true
  },
  "kernelspec": {
   "display_name": "Python 3 (ipykernel)",
   "language": "python",
   "name": "python3"
  }
 },
 "nbformat": 4,
 "nbformat_minor": 4
}
