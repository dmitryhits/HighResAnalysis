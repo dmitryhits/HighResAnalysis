{
 "cells": [
  {
   "cell_type": "code",
   "execution_count": null,
   "metadata": {},
   "outputs": [
    {
     "name": "stdout",
     "output_type": "stream",
     "text": [
      "Welcome to JupyROOT 6.26/10\n"
     ]
    }
   ],
   "source": [
    "#| hide\n",
    "from HighResAnalysis.analyse import *"
   ]
  },
  {
   "cell_type": "markdown",
   "metadata": {},
   "source": [
    "# HighResAnalysis\n",
    "\n",
    "> Analysis of High Resolution Data from CERN and DESY beam tests"
   ]
  },
  {
   "cell_type": "markdown",
   "metadata": {},
   "source": [
    "This file will become your README and also the index of your documentation."
   ]
  },
  {
   "cell_type": "markdown",
   "metadata": {},
   "source": [
    "## Requirements\n",
    "\n",
    "- python>=3.6\n",
    "- (py)ROOT>=6.22\n",
    "- [proteus](https://github.com/diamondIPP/proteus)\n",
    "- [judith](https://github.com/diamondIPP/judith) (only for CERN data)\n",
    "- [eudaq2](https://github.com/diamondIPP/eudaq-2) (only for DESY data)"
   ]
  },
  {
   "cell_type": "markdown",
   "metadata": {},
   "source": [
    "## Installation\n",
    "\n",
    "- downloading code\n",
    "\n",
    "   ```shell\n",
    "   git clone --recurse-submodules https://github.com/diamondIPP/HighResAnalysis.git \n",
    "   cd HighResAnalysis\n",
    "   ```\n",
    "\n",
    "- python3, pip, virtualenv (requires sudo)\n",
    "\n",
    "   ```shell\n",
    "    make prepare-dev \n",
    "   ```\n",
    "\n",
    "- virtual environment and python packages (included in previous step)\n",
    "\n",
    "    ```shell\n",
    "    make venv\n",
    "   ```\n",
    "\n",
    "- required python packages are listed in [requirements](requirements.txt)\n",
    "- activate virtual environment and install aliases\n",
    "\n",
    "    ```shell\n",
    "   source .bash_aliases\n",
    "   ```"
   ]
  },
  {
   "cell_type": "markdown",
   "metadata": {},
   "source": [
    "## Running\n",
    "\n",
    " ```shell\n",
    "analyse <run_number> <dut_number=0>\n",
    "```\n",
    "\n",
    "- for more information run  ``` analyse -h ```"
   ]
  },
  {
   "cell_type": "markdown",
   "metadata": {},
   "source": [
    "## Further reading\n",
    "\n",
    "More information how the code is structured may be found [here](src/README.md)."
   ]
  }
 ],
 "metadata": {
  "kernelspec": {
   "display_name": "Python 3 (ipykernel)",
   "language": "python",
   "name": "python3"
  }
 },
 "nbformat": 4,
 "nbformat_minor": 4
}
