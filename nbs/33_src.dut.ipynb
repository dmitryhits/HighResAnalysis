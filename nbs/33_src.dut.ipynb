{
 "cells": [
  {
   "cell_type": "code",
   "execution_count": null,
   "metadata": {},
   "outputs": [],
   "source": [
    "#| default_exp src.dut"
   ]
  },
  {
   "cell_type": "markdown",
   "metadata": {},
   "source": [
    "# DUT and Device Classes\n",
    "> defines a DUT (created in 2015 by M. Reichmann (remichae@phys.ethz.ch))"
   ]
  },
  {
   "cell_type": "code",
   "execution_count": null,
   "metadata": {},
   "outputs": [],
   "source": [
    "#| export\n",
    "\n",
    "from HighResAnalysis.utility.utils import Dir\n",
    "from uncertainties import ufloat\n",
    "from numpy import array, arange\n",
    "from HighResAnalysis.plotting.utils import prep_kw, add_perr, Config, critical\n",
    "from HighResAnalysis.plotting.draw import Draw\n",
    "from HighResAnalysis.src.analysis import Analysis"
   ]
  },
  {
   "cell_type": "code",
   "execution_count": null,
   "metadata": {},
   "outputs": [],
   "source": [
    "#| export\n",
    "class Device:\n",
    "    \"\"\" parent class with information about a single device. \"\"\"\n",
    "    def __init__(self, number=1, name='Name', typ=None, has_ref=False):\n",
    "        self.Number = number\n",
    "        self.Name = name\n",
    "        self.Type = typ\n",
    "        self.HasRef = has_ref\n",
    "        self.Plane = self.init_plane()\n",
    "\n",
    "    def __str__(self):\n",
    "        return self.Name\n",
    "\n",
    "    def __repr__(self):\n",
    "        return f'{self.Type} {self.Number}, {self}'\n",
    "\n",
    "    def init_plane(self):\n",
    "        return Plane(Analysis.Config.getint('TELESCOPE', 'planes') + self.Number + int(self.HasRef), self.Type)"
   ]
  },
  {
   "cell_type": "code",
   "execution_count": null,
   "metadata": {},
   "outputs": [],
   "source": [
    "#| export\n",
    "class REF(Device):\n",
    "    \"\"\" Class with information about the reference plane. \"\"\"\n",
    "    def __init__(self, number=0, name='REF'):\n",
    "        super().__init__(number, name, typ='REF')"
   ]
  },
  {
   "cell_type": "code",
   "execution_count": null,
   "metadata": {},
   "outputs": [],
   "source": [
    "#| export\n",
    "class DUT(Device):\n",
    "    \"\"\" Class with all information about a single DUT. \"\"\"\n",
    "    def __init__(self, number=1, run_log: dict = None, has_ref=False):\n",
    "\n",
    "        # Info\n",
    "        super().__init__(number, run_log['duts'][number], typ='DUT', has_ref=has_ref)\n",
    "        self.Bias = int(run_log[f'hv'][self.Number])\n",
    "        self.Position = int(run_log[f'dut position'][self.Number])\n",
    "\n",
    "        # Specs\n",
    "        self.Info = self.load_specs()\n",
    "        self.Irradiation = self.Info.get_value('irradiation', default={})\n",
    "        self.Thickness = self.Info.get_value('thickness', default=500)\n",
    "        self.CCD = self.Info.get_value('CCD')\n",
    "        self.Size = self.Info.get_value('size', default=[5, 5])\n",
    "        self.Cells = self.Info.get_value('cells')\n",
    "        if self.Cells is not None:\n",
    "            self.NColumns = 2 * self.Cells[0] * self.Cells[1] + sum(self.Cells) + 1\n",
    "            self.ColumnDiameter = add_perr(self.Info.get_float('column diameter'), .05)\n",
    "            self.PXYu = array(self.Info.get_list('cell size'))  # [um]\n",
    "            self.PXY = self.PXYu / 1e3  # in mm\n",
    "            self.PX, self.PY = self.PXY\n",
    "            self.PXu, self.PYu = self.PXYu\n",
    "            self.RX, self.RY = self.Plane.PXY / self.PXY\n",
    "            self.RXY = array([self.RX, self.RY])\n",
    "        self.Vcal2e = Analysis.Config.get_float('DUT', 'vcal to electrons')\n",
    "        self.Vcal2ke = self.Vcal2e / 1e3\n",
    "\n",
    "    def __repr__(self):\n",
    "        return f'{super().__repr__()}, Bias: {self.Bias:1.0f}V'\n",
    "\n",
    "    @classmethod\n",
    "    def from_name(cls, name, log, has_ref=False):\n",
    "        return cls(log['duts'].index(name), log, has_ref)\n",
    "\n",
    "    def load_specs(self):\n",
    "        f = Dir.joinpath('config', 'dia_info.json')\n",
    "        return Config(f, section=self.Name, from_json=True)\n",
    "\n",
    "    def get_irradiation(self, tc):\n",
    "        return self.Irradiation[tc] if tc in self.Irradiation else critical('Please add \"{}\" to the irradiation file for {}'.format(self.Name, tc))\n",
    "\n",
    "    def load_spec(self, section, typ=None, lst=False, error=None, default=None):\n",
    "        spec = default if section not in self.Info or self.Info[section] == 'None' else self.Info[section] if typ is None else typ(self.Info[section])\n",
    "        return [v if error is None else ufloat(v, error) for v in spec] if lst and spec is not None else ufloat(spec, error) if error is not None and spec is not None else spec\n",
    "\n",
    "    def set_number(self, value):\n",
    "        self.Number = value"
   ]
  },
  {
   "cell_type": "code",
   "execution_count": null,
   "metadata": {},
   "outputs": [],
   "source": [
    "#| export\n",
    "class Plane:\n",
    "    \"\"\" Class with all information about a single pixel plane. \"\"\"\n",
    "    def __init__(self, n, typ='DUT', rotated=False):\n",
    "\n",
    "        config = Analysis.Config(typ)\n",
    "        self.IsDUT = 'DUT' in config.Section\n",
    "        self.Number = n\n",
    "        self.Type = config.get_value('name')\n",
    "        self.NCols, self.NRows = config.get_value('pixel')\n",
    "        self.NPixels = self.NCols * self.NRows\n",
    "        self.PXY = array(config.get_value('pitch'))\n",
    "        self.PXYu = self.PXY * 1e3  # in um\n",
    "        self.PX, self.PY = self.PXY\n",
    "        self.PXu, self.PYu = self.PXYu\n",
    "        self.R = self.PX / self.PY\n",
    "        self.M = array([[self.PX, 0], [0, self.PY]])\n",
    "        self.W, self.H = self.PX * self.NCols, self.PY * self.NRows\n",
    "        self.Rotated = rotated\n",
    "\n",
    "    def __str__(self):\n",
    "        return f'Plane{self.Number}'\n",
    "\n",
    "    def __repr__(self):\n",
    "        return f'{self}, {self.Type.upper()}: {self.NCols}x{self.NRows} pixels ({self.PX * 1e3:1.1f}x{self.PY * 1e3:1.1f}μm)'\n",
    "\n",
    "    def __add__(self, other):\n",
    "        self.Number += other\n",
    "        return self\n",
    "\n",
    "    def get_max_width(self):\n",
    "        return max(self.get_x_width(), self.get_y_width())\n",
    "\n",
    "    def get_x_width(self):\n",
    "        return self.PX * self.NCols\n",
    "\n",
    "    def get_y_width(self):\n",
    "        return self.PY * self.NRows\n",
    "\n",
    "    def get_grid(self, off=-.5, **dkw):\n",
    "        return Draw.grid(arange(self.NCols + 1) + off, arange(self.NRows + 1) + off, **prep_kw(dkw, show=False))\n",
    "\n",
    "    def draw_grid(self, off=-.5, **dkw):\n",
    "        self.get_grid(off, **prep_kw(dkw, show=True))"
   ]
  },
  {
   "cell_type": "code",
   "execution_count": null,
   "metadata": {},
   "outputs": [],
   "source": [
    "#| hide\n",
    "from nbdev import *\n",
    "nbdev_export()"
   ]
  },
  {
   "cell_type": "code",
   "execution_count": null,
   "metadata": {},
   "outputs": [],
   "source": []
  }
 ],
 "metadata": {
  "jupytext": {
   "split_at_heading": true
  },
  "kernelspec": {
   "display_name": "python3",
   "language": "python",
   "name": "python3"
  }
 },
 "nbformat": 4,
 "nbformat_minor": 4
}
