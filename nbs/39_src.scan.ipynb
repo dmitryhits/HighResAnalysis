{
 "cells": [
  {
   "cell_type": "code",
   "execution_count": null,
   "metadata": {},
   "outputs": [],
   "source": [
    "#| default_exp src.scan"
   ]
  },
  {
   "cell_type": "markdown",
   "metadata": {},
   "source": [
    "# Scan\n",
    "> classes for actions on several runs or batches (created on November 30th 2022 by M. Reichmann (remichae@phys.ethz.ch))"
   ]
  },
  {
   "cell_type": "code",
   "execution_count": null,
   "metadata": {},
   "outputs": [],
   "source": [
    "#| export\n",
    "#!/usr/bin/env python"
   ]
  },
  {
   "cell_type": "code",
   "execution_count": null,
   "metadata": {},
   "outputs": [
    {
     "name": "stdout",
     "output_type": "stream",
     "text": [
      "Welcome to JupyROOT 6.26/10\n"
     ]
    }
   ],
   "source": [
    "#| export\n",
    "from fastcore.script import *\n",
    "from datetime import datetime\n",
    "from HighResAnalysis.src.run import Ensemble, Dir\n",
    "from HighResAnalysis.src.batch_analysis import DUTAnalysis, BatchAnalysis, Batch\n",
    "from HighResAnalysis.mod.dut_cuts import DUTCut\n",
    "from numpy import array\n",
    "from HighResAnalysis.plotting.save import SaveDraw, Path, Draw\n",
    "from HighResAnalysis.plotting.utils import prep_kw, rm_key, choose\n",
    "from HighResAnalysis.utility.utils import bias2rootstr"
   ]
  },
  {
   "cell_type": "code",
   "execution_count": null,
   "metadata": {},
   "outputs": [],
   "source": [
    "#| export\n",
    "class Scan(Ensemble):\n",
    "    \"\"\"Base class defining actions on several runs or batches\"\"\"\n",
    "\n",
    "    XArgs = {'x_tit': 'Time', 't_ax_off': 0}\n",
    "\n",
    "    def __init__(self, name, verbose=False, test=False):\n",
    "\n",
    "        super().__init__(name)\n",
    "\n",
    "        self.Anas = self.init_analyses(verbose, test)\n",
    "        self.Draw = SaveDraw(self, results_dir=self.Name)\n",
    "        self.Cut = DUTCut\n",
    "\n",
    "    @property\n",
    "    def server_save_dir(self):\n",
    "        return Path('duts', str(self.DUT), self.Name)\n",
    "\n",
    "    @property\n",
    "    def suffix(self):\n",
    "        return f'{self.DUT.Name}-{self.__class__.__name__}-{self.Anas[0].BeamTest.Location}'.lower().replace('ii6-', '')\n",
    "\n",
    "    def save_plots(self):\n",
    "        old_dir = self.Draw.ResultsDir\n",
    "        SaveDraw.SaveOnServer = False\n",
    "        self.Draw.ResultsDir = Dir.joinpath('tmp')\n",
    "        self.draw_current(fn=f'cur-{self.suffix}')\n",
    "        self.draw_efficiency(fn=f'e-{self.suffix}')\n",
    "        self.draw_pulse_height(fn=f'ph-{self.suffix}')\n",
    "        self.Draw.ResultsDir = old_dir\n",
    "        SaveDraw.SaveOnServer = True\n",
    "\n",
    "    @property\n",
    "    def n_ev(self):\n",
    "        return sum([u.n_ev for u in self.Units])\n",
    "\n",
    "    def values(self, f, cuts=None, *args, **kwargs):\n",
    "        return array([f(ana, *args, **kwargs) for ana in self.Anas] if cuts is None else [f(ana, cut=cut, *args, **kwargs) for ana, cut in zip(self.Anas, cuts)])\n",
    "\n",
    "    def cuts(self, f, add=True, *args, **kwargs):\n",
    "        cuts = [f(ana.Cut, *args, **kwargs) for ana in self.Anas]\n",
    "        return [ana.Cut.add(c) for c, ana in zip(cuts, self.Anas)] if add else cuts\n",
    "\n",
    "    def t(self):\n",
    "        return self.values(DUTAnalysis.mean_time)\n",
    "\n",
    "    def x(self):\n",
    "        return self.t()\n",
    "\n",
    "    def x2str(self):\n",
    "        return [datetime.fromtimestamp(i.n).strftime('%H:%M') for i in self.x()]\n",
    "\n",
    "    def legend(self, h, titles=None, **kwargs):\n",
    "        return Draw.legend(h, choose(self.x2str, titles), **kwargs)\n",
    "\n",
    "    def init_analyses(self, verbose, test):\n",
    "        return [BatchAnalysis.from_batch(u, verbose, test) if isinstance(u, Batch) else DUTAnalysis.from_run(u, verbose, test) for u in self.Units]\n",
    "\n",
    "    def draw_graph(self, y, t=False, **dkw):\n",
    "        x = self.t() if t else self.x()\n",
    "        fname = f'{dkw.pop(\"file_name\")}{\"Time\" if t else \"\"}' if 'file_name' in dkw else None\n",
    "        return self.Draw.graph(x, y, **prep_kw(dkw, **Scan.XArgs if t else self.XArgs, file_name=fname))\n",
    "\n",
    "    def draw_2vars(self, fx, fy, cuts=None, **dkw):\n",
    "        x, y = [self.values(f, cuts) for f in [fx, fy]]\n",
    "        g = [self.Draw.graph([ix], [iy]) for ix, iy in zip(x, y)]\n",
    "        return self.Draw.multigraph(g, 'tit', self.x2str(), **prep_kw(dkw, file_name='test'))\n",
    "\n",
    "    def draw_efficiency(self, t=False, cuts=None, **dkw):\n",
    "        return self.draw_graph(self.values(DUTAnalysis.eff, cuts), t, **prep_kw(dkw, y_tit='Efficiency [%]', file_name='Eff'))\n",
    "\n",
    "    def draw_current(self, t=False, cuts=None, **dkw):\n",
    "        return self.draw_graph(self.values(DUTAnalysis.current, cuts), t, **prep_kw(dkw, y_tit='Current [nA]', file_name='Curr'))\n",
    "\n",
    "    def draw_pulse_height(self, t=False, cuts=None, **dkw):\n",
    "        return self.draw_graph(self.values(DUTAnalysis.ph, cuts), t, **prep_kw(dkw, y_tit='Pulse Height [vcal]', file_name='PH'))\n",
    "\n",
    "    def draw_cluster_size(self, t=False, cuts=None, **dkw):\n",
    "        return self.draw_graph(self.values(DUTAnalysis.cs, cuts), t, **prep_kw(dkw, y_tit='Cluster Size', file_name='CS'))\n",
    "\n",
    "    def draw_r_ph_cols(self, t=False, cuts=None, r=7, **dkw):\n",
    "        return self.draw_graph(self.values(DUTAnalysis.r_ph_cols, cuts, r=r), t, **prep_kw(dkw, y_tit='Pulse Height Ratio', file_name='RPHCols'))\n",
    "\n",
    "    def draw_ph_dists(self, cuts=None, **dkw):\n",
    "        cuts = choose(cuts, self.Size * [None])\n",
    "        h = [ana.draw_signal_distribution(save=False, cut=cut, **rm_key(dkw, 'save')) for ana, cut in zip(self.Anas, cuts)]\n",
    "        return self.Draw.stack(h, 'PHDists', self.x2str(), **prep_kw(dkw, scale=True, file_name='PhDists'))\n",
    "\n",
    "    def draw_ph_around_cols(self, r0=7, r1=0, **dkw):\n",
    "        h = [ana.draw_signal_around_cols(r0, r1, save=False, **rm_key(dkw, 'save')) for ana in self.Anas]\n",
    "        return self.Draw.stack(h, 'PHDistsCols', self.x2str(), **prep_kw(dkw, scale=True, file_name='PhDistsCols'))"
   ]
  },
  {
   "cell_type": "code",
   "execution_count": null,
   "metadata": {},
   "outputs": [],
   "source": [
    "#| export\n",
    "class VScan(Scan):\n",
    "\n",
    "    XArgs = {'x_tit': 'Bias [V]'}\n",
    "\n",
    "    def __init__(self, name, verbose=False, test=False):\n",
    "        super().__init__(name, verbose, test)\n",
    "\n",
    "    def x(self):\n",
    "        return array(self.biases)\n",
    "\n",
    "    def x2str(self):\n",
    "        return bias2rootstr(*self.x()).tolist()"
   ]
  },
  {
   "cell_type": "code",
   "execution_count": null,
   "metadata": {},
   "outputs": [],
   "source": [
    "#| export\n",
    "class TScan(Scan):\n",
    "\n",
    "    XArgs = {'x_tit': 'Trim [vcal]'}\n",
    "\n",
    "    def __init__(self, name, verbose=False, test=False):\n",
    "        super().__init__(name, verbose, test)\n",
    "\n",
    "    def x(self):\n",
    "        return array([ana.Calibration.Trim for ana in self.Anas])\n",
    "\n",
    "    def x2str(self):\n",
    "        return [str(i) for i in self.x()]\n",
    "\n",
    "    def draw_ph_dists(self, cuts=None, **dkw):\n",
    "        return super().draw_ph_dists(cuts=cuts, **prep_kw(dkw, leg_head='Trim [vcal]'))"
   ]
  },
  {
   "cell_type": "code",
   "execution_count": null,
   "metadata": {},
   "outputs": [],
   "source": [
    "@call_parse\n",
    "def main():\n",
    "    z = VScan('v-b2')"
   ]
  },
  {
   "cell_type": "code",
   "execution_count": null,
   "metadata": {},
   "outputs": [],
   "source": [
    "#| hide\n",
    "from nbdev import *\n",
    "nbdev_export()"
   ]
  }
 ],
 "metadata": {
  "jupytext": {
   "split_at_heading": true
  },
  "kernelspec": {
   "display_name": "python3",
   "language": "python",
   "name": "python3"
  }
 },
 "nbformat": 4,
 "nbformat_minor": 4
}
