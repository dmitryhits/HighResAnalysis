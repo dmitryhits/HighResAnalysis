{
 "cells": [
  {
   "cell_type": "code",
   "execution_count": null,
   "metadata": {},
   "outputs": [],
   "source": [
    "#| default_exp mod.track_cuts"
   ]
  },
  {
   "cell_type": "markdown",
   "metadata": {},
   "source": [
    "# Track Cuts\n",
    "> cuts for the tracks (created on March 30th 2022 by M. Reichmann (remichae@phys.ethz.ch))"
   ]
  },
  {
   "cell_type": "code",
   "execution_count": null,
   "metadata": {},
   "outputs": [],
   "source": [
    "#| export\n",
    "#!/usr/bin/env python"
   ]
  },
  {
   "cell_type": "code",
   "execution_count": null,
   "metadata": {},
   "outputs": [
    {
     "name": "stdout",
     "output_type": "stream",
     "text": [
      "Welcome to JupyROOT 6.26/10\n"
     ]
    }
   ],
   "source": [
    "#| export\n",
    "\n",
    "from HighResAnalysis.mod.dut_cuts import DUTCut, zeros, save_cut, choose, all, invert, array\n",
    "from HighResAnalysis.src.dut_analysis import no_trans"
   ]
  },
  {
   "cell_type": "code",
   "execution_count": null,
   "metadata": {},
   "outputs": [],
   "source": [
    "#| export\n",
    "class TrackCut(DUTCut):\n",
    "    def __init__(self, ana):\n",
    "        super().__init__(ana, meta_sub_dir='track_cuts')\n",
    "\n",
    "    def __call__(self, cut=None, data=None, pl=None):\n",
    "        cut = super().__call__(cut)\n",
    "        if data is None:\n",
    "            return cut\n",
    "        if data.size == self.Ana.NEvents:\n",
    "            return self.ev2trk(data)[cut]\n",
    "        if cut is not ... and cut.size == self.Ana.N:\n",
    "            return self.trk2pl(data, pl)[cut]\n",
    "        return data[cut]\n",
    "\n",
    "    def make(self, redo=False):\n",
    "        self.register('tp', self.make_trigger_phase(_redo=redo), 10, 'trigger phase')\n",
    "        if self.Ana.REF is not None:\n",
    "            self.register('res', self.Ana.REF.Cut.make_trk_residual(redo), 20, 'tracks with a small residual in the REF')\n",
    "        if not hasattr(self.Ana, 'IsRef'):\n",
    "            self.register('fid', self.make_fiducial(redo=redo), 30, 'tracks in fiducial area')\n",
    "        self.register('mask', self.make_mask(_redo=redo), 31, 'masked pixels for tracks')\n",
    "        self.register('tstart', self.make_start_time(_redo=redo), 40, 'exclude first events')\n",
    "        self.register('chi2', self.make_chi2(_redo=redo), 50, f'chi2 < {100 * self.get_config(\"chi2 quantile\", dtype=float)}%q')\n",
    "        self.register('slope', self.make_slope(_redo=redo), 88, '{}%q < slope < {}%q'.format(*100 * abs(array([0, 1]) - self.get_config('slope quantile', dtype=float))))\n",
    "\n",
    "    def make_trk(self, trks):\n",
    "        return self.make_ev(trks, self.Ana.NTracks)\n",
    "\n",
    "    @save_cut('TrackMask', cfg='track mask')\n",
    "    def make_mask(self, t=None, _redo=False):\n",
    "        return self.make_cluster_mask(*self.get_config('track mask', default=zeros((0, 2))).T, t=choose(t, self.get_config('track mask range', default=1.1)))\n",
    "\n",
    "    @no_trans\n",
    "    def make_cluster_mask(self, mx, my, t=.5):\n",
    "        \"\"\"cluster mask in track space doesn't require the DUT alignment\"\"\"  # no duplicate\n",
    "        x, y = self.Ana.get_xy(local=True, cut=False)  # noqa\n",
    "        return all([invert((x >= mx[i] - t) & (x <= mx[i] + t) & (y >= my[i] - t) & (y <= my[i] + t)) for i in range(mx.size)], axis=0)"
   ]
  },
  {
   "cell_type": "code",
   "execution_count": null,
   "metadata": {},
   "outputs": [],
   "source": [
    "#| hide\n",
    "from nbdev import *\n",
    "nbdev_export()"
   ]
  },
  {
   "cell_type": "code",
   "execution_count": null,
   "metadata": {},
   "outputs": [],
   "source": []
  }
 ],
 "metadata": {
  "jupytext": {
   "split_at_heading": true
  },
  "kernelspec": {
   "display_name": "Python 3 (ipykernel)",
   "language": "python",
   "name": "python3"
  }
 },
 "nbformat": 4,
 "nbformat_minor": 4
}
