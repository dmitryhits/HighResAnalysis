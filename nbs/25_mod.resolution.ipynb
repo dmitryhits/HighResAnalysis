{
 "cells": [
  {
   "cell_type": "code",
   "execution_count": null,
   "metadata": {},
   "outputs": [],
   "source": [
    "#| default_exp mod.resolution"
   ]
  },
  {
   "cell_type": "markdown",
   "metadata": {},
   "source": [
    "# Resolution\n",
    "> Resolution analysis (created on August 19th 2020 by M. Reichmann (remichae@phys.ethz.ch))"
   ]
  },
  {
   "cell_type": "code",
   "execution_count": null,
   "metadata": {},
   "outputs": [],
   "source": [
    "#| export\n",
    "#!/usr/bin/env python"
   ]
  },
  {
   "cell_type": "code",
   "execution_count": null,
   "metadata": {},
   "outputs": [],
   "source": [
    "#| export\n",
    "import HighResAnalysis.src.bins as bins\n",
    "\n",
    "from HighResAnalysis.src.dut_analysis import DUTAnalysis\n",
    "from HighResAnalysis.plotting.draw import set_statbox\n",
    "from HighResAnalysis.utility.utils import PBAR, save_pickle, update_pbar\n",
    "from HighResAnalysis.plotting.utils import prep_kw, mean_sigma\n",
    "\n",
    "from HighResAnalysis.mod.reso_cuts import ResCut\n",
    "from HighResAnalysis.mod.residuals import res_analysis\n",
    "\n",
    "from uncertainties.umath import sqrt as usqrt # noqa\n",
    "from uncertainties import ufloat\n",
    "from numpy import linspace, array, tile"
   ]
  },
  {
   "cell_type": "code",
   "execution_count": null,
   "metadata": {},
   "outputs": [
    {
     "data": {
      "text/plain": [
       "\u001b[0;31mSignature:\u001b[0m \u001b[0mmean_sigma\u001b[0m\u001b[0;34m(\u001b[0m\u001b[0mvalues\u001b[0m\u001b[0;34m,\u001b[0m \u001b[0mweights\u001b[0m\u001b[0;34m=\u001b[0m\u001b[0;32mNone\u001b[0m\u001b[0;34m,\u001b[0m \u001b[0merr\u001b[0m\u001b[0;34m=\u001b[0m\u001b[0;32mTrue\u001b[0m\u001b[0;34m)\u001b[0m\u001b[0;34m\u001b[0m\u001b[0;34m\u001b[0m\u001b[0m\n",
       "\u001b[0;31mDocstring:\u001b[0m Return the weighted average and standard deviation. values, weights -- Numpy ndarrays with the same shape. \n",
       "\u001b[0;31mFile:\u001b[0m      ~/Documents/GitHub/HighResAnalysis/HighResAnalysis/plotting/utils.py\n",
       "\u001b[0;31mType:\u001b[0m      function\n"
      ]
     },
     "metadata": {},
     "output_type": "display_data"
    }
   ],
   "source": [
    "mean_sigma?"
   ]
  },
  {
   "cell_type": "code",
   "execution_count": null,
   "metadata": {},
   "outputs": [],
   "source": [
    "#| export\n",
    "def reso_analysis(cls):\n",
    "    class Resolution(cls):\n",
    "\n",
    "        def __init__(self, parent: DUTAnalysis):  # noqa\n",
    "\n",
    "            self.Parent = parent\n",
    "            self.__dict__.update(parent.__dict__)\n",
    "            self.Cut = ResCut(self.Cut)\n",
    "            self.Residuals = res_analysis(cls)(self)\n",
    "            self.MetaSubDir = 'res'\n",
    "\n",
    "        def __call__(self, redo=False):\n",
    "            return self.x(_redo=redo), self.y(_redo=redo)\n",
    "\n",
    "        @save_pickle('X', suf_args='all')\n",
    "        @update_pbar\n",
    "        def x(self, chi2=None, slope=None, _redo=False):\n",
    "            self.Cut.set_chi2(chi2)\n",
    "            self.Cut.set_slope(slope)\n",
    "            return usqrt(max(ufloat(1 / 12, 0), mean_sigma(self.Residuals.dx())[1] ** 2) - 1 / 12) * self.Plane.PX * 1e3\n",
    "\n",
    "        @save_pickle('Y', suf_args='all')\n",
    "        @update_pbar\n",
    "        def y(self, chi2=None, slope=None, _redo=False):\n",
    "            self.Cut.set_chi2(chi2)\n",
    "            self.Cut.set_slope(slope)\n",
    "            return usqrt(mean_sigma(self.Residuals.dy())[1] ** 2 - 1 / 12) * self.Plane.PY * 1e3\n",
    "\n",
    "        def draw_x(self, **dkw):\n",
    "            return self.Residuals.draw_x(**prep_kw(dkw, lf=.5, rf=.5, stats=set_statbox(all_stat=True, form='.2f')))\n",
    "\n",
    "        def draw_y(self, **dkw):\n",
    "            return self.Residuals.draw_y(**prep_kw(dkw, lf=.5, rf=.5, stats=set_statbox(all_stat=True, form='.2f')))\n",
    "\n",
    "        def draw_cross(self, bw=.25, col=20, row=40, **dkw):\n",
    "            self.draw_hit_map(bw, cut=self.Cut.make_cross(col, row), **prep_kw(dkw, leg=self.Plane.get_grid()))\n",
    "\n",
    "        def draw_chi2_cross(self, bw=.25, col=20, row=40, **dkw):\n",
    "            (x, y), zz = [f(cut=self.Cut.make_cross(col, row)) for f in [self.get_txy, self.get_chi2]]\n",
    "            self.Draw.prof2d(x, y, zz, bins.get_local(self.Plane, bw), **prep_kw(dkw, **self.ax_tits(), z_tit='#chi^{2}'))\n",
    "\n",
    "        def draw_chi_x(self, col=20, **dkw):\n",
    "            x, y = [f(cut=self.Cut.make_col(col)) for f in [self.Residuals.tx, self.get_chi2]]  # noqa\n",
    "            self.Draw.profile(x, y, **prep_kw(dkw))\n",
    "\n",
    "        def draw_slope_x(self, col=20, **dkw):\n",
    "            x, y = [f(cut=self.Cut.make_col(col)) for f in [self.Residuals.tx, self.get_slope_x]]  # noqa\n",
    "            self.Draw.profile(x, y, **prep_kw(dkw))\n",
    "\n",
    "        def draw_x_vs_chi2(self, n=20):\n",
    "            x = linspace(1 / n, 1, n)\n",
    "            PBAR.start(n)\n",
    "            self.Draw.graph(x, [self.x(i) for i in x])\n",
    "\n",
    "        def draw_x_vs_slope(self, n=20):\n",
    "            x = linspace(0, .5 - .5 / n, n)\n",
    "            PBAR.start(n)\n",
    "            self.Draw.graph(x, [self.x(slope=i) for i in x])\n",
    "\n",
    "        def draw_x_vs_pars(self, n=10):\n",
    "            x, y = linspace(.5 / n, .5, n), linspace(.1, .4, n)\n",
    "            PBAR.start(n ** 2)\n",
    "            d = array([[self.x(i, j) for j in y] for i in x])\n",
    "            self.Draw.prof2d(x.repeat(10), tile(y, 10), d.flatten(), bins.from_p(x) + bins.from_p(y))\n",
    "            return d\n",
    "\n",
    "    return Resolution"
   ]
  },
  {
   "cell_type": "code",
   "execution_count": null,
   "metadata": {},
   "outputs": [],
   "source": [
    "#| hide\n",
    "from nbdev import *\n",
    "nbdev_export()"
   ]
  }
 ],
 "metadata": {
  "jupytext": {
   "split_at_heading": true
  },
  "kernelspec": {
   "display_name": "python3",
   "language": "python",
   "name": "python3"
  }
 },
 "nbformat": 4,
 "nbformat_minor": 4
}
