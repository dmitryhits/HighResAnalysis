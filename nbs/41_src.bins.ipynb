{
 "cells": [
  {
   "cell_type": "code",
   "execution_count": null,
   "metadata": {},
   "outputs": [],
   "source": [
    "#| default_exp src.bins"
   ]
  },
  {
   "cell_type": "markdown",
   "metadata": {},
   "source": [
    "# Default Title (change me)\n",
    "> class for creating the histogram bins for the analysis (created on June 10th 2020 by M. Reichmann (remichae@phys.ethz.ch))"
   ]
  },
  {
   "cell_type": "code",
   "execution_count": null,
   "metadata": {},
   "outputs": [],
   "source": [
    "#| export\n",
    "#!/usr/bin/env python"
   ]
  },
  {
   "cell_type": "code",
   "execution_count": null,
   "metadata": {},
   "outputs": [],
   "source": [
    "#| export\n",
    "\n",
    "from HighResAnalysis.plotting.binning import *"
   ]
  },
  {
   "cell_type": "code",
   "execution_count": null,
   "metadata": {},
   "outputs": [],
   "source": [
    "#| export\n",
    "# Pixel\n",
    "MaxADC = 2**8 - 1"
   ]
  },
  {
   "cell_type": "code",
   "execution_count": null,
   "metadata": {},
   "outputs": [],
   "source": [
    "#| export\n",
    "MinPH = -5000"
   ]
  },
  {
   "cell_type": "code",
   "execution_count": null,
   "metadata": {},
   "outputs": [],
   "source": [
    "#| export\n",
    "MaxPH = 65000"
   ]
  },
  {
   "cell_type": "code",
   "execution_count": null,
   "metadata": {},
   "outputs": [],
   "source": [
    "#| export\n",
    "PHBinWidth = 200"
   ]
  },
  {
   "cell_type": "code",
   "execution_count": null,
   "metadata": {},
   "outputs": [],
   "source": [
    "#| export\n",
    "MinVcal = -100"
   ]
  },
  {
   "cell_type": "code",
   "execution_count": null,
   "metadata": {},
   "outputs": [],
   "source": [
    "#| export\n",
    "MaxVcal = 1250"
   ]
  },
  {
   "cell_type": "code",
   "execution_count": null,
   "metadata": {},
   "outputs": [],
   "source": [
    "#| export\n",
    "def get_time(t_vec, bin_width, last=False):\n",
    "    return make(t_vec[0], t_vec[-1], bin_width, last)\n",
    "\n",
    "\n",
    "# ----------------------------------------\n",
    "# region PIXEL"
   ]
  },
  {
   "cell_type": "code",
   "execution_count": null,
   "metadata": {},
   "outputs": [],
   "source": [
    "#| export\n",
    "def get_local(plane, bin_width=1, aspect_ratio=False):\n",
    "    return get_local_x(plane, bin_width, aspect_ratio) + get_local_y(plane, bin_width, aspect_ratio)"
   ]
  },
  {
   "cell_type": "code",
   "execution_count": null,
   "metadata": {},
   "outputs": [],
   "source": [
    "#| export\n",
    "def get_local_x(plane, bin_width=1, aspect_ratio=False):\n",
    "    extra_pixel = round((plane.get_max_width() - plane.get_x_width()) / plane.PX / 2) if aspect_ratio else 0  # keep aspect ratio\n",
    "    return make(-extra_pixel - .5, plane.NCols + extra_pixel - .5, bin_width)"
   ]
  },
  {
   "cell_type": "code",
   "execution_count": null,
   "metadata": {},
   "outputs": [],
   "source": [
    "#| export\n",
    "def get_local_y(plane, bin_width=1, aspect_ratio=False):\n",
    "    extra_pixel = round((plane.get_max_width() - plane.get_y_width()) / plane.PY / 2) if aspect_ratio else 0  # keep aspect ratio\n",
    "    return make(-extra_pixel - .5, plane.NRows + extra_pixel - .5, bin_width)"
   ]
  },
  {
   "cell_type": "code",
   "execution_count": null,
   "metadata": {},
   "outputs": [],
   "source": [
    "#| export\n",
    "def get_corr(mode, pl0, pl1, bw=1):\n",
    "    return sum([get_local_x(pl, bw) if mode.lower() == 'x' else get_local_y(pl, bw) for pl in [pl0, pl1]], start=[])"
   ]
  },
  {
   "cell_type": "code",
   "execution_count": null,
   "metadata": {},
   "outputs": [],
   "source": [
    "#| export\n",
    "def get_global(plane, res=1):\n",
    "    return get_global_x(plane, res) + get_global_y(plane, res)"
   ]
  },
  {
   "cell_type": "code",
   "execution_count": null,
   "metadata": {},
   "outputs": [],
   "source": [
    "#| export\n",
    "def get_xy(local, plane, bin_width=1, aspect_ratio=False):\n",
    "    return get_local(plane, bin_width, aspect_ratio) if local else get_global(plane, bin_width)"
   ]
  },
  {
   "cell_type": "code",
   "execution_count": null,
   "metadata": {},
   "outputs": [],
   "source": [
    "#| export\n",
    "def get_global_x(plane, res=1):\n",
    "    \"\"\" calculates the global telescope bins\n",
    "    :return: [nbins, bin_array] \"\"\"\n",
    "    xmax = plane.get_max_width() * .6  # to keep the aspect ratio\n",
    "    return make(-xmax, xmax, res * plane.PX)"
   ]
  },
  {
   "cell_type": "code",
   "execution_count": null,
   "metadata": {},
   "outputs": [],
   "source": [
    "#| export\n",
    "def get_x(plane, bw=1, res=1, local=True, aspect_ratio=False):\n",
    "    return get_local_x(plane, bw, aspect_ratio) if local else get_global_x(plane, res)"
   ]
  },
  {
   "cell_type": "code",
   "execution_count": null,
   "metadata": {},
   "outputs": [],
   "source": [
    "#| export\n",
    "def get_y(plane, bw=1, res=1, local=True, aspect_ratio=False):\n",
    "    return get_local_y(plane, bw, aspect_ratio) if local else get_global_y(plane, res)"
   ]
  },
  {
   "cell_type": "code",
   "execution_count": null,
   "metadata": {},
   "outputs": [],
   "source": [
    "#| hide\n",
    "from nbdev import *\n",
    "nbdev_export()#| export\n",
    "def get_global_y(plane, res=1):\n",
    "    ymax = plane.get_max_width() * .6\n",
    "    return make(-ymax, ymax, res * plane.PY)"
   ]
  },
  {
   "cell_type": "code",
   "execution_count": null,
   "metadata": {},
   "outputs": [],
   "source": [
    "#| export\n",
    "def get_pixel(plane, res, outer=.5, cell=False):\n",
    "    x0 = outer if plane.PX > plane.PY or cell else (2 * outer + 1) * (plane.R - 1) / 2 + outer\n",
    "    y0 = outer if plane.PY > plane.PX or cell else (2 * outer + 1) * (plane.R - 1) / 2 + outer\n",
    "    return make(-x0, 1 + x0, res, last=True) + make(-y0, 1 + y0, res, last=True)"
   ]
  },
  {
   "cell_type": "code",
   "execution_count": null,
   "metadata": {},
   "outputs": [],
   "source": [
    "#| export\n",
    "def get_adc():\n",
    "    return make(0, MaxADC)"
   ]
  },
  {
   "cell_type": "code",
   "execution_count": null,
   "metadata": {},
   "outputs": [],
   "source": [
    "#| export\n",
    "def get_vcal(bin_width=1):\n",
    "    return make(MinVcal, MaxVcal, bin_width)"
   ]
  },
  {
   "cell_type": "code",
   "execution_count": null,
   "metadata": {},
   "outputs": [],
   "source": [
    "#| export\n",
    "def get_electrons(bin_width=200):\n",
    "    return make(MinPH, MaxPH, bin_width)"
   ]
  },
  {
   "cell_type": "code",
   "execution_count": null,
   "metadata": {},
   "outputs": [],
   "source": [
    "#| export\n",
    "def get_ph(vcal=False, adc=False, bin_width=None):\n",
    "    return get_vcal() if vcal else get_adc() if adc else get_electrons(bin_width)"
   ]
  },
  {
   "cell_type": "code",
   "execution_count": null,
   "metadata": {},
   "outputs": [],
   "source": [
    "#| export\n",
    "def get_triggerphase():\n",
    "    return make(-.5, 10.5)\n",
    "# endregion PIXEL\n",
    "# ----------------------------------------\n",
    "\n",
    "\n",
    "# Binning"
   ]
  },
  {
   "cell_type": "code",
   "execution_count": null,
   "metadata": {},
   "outputs": [],
   "source": [
    "#| export\n",
    "TP = get_triggerphase()"
   ]
  },
  {
   "cell_type": "code",
   "execution_count": null,
   "metadata": {},
   "outputs": [],
   "source": [
    "#| hide\n",
    "from nbdev import *\n",
    "nbdev_export()"
   ]
  }
 ],
 "metadata": {
  "jupytext": {
   "split_at_heading": true
  },
  "kernelspec": {
   "display_name": "Python 3 (ipykernel)",
   "language": "python",
   "name": "python3"
  }
 },
 "nbformat": 4,
 "nbformat_minor": 4
}
