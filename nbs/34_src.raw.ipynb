{
 "cells": [
  {
   "cell_type": "code",
   "execution_count": null,
   "metadata": {},
   "outputs": [],
   "source": [
    "#| default_exp src.raw"
   ]
  },
  {
   "cell_type": "markdown",
   "metadata": {},
   "source": [
    "# Raw Data Conversion\n",
    "> raw file conversion & analysis (created on April 22nd 2022 by M. Reichmann (remichae@phys.ethz.ch))"
   ]
  },
  {
   "cell_type": "code",
   "execution_count": null,
   "metadata": {},
   "outputs": [],
   "source": [
    "#| export\n",
    "#!/usr/bin/env python"
   ]
  },
  {
   "cell_type": "code",
   "execution_count": null,
   "metadata": {},
   "outputs": [],
   "source": [
    "#| export\n",
    "\n",
    "from subprocess import check_call\n",
    "import h5py\n",
    "from numpy import all, array\n",
    "from pathlib import Path\n",
    "\n",
    "from fastcore.script import *\n",
    "\n",
    "from HighResAnalysis.plotting.utils import prep_kw, choose, remove_file, info\n",
    "from HighResAnalysis.plotting.draw import Draw\n",
    "from HighResAnalysis.plotting.fit import Gauss\n",
    "from HighResAnalysis.src.converter import Converter, Raw\n",
    "from HighResAnalysis.utility.affine_transformations import transform\n",
    "from HighResAnalysis.src.dut import Plane\n",
    "from HighResAnalysis.src.analysis import Analysis"
   ]
  },
  {
   "cell_type": "code",
   "execution_count": null,
   "metadata": {},
   "outputs": [],
   "source": [
    "#| export\n",
    "@call_parse\n",
    "def main():\n",
    "    c_ = Converter.from_ana(41, 1)\n",
    "    z = Raw(c_, load_file=True, step=2)"
   ]
  },
  {
   "cell_type": "code",
   "execution_count": null,
   "metadata": {},
   "outputs": [],
   "source": [
    "#| hide\n",
    "from nbdev import *\n",
    "nbdev_export()"
   ]
  },
  {
   "cell_type": "code",
   "execution_count": null,
   "metadata": {},
   "outputs": [],
   "source": []
  }
 ],
 "metadata": {
  "jupytext": {
   "split_at_heading": true
  },
  "kernelspec": {
   "display_name": "python3",
   "language": "python",
   "name": "python3"
  }
 },
 "nbformat": 4,
 "nbformat_minor": 4
}
