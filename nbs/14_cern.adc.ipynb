{
 "cells": [
  {
   "cell_type": "code",
   "execution_count": null,
   "metadata": {},
   "outputs": [],
   "source": [
    "#| default_exp cern.adc"
   ]
  },
  {
   "cell_type": "markdown",
   "metadata": {},
   "source": [
    "# ADC Converter\n",
    "> adc converter for CERN DUT data (created on April 22nd 2022 by M. Reichmann (remichae@phys.ethz.ch))"
   ]
  },
  {
   "cell_type": "code",
   "execution_count": null,
   "metadata": {},
   "outputs": [
    {
     "name": "stdout",
     "output_type": "stream",
     "text": [
      "Welcome to JupyROOT 6.26/10\n"
     ]
    }
   ],
   "source": [
    "#| export\n",
    "#!/usr/bin/env python\n",
    "\n",
    "import awkward as aw\n",
    "import uproot\n",
    "from numpy import round\n",
    "\n",
    "from HighResAnalysis.plotting.utils import info\n",
    "from HighResAnalysis.cern.converter import CERNConverter\n",
    "from HighResAnalysis.utility.utils import PBAR"
   ]
  },
  {
   "cell_type": "code",
   "execution_count": null,
   "metadata": {},
   "outputs": [],
   "source": [
    "#| export\n",
    "class Adc2Vcal:\n",
    "\n",
    "    def __init__(self, c: CERNConverter):\n",
    "        \"\"\"Reads the DUT ROOT files saved with pXar and converts adc -> vcal and removes faulty events from the telescope.\n",
    "           Specific DUTs can be selected with the <dut_name> arg [default = None -> all DUTs]. \"\"\"\n",
    "\n",
    "        self.Parent = c\n",
    "        self.Run = c.Run\n",
    "        self.DUTs = c.DUTs\n",
    "        self.NDUTs = len(self.DUTs)\n",
    "        self.NTelPlanes = c.NTelPlanes\n",
    "\n",
    "        self.DataDir = c.DataDir.joinpath('dut')\n",
    "        self.RawFilePath = self.DataDir.joinpath(f'ljutel_{c.Run:03d}.root')\n",
    "        self.OutFilePath = self.RawFilePath.with_name(f'dut-run{c.Run:04d}.root')\n",
    "\n",
    "        self.FlatBranches = ['NHits', 'Timing', 'TriggerCount']\n",
    "\n",
    "        self.Steps = [(self.convert, self.OutFilePath)]\n",
    "\n",
    "    def check_calibrations(self):\n",
    "        return all([self.Parent.load_calibration(dut.Number).RawFileName.exists() for dut in self.DUTs])\n",
    "\n",
    "    def convert(self):\n",
    "        \"\"\"read the DUT raw file and convert the adc values to vcal\"\"\"\n",
    "        CERNConverter.download_raw_file(self.RawFilePath)\n",
    "        self.check_calibrations()\n",
    "        cut = self.Parent.EventAlignment.cut  # additional events in the DUT data ...\n",
    "        with uproot.open(self.RawFilePath) as f:\n",
    "            with uproot.recreate(self.OutFilePath) as g:\n",
    "                g['Event'] = f['Event'].arrays()[cut]\n",
    "                info(f'converting adc to vcal for DUTs {\", \".join(dut.Name for dut in self.DUTs)} ...')\n",
    "                PBAR.start(self.NDUTs)\n",
    "                for i, dut in enumerate(self.DUTs):\n",
    "                    dir_name = f'Plane{self.NTelPlanes + dut.Number}'\n",
    "                    x, y, adc = f[f'{dir_name}/Hits'].arrays(['PixX', 'PixY', 'Value'], library='np').values()\n",
    "                    lut = self.Parent.load_calibration(dut.Number).get_lookup_table()\n",
    "                    vcal = [round([lut[lx[i], ly[i], int(lz[i])] for i in range(lx.size)]).astype('i') for lx, ly, lz in zip(x, y, adc)]\n",
    "                    data = f[f'{dir_name}/Hits'].arrays(filter_name=lambda w: not any([b in w for b in self.FlatBranches]))\n",
    "                    data['Value'] = aw.values_astype(vcal, 'int32')\n",
    "                    d = g.mkdir(f'Plane{self.NTelPlanes + i + 1}')  # first plane after TEL is REF\n",
    "                    flat = {n: arr.flatten()[cut] for n, arr in f[f'{dir_name}/Hits'].arrays(self.FlatBranches, library='np').items()}\n",
    "                    flat['Timing'] = flat['Timing'].astype('i')\n",
    "                    d['Hits'] = {**{k: v.flatten() for k, v in flat.items()}, 'TriggerPhase': flat['Timing'].astype('u2'), '': aw.zip({n: data[n][cut] for n in data.fields})}\n",
    "                    PBAR.update()\n",
    "        info(f'successfully wrote {self.OutFilePath} ({flat[\"Timing\"].size} ev)')"
   ]
  },
  {
   "cell_type": "code",
   "execution_count": null,
   "metadata": {},
   "outputs": [],
   "source": [
    "#| hide\n",
    "from nbdev import *\n",
    "nbdev_export()"
   ]
  },
  {
   "cell_type": "code",
   "execution_count": null,
   "metadata": {},
   "outputs": [],
   "source": []
  }
 ],
 "metadata": {
  "jupytext": {
   "split_at_heading": true
  },
  "kernelspec": {
   "display_name": "Python 3 (ipykernel)",
   "language": "python",
   "name": "python3"
  }
 },
 "nbformat": 4,
 "nbformat_minor": 4
}
