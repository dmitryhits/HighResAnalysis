{
 "cells": [
  {
   "cell_type": "code",
   "execution_count": null,
   "metadata": {},
   "outputs": [],
   "source": [
    "#| default_exp plotting.html"
   ]
  },
  {
   "cell_type": "markdown",
   "metadata": {},
   "source": [
    "# HTML UTILITY FUNCTIONS\n",
    "> Helper functions for creating HTML plots (created on November 16th 2021 by M. Reichmann)"
   ]
  },
  {
   "cell_type": "code",
   "execution_count": null,
   "metadata": {},
   "outputs": [],
   "source": [
    "#| export\n",
    "\n",
    "from os.path import basename, isfile, isdir, join\n",
    "from pathlib import Path\n",
    "from subprocess import Popen\n",
    "from typing import Any\n",
    "from pytz import timezone, utc\n",
    "\n",
    "from HighResAnalysis.plotting.utils import BaseDir, warning, info, add_spaces, is_iter, datetime, choose"
   ]
  },
  {
   "cell_type": "code",
   "execution_count": null,
   "metadata": {},
   "outputs": [],
   "source": [
    "#| export\n",
    "def tag(name, txt, *opts_):\n",
    "    return f'<{name}{prep_opts(*opts_)}>{txt}</{name}>'"
   ]
  },
  {
   "cell_type": "code",
   "execution_count": null,
   "metadata": {},
   "outputs": [],
   "source": [
    "#| export\n",
    "def sup(txt):\n",
    "    return tag('sup', txt)"
   ]
  },
  {
   "cell_type": "code",
   "execution_count": null,
   "metadata": {},
   "outputs": [],
   "source": [
    "#| export\n",
    "def nth(d):\n",
    "    nth.ext = ['th', 'st', 'nd', 'rd'] + ['th'] * 16\n",
    "    return sup(nth.ext[int(d) % 20])"
   ]
  },
  {
   "cell_type": "code",
   "execution_count": null,
   "metadata": {},
   "outputs": [],
   "source": [
    "#| export\n",
    "def irr2str(val, unit=False):\n",
    "    return val if val == '?' else 'nonirr' if not val or val == '0' else '{} &middot 10<sup>{}</sup>{}'.format(*val.split('e'), f' n/cm{sup(2)}' if unit else '')"
   ]
  },
  {
   "cell_type": "code",
   "execution_count": null,
   "metadata": {},
   "outputs": [],
   "source": [
    "#| export\n",
    "def conv_time(time_str, to_string=True):\n",
    "    t = datetime.strptime(time_str, '%Y-%m-%dT%H:%M:%SZ').replace(tzinfo=utc).astimezone(timezone('Europe/Zurich'))\n",
    "    return t.strftime(f'%b %d{nth(t.day)} %H:%M:%S') if to_string else t"
   ]
  },
  {
   "cell_type": "code",
   "execution_count": null,
   "metadata": {},
   "outputs": [],
   "source": [
    "#| export\n",
    "def div(txt, *opts_):\n",
    "    return tag('div', txt, *opts_)"
   ]
  },
  {
   "cell_type": "code",
   "execution_count": null,
   "metadata": {},
   "outputs": [],
   "source": [
    "#| export\n",
    "def a(txt, *opts_):\n",
    "    return tag('a', txt, *opts_)"
   ]
  },
  {
   "cell_type": "code",
   "execution_count": null,
   "metadata": {},
   "outputs": [],
   "source": [
    "#| export\n",
    "def small(txt, *opts_):\n",
    "    return tag('small', txt, *opts_)"
   ]
  },
  {
   "cell_type": "code",
   "execution_count": null,
   "metadata": {},
   "outputs": [],
   "source": [
    "#| export\n",
    "def big(txt):\n",
    "    return tag('span', txt, f'class=\"bigger\"')"
   ]
  },
  {
   "cell_type": "code",
   "execution_count": null,
   "metadata": {},
   "outputs": [],
   "source": [
    "#| export\n",
    "def image(filename, h=None, w=None):\n",
    "    return tag('img', '', *opts(src=path(filename), h=h, w=w))"
   ]
  },
  {
   "cell_type": "code",
   "execution_count": null,
   "metadata": {},
   "outputs": [],
   "source": [
    "#| export\n",
    "def icon(filename):\n",
    "    return image(filename, 15, 15)"
   ]
  },
  {
   "cell_type": "code",
   "execution_count": null,
   "metadata": {},
   "outputs": [],
   "source": [
    "#| export\n",
    "def fig_icon(symbol=9736):\n",
    "    return big(f'&#{symbol}')"
   ]
  },
  {
   "cell_type": "code",
   "execution_count": null,
   "metadata": {},
   "outputs": [],
   "source": [
    "#| export\n",
    "def empty_line(n=1):\n",
    "    return '<br/>' * n"
   ]
  },
  {
   "cell_type": "code",
   "execution_count": null,
   "metadata": {},
   "outputs": [],
   "source": [
    "#| export\n",
    "def make_root_html():\n",
    "    f = File()\n",
    "    h = File()\n",
    "    h.add_line('<meta charset=\"UTF-8\">')\n",
    "    h.add_line('<link rel=\"icon\" href=\"/psi2/figures/pic.png\">')\n",
    "    h.add_line('<title>{title}</title>')\n",
    "    h.add_line(script('/jsroot/scripts/JSRoot.core.min.js', 'type=\"text/javascript\"'))\n",
    "    f.set_header(h.get_text())\n",
    "    b = File()\n",
    "    b.add_line('JSROOT.settings.Palette = {pal}')\n",
    "    b.add_line('JSROOT.openFile(\"{plot_file}\")')\n",
    "    b.add_line('.then(file => file.readObject(\"{plot_name};1\"))', ind=1)\n",
    "    b.add_line('.then(obj => JSROOT.draw(\"drawing\", obj, \"{draw_opt}\"));', ind=1)\n",
    "    b = File.add_tag(b.get_text(), 'script', 'type=\"text/javascript\"')\n",
    "    f.set_body('\\n'.join([div('', 'id=\"drawing\"'), b]))\n",
    "    return f"
   ]
  },
  {
   "cell_type": "code",
   "execution_count": null,
   "metadata": {},
   "outputs": [],
   "source": [
    "#| export\n",
    "def create_tree(p: Path):\n",
    "    Popen(f'tree {p.parent} -H . --charset utf-8 -P \"*.html\" -o {p}', shell=True)"
   ]
  },
  {
   "cell_type": "code",
   "execution_count": null,
   "metadata": {},
   "outputs": [],
   "source": [
    "#| export\n",
    "def create_root_overview(p: Path, x=3, y=2, verbose=None):\n",
    "    f = File(str(p.with_suffix('.html')))\n",
    "    head = File()\n",
    "    head.add_line('<meta charset=\"UTF-8\">')\n",
    "    head.add_line('<link rel=\"icon\" href=\"/psi2/figures/pic.png\">')\n",
    "    head.add_line(f'<title>Plots Run {p.parent.stem}</title>')\n",
    "    head.add_line(script('https://root.cern/js/latest/scripts/JSRoot.core.js', 'type=\"text/javascript\"'))\n",
    "    f.set_header(head.get_text())\n",
    "    body = File()\n",
    "    body.add_line(heading(link(p.with_name('tree.html'), 'Directory Tree', new_tab=True), 3, style_(('top', '-15px'), ('position', 'relative'))))\n",
    "    body.add_line(div('', *make_opt('id', 'simpleGUI'), style_(('top', '30px'), ('bottom', 0), ('left', 0), ('right', 0), ('position', 'absolute'))))\n",
    "    inner = File()\n",
    "    inner.add_line(\"JSROOT.require('hierarchy').then(() => {\")\n",
    "    inner.add_line('let h = new JSROOT.HierarchyPainter(\"PSITest\")', ind=1)\n",
    "    inner.add_line('h.no_select = true;  // suppress selection elements', ind=1, new_lines=1)\n",
    "    inner.add_line('h.show_overflow = true;  // let enable scrollbars for hierarchy content, otherwise only HTML resize can be use to see elements', ind=1)\n",
    "    inner.add_line(f'h.prepareGuiDiv(\"simpleGUI\", \"grid{x}x{y}\");  // one also can specify \"grid2x2\" or \"flex\" or \"tabs\"', ind=1, new_lines=1)\n",
    "    inner.add_line('h.createBrowser(\"fix\")', ind=1, new_lines=1)\n",
    "    inner.add_line(f'.then(() => h.openRootFile(\"{p.name}\"))', ind=2)\n",
    "    for plot in ['SignalMap2D', 'HitMap', 'Current', 'PulseHeight5000', 'SignalDistribution', 'PedestalDistributionFitAllCuts']:\n",
    "        inner.add_line(f'.then(() => h.display(\"{plot};1\",\"\"))', ind=3)\n",
    "    inner.add_line('});', ind=1)\n",
    "    body.add_line(File.add_tag(inner.get_text(), 'script', 'type=\"text/javascript\"'))\n",
    "    f.set_body(body.get_text())\n",
    "    f.save(verbose=verbose)"
   ]
  },
  {
   "cell_type": "code",
   "execution_count": null,
   "metadata": {},
   "outputs": [],
   "source": [
    "#| export\n",
    "def style(center=False, right=False, left=False, colour=None, vcenter=False, fontsize=None, smaller=False, transform=None, nowrap=None):\n",
    "    align = f'text-align: {\"center\" if center else \"right\" if right else \"left\"}' if any([center, right, left]) else ''\n",
    "    valign = f'vertical-align: middle' if vcenter else ''\n",
    "    colour = f'color: {colour}' if colour else ''\n",
    "    tf = f'text-transform: {transform}' if transform else ''\n",
    "    fs = f'font-size: {\"smaller\" if smaller else fontsize}' if fontsize is not None or smaller else ''\n",
    "    wrp = 'white-space: nowrap' if nowrap is not None else ''\n",
    "    sargs = [sarg for sarg in [align, colour, valign, fs, tf, wrp] if sarg]\n",
    "    return f'style=\"{\"; \".join(sargs)}\"' if sargs else ''"
   ]
  },
  {
   "cell_type": "code",
   "execution_count": null,
   "metadata": {},
   "outputs": [],
   "source": [
    "#| export\n",
    "def style_(*opts_):\n",
    "    return make_opt('style', '; '.join(f'{k}: {v}' for k, v in opts_))[0]"
   ]
  },
  {
   "cell_type": "code",
   "execution_count": null,
   "metadata": {},
   "outputs": [],
   "source": [
    "#| export\n",
    "def path(*dirs):\n",
    "    return join('/psi2', *dirs) if 'http' not in dirs[0] else dirs[0]"
   ]
  },
  {
   "cell_type": "code",
   "execution_count": null,
   "metadata": {},
   "outputs": [],
   "source": [
    "#| export\n",
    "def link(target: Path, name, active=False, center=False, new_tab=False, use_name=True, colour: Any = None, right=False, warn=True):\n",
    "    from plotting.save import SaveDraw\n",
    "    d = SaveDraw.ServerMountDir\n",
    "    target = str(target.relative_to(d) if target.is_absolute() else target)\n",
    "    target = join(target, '') if isdir(join(d, target)) else target\n",
    "    if isfile(join(d, target)) or isfile(join(d, target, 'index.html')) and target.endswith('/') or 'http' in target:\n",
    "        return a(name, style(center, right, colour=colour), *opts(active=active, new_tab=new_tab), *make_opt('href', path(target)))\n",
    "    warning('The file {} does not exist!'.format(target), prnt=warn)\n",
    "    return name if use_name else ''"
   ]
  },
  {
   "cell_type": "code",
   "execution_count": null,
   "metadata": {},
   "outputs": [],
   "source": [
    "#| export\n",
    "def prep_opts(*opts_):\n",
    "    return f' {\" \".join(opts_)}' if len(opts_) else ''"
   ]
  },
  {
   "cell_type": "code",
   "execution_count": null,
   "metadata": {},
   "outputs": [],
   "source": [
    "#| export\n",
    "def heading(txt, size=1, *opts_):\n",
    "    return tag(f'h{size}', txt, *opts_)"
   ]
  },
  {
   "cell_type": "code",
   "execution_count": null,
   "metadata": {},
   "outputs": [],
   "source": [
    "#| export\n",
    "def script(src, *opts_):\n",
    "    return tag('script', '', f'src=\"{src}\"', *opts_)"
   ]
  },
  {
   "cell_type": "code",
   "execution_count": null,
   "metadata": {},
   "outputs": [],
   "source": [
    "#| export\n",
    "def dropdown(name, items, targets, n, active=False, ind=1):\n",
    "    s = File()\n",
    "    s.add_line('<div class=\"dropdown\">', ind)\n",
    "    s.add_line(f'<button class=\"dropbtn{\" active\" if active else \"\"}\" onclick=\"f{n}()\">{name}', ind + 1)\n",
    "    s.add_line('<i class=\"fa fa-caret-down\"></i>', ind + 2)\n",
    "    s.add_line('</button>', ind + 1)\n",
    "    s.add_line(f'<div class=\"dropdown-content\" id=\"drop{n}\">', ind + 1)\n",
    "    for item, target in zip(items, targets):\n",
    "        s.add_line(link(target, item, colour=None), ind + 2)\n",
    "    s.add_line('</div>', ind + 1)\n",
    "    s.add_line('</div>', ind)\n",
    "    return s.get_text()"
   ]
  },
  {
   "cell_type": "code",
   "execution_count": null,
   "metadata": {},
   "outputs": [],
   "source": [
    "#| export\n",
    "def opts(rs=None, cs=None, src=None, h=None, w=None, active=None, new_tab=None):\n",
    "    return make_opt('rowspan', rs) + make_opt('colspan', cs) + make_opt('src', src) + make_opt('height', h) + make_opt('width', w) + make_opt('class', 'active' if active else None) \\\n",
    "           + make_opt('target', '_blank' if new_tab else None)"
   ]
  },
  {
   "cell_type": "code",
   "execution_count": null,
   "metadata": {},
   "outputs": [],
   "source": [
    "#| export\n",
    "def sopts(rs=None, cs=None, src=None):\n",
    "    return ' '.join(opts(rs, cs, src))"
   ]
  },
  {
   "cell_type": "code",
   "execution_count": null,
   "metadata": {},
   "outputs": [],
   "source": [
    "#| export\n",
    "def make_opt(name, value):\n",
    "    return [] if value is None else [f'{name}=\"{value}\"']"
   ]
  },
  {
   "cell_type": "code",
   "execution_count": null,
   "metadata": {},
   "outputs": [],
   "source": [
    "#| export\n",
    "def table(title, header, rows, *row_opts):\n",
    "    title = heading(title, 2, 'class=\"mb-5\"')\n",
    "    h1, h2 = (header, None) if type(header[0]) in [tuple, str] else header\n",
    "    h1 = File().add_lines([tag('th', *txt if is_iter(txt) else [txt], 'scope=\"col\"') for txt in h1]).get_text()\n",
    "    h1 = File.add_tag(h1, 'tr')\n",
    "    if h2 is not None:\n",
    "        h2 = File().add_lines([tag('th', small(txt), 'scope=\"col\"', style(transform='none')) for txt in h2]).get_text()\n",
    "        h2 = File.add_tag(h2, 'tr')\n",
    "        h1 = f'{h1}\\n{h2}'\n",
    "    h1 = File.add_tag(h1, 'thead')\n",
    "    rows = [File().add_lines([tag('td', *txt if type(txt) is tuple else [txt]) for txt in row]).get_text() for row in rows]\n",
    "    rows = '\\n'.join(File.add_tag(row, 'tr', 'scope=\"row\"', *row_opts) for row in rows)\n",
    "    rows = File.add_tag(rows, 'tbody')\n",
    "    t = File.add_tag(f'{h1}\\n{rows}', 'table', 'class=\"table table-striped custom-table\"')\n",
    "    t = '\\n'.join([title, File.add_tag(t, 'div', 'class=\"table-responsive\"')])\n",
    "    t = File.add_tag(t, 'div', 'class=\"container\"')\n",
    "    return File.add_tag(t, 'div', 'class=\"content\"')"
   ]
  },
  {
   "cell_type": "code",
   "execution_count": null,
   "metadata": {},
   "outputs": [],
   "source": [
    "#| export\n",
    "LinkIcon = fig_icon(8635)"
   ]
  },
  {
   "cell_type": "code",
   "execution_count": null,
   "metadata": {},
   "outputs": [],
   "source": [
    "#| export\n",
    "NoIcon = fig_icon(128561)"
   ]
  },
  {
   "cell_type": "code",
   "execution_count": null,
   "metadata": {},
   "outputs": [],
   "source": [
    "#| export\n",
    "Good = '#5EA85E'"
   ]
  },
  {
   "cell_type": "code",
   "execution_count": null,
   "metadata": {},
   "outputs": [],
   "source": [
    "#| export\n",
    "class File:\n",
    "\n",
    "    def __init__(self, filename=None, ind_width=2, verbose=True):\n",
    "        self.FileName = None if filename is None else filename if filename.startswith('/scratch') else join(BaseDir, filename)\n",
    "        self.T = ''\n",
    "        self.Header = ''\n",
    "        self.Body = ''\n",
    "        self.Scripts = ''\n",
    "        self.W = ind_width\n",
    "\n",
    "        self.Verbose = verbose\n",
    "\n",
    "    def __str__(self):\n",
    "        return self.T if self.Header is None else f'{self.Header}\\n{self.Body}'\n",
    "\n",
    "    def __repr__(self):\n",
    "        return f'{self.__class__.__name__}: {None if self.FileName is None else basename(self.FileName)}'\n",
    "\n",
    "    def set_filename(self, *name):\n",
    "        self.FileName = join(*name) if name[0].startswith('/scratch') else join(BaseDir, *name)\n",
    "\n",
    "    def set_header(self, txt, *opts_):\n",
    "        self.Header = self.add_tag(txt, 'head', *opts_)\n",
    "\n",
    "    def set_body(self, txt, *opts_):\n",
    "        self.Body = self.add_tag(txt, 'body', *opts_)\n",
    "\n",
    "    def set_verbose(self, status):\n",
    "        self.Verbose = status\n",
    "\n",
    "    def add_line(self, txt='', ind=0, new_lines=0):\n",
    "        self.T += '\\n' * new_lines + f'{\" \" * ind * self.W}{txt}\\n'\n",
    "\n",
    "    def add_lines(self, lines, ind=0):\n",
    "        for line in lines:\n",
    "            self.add_line(line, ind)\n",
    "        return self\n",
    "\n",
    "    def add_comment(self, txt, ind=0):\n",
    "        self.add_line(f'<!-- {txt} -->', ind)\n",
    "\n",
    "    def link(self, target, name, warn=True, *args, **kwargs):\n",
    "        return link(target, name, *args, **kwargs, warn=warn and self.Verbose)\n",
    "\n",
    "    @staticmethod\n",
    "    def add_tag(txt, tag_, *opts_):\n",
    "        lines = txt.split('\\n')\n",
    "        lines = lines[:-1] if not lines[-1] else lines\n",
    "        if not lines[0].startswith(' '):\n",
    "            lines = [f'  {line}' for line in lines]\n",
    "        return '\\n'.join([f'<{tag_}{prep_opts(*opts_)}>'] + lines + [f'</{tag_}>'])\n",
    "\n",
    "    @staticmethod\n",
    "    def add_root(t):\n",
    "        t = File.add_tag(t, 'html', 'lang=\"en\"')\n",
    "        return f'<!doctype html>\\n{t}'\n",
    "\n",
    "    def save(self, add_root=True, verbose=None):\n",
    "        t = self.get_text() if not self.Header else f'{self.Header}\\n{self.Body}'\n",
    "        if add_root:\n",
    "            t = self.add_root(t)\n",
    "        with open(self.FileName, 'w+') as f:\n",
    "            f.write(t)\n",
    "            f.truncate()\n",
    "        self.info(f'wrote file {self.FileName}', prnt=choose(verbose, self.Verbose))\n",
    "\n",
    "    def get_text(self):\n",
    "        return self.T\n",
    "\n",
    "    def show(self):\n",
    "        print(self.get_text())\n",
    "\n",
    "    def info(self, txt, endl=True, prnt=True):\n",
    "        return info(txt, endl, prnt=prnt and self.Verbose)\n",
    "\n",
    "    def check_content(self):\n",
    "        if isfile(self.FileName):\n",
    "            with open(self.FileName) as f:\n",
    "                return self.T == ''.join(f.readlines())\n",
    "        return False\n",
    "\n",
    "    def clear(self):\n",
    "        self.T = self.Header = self.Body = self.Scripts = ''"
   ]
  },
  {
   "cell_type": "code",
   "execution_count": null,
   "metadata": {},
   "outputs": [],
   "source": [
    "#| export\n",
    "ROOTHTML = make_root_html()"
   ]
  },
  {
   "cell_type": "code",
   "execution_count": null,
   "metadata": {},
   "outputs": [],
   "source": [
    "#| export\n",
    "def create_root(file_path: Path, title='', draw_opt='colz', pal=55, verbose=None):\n",
    "    f = File(str(file_path))\n",
    "    f.set_body(ROOTHTML.Body.format(pal=pal, plot_file='plots.root', plot_name=file_path.stem, draw_opt=draw_opt))\n",
    "    f.set_header(ROOTHTML.Header.format(title=f'{add_spaces(file_path.stem).title()} {title}'))\n",
    "    f.save(verbose=verbose)"
   ]
  },
  {
   "cell_type": "code",
   "execution_count": null,
   "metadata": {},
   "outputs": [],
   "source": [
    "#| hide\n",
    "from nbdev import *\n",
    "nbdev_export()"
   ]
  },
  {
   "cell_type": "code",
   "execution_count": null,
   "metadata": {},
   "outputs": [],
   "source": []
  }
 ],
 "metadata": {
  "jupytext": {
   "split_at_heading": true
  },
  "kernelspec": {
   "display_name": "Python 3 (ipykernel)",
   "language": "python",
   "name": "python3"
  }
 },
 "nbformat": 4,
 "nbformat_minor": 4
}
