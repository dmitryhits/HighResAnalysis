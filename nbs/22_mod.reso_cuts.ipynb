{
 "cells": [
  {
   "cell_type": "code",
   "execution_count": null,
   "metadata": {},
   "outputs": [],
   "source": [
    "#| default_exp mod.reso_cuts"
   ]
  },
  {
   "cell_type": "markdown",
   "metadata": {},
   "source": [
    "# Reference Detector Cuts\n",
    "> cuts for the reference detector (created on March 30th 2022 by M. Reichmann (remichae@phys.ethz.ch))"
   ]
  },
  {
   "cell_type": "code",
   "execution_count": null,
   "metadata": {},
   "outputs": [],
   "source": [
    "#| export\n",
    "#!/usr/bin/env python"
   ]
  },
  {
   "cell_type": "code",
   "execution_count": null,
   "metadata": {},
   "outputs": [
    {
     "name": "stdout",
     "output_type": "stream",
     "text": [
      "Welcome to JupyROOT 6.26/10\n"
     ]
    }
   ],
   "source": [
    "#| export\n",
    "\n",
    "from HighResAnalysis.mod.dut_cuts import DUTCut\n",
    "from numpy import array\n",
    "from copy import deepcopy"
   ]
  },
  {
   "cell_type": "code",
   "execution_count": null,
   "metadata": {},
   "outputs": [],
   "source": [
    "#| export\n",
    "class ResCut(DUTCut):\n",
    "    def __init__(self, parent):  # noqa\n",
    "\n",
    "        self.__dict__.update(parent.__dict__)\n",
    "        self.Cuts = deepcopy(parent.Cuts)\n",
    "        self.register('cs', self.make_cs(), 65, 'cluster size = 1')\n",
    "\n",
    "    def make_cross(self, col, row):\n",
    "        x, y = self.Ana.get_xy(cut=False)\n",
    "        return self.add(array((x == col) | (y == row)))\n",
    "\n",
    "    def make_col(self, col):\n",
    "        return self.add(array(self.Ana.get_x(cut=False) == col))\n",
    "\n",
    "    def make_row(self, row):\n",
    "        return self.add(array(self.Ana.get_y(cut=False) == row))"
   ]
  },
  {
   "cell_type": "code",
   "execution_count": null,
   "metadata": {},
   "outputs": [],
   "source": [
    "#| hide\n",
    "from nbdev import *\n",
    "nbdev_export()"
   ]
  }
 ],
 "metadata": {
  "jupytext": {
   "split_at_heading": true
  },
  "kernelspec": {
   "display_name": "python3",
   "language": "python",
   "name": "python3"
  }
 },
 "nbformat": 4,
 "nbformat_minor": 4
}
