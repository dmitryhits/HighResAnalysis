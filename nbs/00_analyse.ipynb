{
 "cells": [
  {
   "cell_type": "code",
   "execution_count": null,
   "metadata": {},
   "outputs": [],
   "source": [
    "#| default_exp analyse"
   ]
  },
  {
   "cell_type": "markdown",
   "metadata": {},
   "source": [
    "# Analysis script\n",
    "> small script to start high resolution analysis (created on March 18th 2022 by M. Reichmann (remichae@phys.ethz.ch))"
   ]
  },
  {
   "cell_type": "code",
   "execution_count": null,
   "metadata": {},
   "outputs": [],
   "source": [
    "#| export\n",
    "#!/usr/bin/env python"
   ]
  },
  {
   "cell_type": "code",
   "execution_count": null,
   "metadata": {},
   "outputs": [
    {
     "name": "stdout",
     "output_type": "stream",
     "text": [
      "Welcome to JupyROOT 6.28/00\n"
     ]
    }
   ],
   "source": [
    "#| export\n",
    "\n",
    "# from argparse import ArgumentParser\n",
    "from numpy import *\n",
    "from functools import partial\n",
    "from time import time\n",
    "\n",
    "import HighResAnalysis.convert\n",
    "from HighResAnalysis.plotting.draw import *  # noqa\n",
    "import HighResAnalysis.src.bins as bins  # noqa\n",
    "from HighResAnalysis.src.dut_analysis import DUTAnalysis, Analysis\n",
    "from HighResAnalysis.src.batch_analysis import BatchAnalysis\n",
    "from HighResAnalysis.src.run import load_nrs\n",
    "from HighResAnalysis.src.scan import Ensemble, Scan, VScan, TScan\n",
    "from HighResAnalysis.utility.utils import *  # noqa\n",
    "from HighResAnalysis.src.spreadsheet import make\n",
    "from HighResAnalysis.plotting.utils import load_json\n",
    "\n",
    "from fastcore.script import *"
   ]
  },
  {
   "cell_type": "code",
   "execution_count": null,
   "metadata": {},
   "outputs": [],
   "source": [
    "#| export\n",
    "t_start = time()"
   ]
  },
  {
   "cell_type": "code",
   "execution_count": null,
   "metadata": {},
   "outputs": [],
   "source": [
    "# #| export\n",
    "# aparser = ArgumentParser()\n",
    "# aparser.add_argument('run', nargs='?', default=Analysis.Config.get_value('data', 'default run'))\n",
    "# aparser.add_argument('dut', nargs='?', default=Analysis.Config.get_value('data', 'default dut', default=0), type=int)\n",
    "# aparser.add_argument('--batch', '-b', nargs='?', default=None, help='batch name')\n",
    "# aparser.add_argument('--testcampaign', '-tc', nargs='?', default=Analysis.find_testcampaign())\n",
    "# aparser.add_argument('--verbose', '-v', action='store_false')\n",
    "# aparser.add_argument('--test', '-t', action='store_true')\n",
    "# aparser.add_argument('--remove_meta', '-rm', action='store_true')\n",
    "# aparser.add_argument('--convert', '-c', action='store_true', help='removes current analysis files and reconverts from the raw files')\n",
    "# aparser.add_argument('--runplan', '-rp', nargs='?', default=None, help='create new runplan.json for beam test <YYYYMM>')"
   ]
  },
  {
   "cell_type": "code",
   "execution_count": null,
   "metadata": {},
   "outputs": [],
   "source": [
    "# #| export\n",
    "# args = aparser.parse_args()"
   ]
  },
  {
   "cell_type": "code",
   "execution_count": null,
   "metadata": {},
   "outputs": [],
   "source": [
    "#| export\n",
    "@call_parse\n",
    "def main(test:Param('test run, nothing is converted, just initialize the classes', action='store_false'),\n",
    "         verbose:Param('verbosity level', action='store_false'),\n",
    "         remove_meta:Param('removes meta files', action='store_false'),\n",
    "         convert:Param('removes current analysis files and reconverts from the raw files', action='store_false'),\n",
    "         test_campaign:Param('test campaign in the YYYYMM format, for example 201912', default=Analysis.find_testcampaign()),\n",
    "         run:str=Analysis.Config.get_value('data', 'default run'), # run number or batch id or scan id\n",
    "         dut:int=Analysis.Config.get_value('data', 'default dut', default=0), # DUT number in the telescope\n",
    "         batch:str=None, #batch name\n",
    "         run_plan:str=None, # create new runplan.json for beam test <YYYYMM>\n",
    "        ):\n",
    "    # ToDo: Check why sometimes it is 'False' could be name conflict test and test_campaign\n",
    "    if test_campaign == 'False':\n",
    "        test_campaign = Analysis.find_testcampaign() \n",
    "        print('test campaign was == \"False\":', test_campaign)\n",
    "    \n",
    "    if run_plan is not None:\n",
    "        make(run_plan)\n",
    "        exit(2)\n",
    "    \n",
    "    ensembles = load_json(Ensemble.FilePath)\n",
    "\n",
    "    if run in ensembles:\n",
    "        s = VScan if 'v-' in run else TScan if 't-' in run else Scan\n",
    "        z = s(run, verbose, test)\n",
    "\n",
    "    else:\n",
    "\n",
    "        ana = Analysis(test_campaign)\n",
    "        runs = load_nrs(ana.BeamTest.Path)\n",
    "        is_batch = not (run in runs and batch is None)\n",
    "        dut_ana = partial(BatchAnalysis, choose(batch, run)) if is_batch else partial(DUTAnalysis, run)\n",
    "        dut_ana = partial(dut_ana, dut, test_campaign)\n",
    "\n",
    "        if is_batch:\n",
    "            print('Doing batch')\n",
    "            bc = convert.BatchConvert(dut_ana.args[0], dut_ana.args[-1], verbose=False, force=False)\n",
    "            if convert:\n",
    "                remove_file(bc.Batch.FileName)\n",
    "                bc.remove_aux_files()\n",
    "            if not bc.Batch.FileName.exists() and not test:\n",
    "                bc.run()\n",
    "\n",
    "        if remove_meta:\n",
    "            print('Removing Meta')\n",
    "            z = dut_ana(verbose=False, test=True)\n",
    "            z.remove_metadata()\n",
    "\n",
    "        if convert and not is_batch:\n",
    "            print('Convert but not batch')\n",
    "            z = dut_ana(verbose=True, test=True)\n",
    "            z.remove_file()\n",
    "            z.Converter.remove_aux_files()\n",
    "\n",
    "        z = dut_ana(verbose=verbose, test=test)\n",
    "\n",
    "        # if not test and z.REF is not None and not z.has_alignment():\n",
    "        #     z.Residuals.align(_save=True)\n",
    "        #     z.REF.Residuals.align(_save=True)\n",
    "        #     z.remove_metadata()\n",
    "        #     z = DUTAnalysis(run, dut, test_campaign=test_campaign, single_mode=single_mode, verbose=verbose, test=test)\n",
    "\n",
    "        z.add_info(t_start, 'Init time:', prnt=True)\n",
    "        cut = z.Cut\n",
    "\n",
    "    # aliases\n",
    "    try:\n",
    "        d = z.Draw\n",
    "        dut = z.DUT\n",
    "        pl = dut.Plane\n",
    "        b = z.BeamTest\n",
    "        r = z.Run\n",
    "        c = z.Converter\n",
    "        raw = c.Raw\n",
    "        p = z.Proteus\n",
    "        if 'CERN' in str(c):\n",
    "            al = c.EventAlignment\n",
    "            adc = c.Adc2Vcal\n",
    "        cal = z.Calibration\n",
    "        cut = z.Cut\n",
    "        res = z.Residuals\n",
    "        tel = z.Tel\n",
    "        ref = z.REF\n",
    "        t = z.Tracks\n",
    "        e = z.Efficiency\n",
    "        re = ref.Efficiency\n",
    "        rsl = z.Resolution\n",
    "        cur = z.Currents \n",
    "        print(\"Everything is available and ready for analysis!\")\n",
    "    except:\n",
    "        print('Not everything is available :-(')"
   ]
  },
  {
   "cell_type": "code",
   "execution_count": null,
   "metadata": {},
   "outputs": [],
   "source": [
    "#| hide\n",
    "from nbdev import *\n",
    "nbdev_export()"
   ]
  },
  {
   "cell_type": "code",
   "execution_count": null,
   "metadata": {},
   "outputs": [],
   "source": []
  }
 ],
 "metadata": {
  "jupytext": {
   "split_at_heading": true
  },
  "kernelspec": {
   "display_name": "python3",
   "language": "python",
   "name": "python3"
  }
 },
 "nbformat": 4,
 "nbformat_minor": 4
}
