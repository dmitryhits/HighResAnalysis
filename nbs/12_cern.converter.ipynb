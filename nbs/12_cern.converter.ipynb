{
 "cells": [
  {
   "cell_type": "code",
   "execution_count": null,
   "metadata": {},
   "outputs": [],
   "source": [
    "#| default_exp cern.converter"
   ]
  },
  {
   "cell_type": "markdown",
   "metadata": {},
   "source": [
    "# CERN Converter\n",
    "> adds clustering and charge to trees created with pXar"
   ]
  },
  {
   "cell_type": "code",
   "execution_count": null,
   "metadata": {},
   "outputs": [],
   "source": [
    "#| export\n",
    "#!/usr/bin/env python"
   ]
  },
  {
   "cell_type": "code",
   "execution_count": null,
   "metadata": {},
   "outputs": [
    {
     "name": "stdout",
     "output_type": "stream",
     "text": [
      "Welcome to JupyROOT 6.26/10\n"
     ]
    }
   ],
   "source": [
    "#| export\n",
    "# created on August 30th 2018 by M. Reichmann (remichae@phys.ethz.ch)\n",
    "# --------------------------------------------------------\n",
    "from subprocess import check_call\n",
    "import uproot\n",
    "from fastcore.script import *\n",
    "\n",
    "from HighResAnalysis.plotting.utils import array, info as pinfo\n",
    "from HighResAnalysis.src.converter import Converter, DUT\n",
    "from HighResAnalysis.plotting.utils import download_file, remove_file, warning\n",
    "from HighResAnalysis.src.analysis import Analysis"
   ]
  },
  {
   "cell_type": "code",
   "execution_count": null,
   "metadata": {},
   "outputs": [],
   "source": [
    "#| export\n",
    "class CERNConverter(Converter):\n",
    "    \"\"\"\n",
    "    Converts the raw data taken at CERN in several steps to hdf5 files.\n",
    "    The raw data consists of one root file for the DUTs saved with pXar and a binary file from the KARTEL telescope.\n",
    "    STEP -2: raw -> root for tel          (judith)\n",
    "    STEP -1: adc -> vcal for DUTs         (python)\n",
    "    STEP  0: merge tel and dut root files (python)\\n\"\"\"\n",
    "    __doc__ += '\\n'.join(Converter.__doc__.split('\\n')[3:])\n",
    "\n",
    "    def __init__(self, data_dir, run_number, dut_name=None):\n",
    "\n",
    "        Converter.__init__(self, data_dir, run_number, dut_name)\n",
    "\n",
    "        self.Adc2Vcal = self.init_adc2vcal()\n",
    "        self.EventAlignment = self.init_event_alignment()\n",
    "        self.Ref = self.init_ref()\n",
    "\n",
    "    def proteus_raw_file_path(self):\n",
    "        return self.DataDir.joinpath('data', f'run{self.Run:04d}.root')\n",
    "\n",
    "    def trigger_info_file(self):\n",
    "        return self.Adc2Vcal.OutFilePath\n",
    "\n",
    "    @property\n",
    "    def first_steps(self):\n",
    "        return self.Raw.Steps + self.Adc2Vcal.Steps + self.Ref.Steps + [(self.merge_root_files, self.proteus_raw_file_path())]\n",
    "\n",
    "    @property\n",
    "    def aux_files(self):\n",
    "        return [self.Raw.OutFilePath, self.Adc2Vcal.OutFilePath, self.Ref.OutFilePath] + super().aux_files\n",
    "\n",
    "    @property\n",
    "    def raw_files(self):\n",
    "        return [self.EventAlignment.RefPath, self.Adc2Vcal.RawFilePath] + super().raw_files\n",
    "\n",
    "    def init_raw(self):\n",
    "        from cern.raw import CERNRaw\n",
    "        return CERNRaw(self)\n",
    "\n",
    "    def init_event_alignment(self):\n",
    "        from cern.event_alignment import EventAlignment\n",
    "        return EventAlignment(self.Raw)\n",
    "\n",
    "    def init_adc2vcal(self):\n",
    "        from cern.adc import Adc2Vcal\n",
    "        return Adc2Vcal(self)\n",
    "\n",
    "    def init_ref(self):\n",
    "        from cern.ref import RefConverter\n",
    "        return RefConverter(self)\n",
    "\n",
    "    def init_duts(self):\n",
    "        return super().init_duts() if self.DUTName is None else [DUT.from_name(self.DUTName, self.Run.Info)]\n",
    "\n",
    "    def merge_root_files(self, force=False):\n",
    "        \"\"\"merge the telescope and DUT root files\"\"\"\n",
    "        self.OutFilePath.parent.mkdir(exist_ok=True)\n",
    "        cmd = f'hadd{\" -f\" if force else \"\"} {self.proteus_raw_file_path()} {self.Raw.OutFilePath} {self.Ref.OutFilePath} {self.Adc2Vcal.OutFilePath}'\n",
    "        pinfo(cmd)\n",
    "        check_call(cmd, shell=True)\n",
    "\n",
    "    @property\n",
    "    def time_stamp_file(self):\n",
    "        return self.Adc2Vcal.OutFilePath\n",
    "\n",
    "    def get_time_stamp(self):\n",
    "        return (array(uproot.open(self.time_stamp_file)['Event']['TimeStamp']) / 1000).astype('d')\n",
    "\n",
    "    @property\n",
    "    def calibration(self):\n",
    "        from cern.calibration import CERNCalibration\n",
    "        return CERNCalibration"
   ]
  },
  {
   "cell_type": "code",
   "execution_count": null,
   "metadata": {},
   "outputs": [],
   "source": [
    "#| export\n",
    "@call_parse\n",
    "def main(run:int=232,\n",
    "        dut:int=0,\n",
    "        tc:str=None):\n",
    "    # from argparse import ArgumentParser\n",
    "    # parser = ArgumentParser()\n",
    "    # parser.add_argument('run', nargs='?', default=232)\n",
    "    # parser.add_argument('dut', nargs='?', default=0)\n",
    "    # parser.add_argument('-tc', nargs='?', default=None)\n",
    "    # pargs = parser.parse_args()\n",
    "\n",
    "    ana_ = Analysis(tc)\n",
    "    tc = ana_.BeamTest\n",
    "\n",
    "    z = (Converter if tc.Location == 'DESY' else CERNConverter).from_ana(run, dut, ana_)\n",
    "    r = z.Raw\n",
    "    p = z.Proteus\n",
    "    c = z.load_calibration()\n",
    "    rn = z.Run\n",
    "    draw = c.Draw\n",
    "    if hasattr(z, 'Adc2Vcal'):\n",
    "        adc = z.Adc2Vcal"
   ]
  },
  {
   "cell_type": "code",
   "execution_count": null,
   "metadata": {},
   "outputs": [],
   "source": [
    "#| hide\n",
    "from nbdev import *\n",
    "nbdev_export()"
   ]
  }
 ],
 "metadata": {
  "jupytext": {
   "split_at_heading": true
  },
  "kernelspec": {
   "display_name": "python3",
   "language": "python",
   "name": "python3"
  }
 },
 "nbformat": 4,
 "nbformat_minor": 4
}
